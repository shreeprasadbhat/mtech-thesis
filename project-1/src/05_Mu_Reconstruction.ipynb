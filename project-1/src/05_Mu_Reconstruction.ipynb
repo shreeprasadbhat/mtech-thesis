{
 "cells": [
  {
   "cell_type": "code",
   "execution_count": 3,
   "metadata": {},
   "outputs": [],
   "source": [
    "%%capture\n",
    "%run 00_Dataset.ipynb\n",
    "%run 01_Data_Preparation.ipynb\n",
    "%run 03_Model_RNN_BNN.ipynb"
   ]
  },
  {
   "cell_type": "code",
   "execution_count": 29,
   "metadata": {
    "id": "juGDb4igqrO8"
   },
   "outputs": [
    {
     "data": {
      "text/plain": [
       "<tensorflow.python.training.tracking.util.CheckpointLoadStatus at 0x7f463940d220>"
      ]
     },
     "execution_count": 29,
     "metadata": {},
     "output_type": "execute_result"
    }
   ],
   "source": [
    "model_u = model_uncertainity()\n",
    "model_u.compile(optimizer=tf.keras.optimizers.Adam(1e-3), loss=tf.keras.losses.MeanSquaredError(), metrics=tf.keras.metrics.RootMeanSquaredError())\n",
    "model_u.load_weights(os.path.join(out_dir,'cp.ckpt'))"
   ]
  },
  {
   "cell_type": "code",
   "execution_count": 51,
   "metadata": {},
   "outputs": [],
   "source": [
    "GRB = pd.read_csv(os.path.join('../data/','GRB','GRB_data_Wang_et_al_2011.csv'))"
   ]
  },
  {
   "cell_type": "code",
   "execution_count": 52,
   "metadata": {},
   "outputs": [],
   "source": [
    "zGRB_reconstruct = np.expand_dims(strided_app(GRB['z'].to_numpy(), 4, 4), axis=-1)"
   ]
  },
  {
   "cell_type": "code",
   "execution_count": 53,
   "metadata": {
    "id": "4762BngWRqjC"
   },
   "outputs": [],
   "source": [
    "\n",
    "mu_reconstruct_uncertainity = []\n",
    "n = 1000\n",
    "for i in range(n):\n",
    "    mu_reconstruct_uncertainity.append(model_u.predict(zGRB_reconstruct).flatten())\n",
    "\n",
    "mu_reconstruct_uncertainity = np.array(mu_reconstruct_uncertainity)\n"
   ]
  },
  {
   "cell_type": "code",
   "execution_count": 54,
   "metadata": {},
   "outputs": [],
   "source": [
    "# save output in a file\n",
    "mu = np.mean(mu_reconstruct_uncertainity, axis=0)\n",
    "mu_err = np.std(mu_reconstruct_uncertainity, axis=0)\n",
    "\n",
    "np.savetxt(os.path.join(out_dir,\"reconstruction.csv\"), np.array([mu, mu_err]), delimiter=\",\")"
   ]
  }
 ],
 "metadata": {
  "accelerator": "GPU",
  "colab": {
   "collapsed_sections": [],
   "name": "01-.ipynb",
   "provenance": []
  },
  "kernelspec": {
   "display_name": "Python 3 (ipykernel)",
   "language": "python",
   "name": "python3"
  },
  "language_info": {
   "codemirror_mode": {
    "name": "ipython",
    "version": 3
   },
   "file_extension": ".py",
   "mimetype": "text/x-python",
   "name": "python",
   "nbconvert_exporter": "python",
   "pygments_lexer": "ipython3",
   "version": "3.8.10"
  }
 },
 "nbformat": 4,
 "nbformat_minor": 1
}
