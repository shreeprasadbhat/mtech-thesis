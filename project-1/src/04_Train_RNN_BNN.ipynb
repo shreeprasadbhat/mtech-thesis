{
 "cells": [
  {
   "cell_type": "code",
   "execution_count": 21,
   "metadata": {
    "scrolled": true
   },
   "outputs": [],
   "source": [
    "%%capture\n",
    "%run 03_Model_RNN_BNN.ipynb"
   ]
  },
  {
   "cell_type": "code",
   "execution_count": 22,
   "metadata": {},
   "outputs": [],
   "source": [
    "BATCH_SIZE = 10"
   ]
  },
  {
   "cell_type": "markdown",
   "metadata": {},
   "source": [
    "# Input pipeline"
   ]
  },
  {
   "cell_type": "code",
   "execution_count": 23,
   "metadata": {
    "id": "1QB73FpeuaIn"
   },
   "outputs": [],
   "source": [
    "# prepare data generators using tf.data\n",
    "train_dataset = (\n",
    "    tf.data.Dataset.from_tensor_slices((z_train, mu_train))\n",
    "    #.shuffle(TRAIN_LENGTH, reshuffle_each_iteration=True)\n",
    "    .batch(BATCH_SIZE, drop_remainder=False)\n",
    ");\n",
    "\n",
    "#test_dataset = tf.data.Dataset.from_tensor_slices((z_test,mu_test)).batch(BATCH_SIZE);\n",
    "val_dataset = (\n",
    "    tf.data.Dataset.from_tensor_slices((z_val,mu_val))\n",
    "    .batch(BATCH_SIZE, drop_remainder=False)\n",
    ");"
   ]
  },
  {
   "cell_type": "markdown",
   "metadata": {},
   "source": [
    "# Train"
   ]
  },
  {
   "cell_type": "code",
   "execution_count": 24,
   "metadata": {
    "id": "XyvUcghbN8qH"
   },
   "outputs": [],
   "source": [
    "model = my_model(0.2)"
   ]
  },
  {
   "cell_type": "code",
   "execution_count": 25,
   "metadata": {
    "id": "8HG_PcTwa8hf"
   },
   "outputs": [],
   "source": [
    "model.compile(\n",
    "    optimizer = tf.keras.optimizers.Adam(1e-3), \n",
    "    loss = tf.keras.losses.MeanSquaredError(), \n",
    "    metrics = tf.keras.metrics.RootMeanSquaredError())"
   ]
  },
  {
   "cell_type": "code",
   "execution_count": 26,
   "metadata": {
    "colab": {
     "base_uri": "https://localhost:8080/",
     "height": 1000
    },
    "id": "OwkIVKJgdwfo",
    "outputId": "b996fbeb-5a38-467c-d3c5-b81d2c581e60",
    "scrolled": false
   },
   "outputs": [
    {
     "name": "stdout",
     "output_type": "stream",
     "text": [
      "Epoch 1/1000\n",
      " 8/14 [================>.............] - ETA: 0s - loss: 1.0246 - root_mean_squared_error: 1.0122 \n",
      "Epoch 00001: val_loss improved from inf to 0.82546, saving model to ../out/pantheon/lstm/cp.ckpt\n",
      "14/14 [==============================] - 3s 51ms/step - loss: 1.0477 - root_mean_squared_error: 1.0236 - val_loss: 0.8255 - val_root_mean_squared_error: 0.9085\n",
      "Epoch 2/1000\n",
      " 8/14 [================>.............] - ETA: 0s - loss: 0.8459 - root_mean_squared_error: 0.9197\n",
      "Epoch 00002: val_loss improved from 0.82546 to 0.64375, saving model to ../out/pantheon/lstm/cp.ckpt\n",
      "14/14 [==============================] - 0s 12ms/step - loss: 0.8654 - root_mean_squared_error: 0.9303 - val_loss: 0.6438 - val_root_mean_squared_error: 0.8023\n",
      "Epoch 3/1000\n",
      " 9/14 [==================>...........] - ETA: 0s - loss: 0.7266 - root_mean_squared_error: 0.8524\n",
      "Epoch 00003: val_loss improved from 0.64375 to 0.58398, saving model to ../out/pantheon/lstm/cp.ckpt\n",
      "14/14 [==============================] - 0s 10ms/step - loss: 0.7216 - root_mean_squared_error: 0.8495 - val_loss: 0.5840 - val_root_mean_squared_error: 0.7642\n",
      "Epoch 4/1000\n",
      " 9/14 [==================>...........] - ETA: 0s - loss: 0.6089 - root_mean_squared_error: 0.7803\n",
      "Epoch 00004: val_loss improved from 0.58398 to 0.50387, saving model to ../out/pantheon/lstm/cp.ckpt\n",
      "14/14 [==============================] - 0s 10ms/step - loss: 0.6152 - root_mean_squared_error: 0.7844 - val_loss: 0.5039 - val_root_mean_squared_error: 0.7098\n",
      "Epoch 5/1000\n",
      " 9/14 [==================>...........] - ETA: 0s - loss: 0.5318 - root_mean_squared_error: 0.7292\n",
      "Epoch 00005: val_loss improved from 0.50387 to 0.43040, saving model to ../out/pantheon/lstm/cp.ckpt\n",
      "14/14 [==============================] - 0s 10ms/step - loss: 0.5413 - root_mean_squared_error: 0.7357 - val_loss: 0.4304 - val_root_mean_squared_error: 0.6560\n",
      "Epoch 6/1000\n",
      " 9/14 [==================>...........] - ETA: 0s - loss: 0.4650 - root_mean_squared_error: 0.6819\n",
      "Epoch 00006: val_loss improved from 0.43040 to 0.37329, saving model to ../out/pantheon/lstm/cp.ckpt\n",
      "14/14 [==============================] - 0s 10ms/step - loss: 0.4822 - root_mean_squared_error: 0.6944 - val_loss: 0.3733 - val_root_mean_squared_error: 0.6110\n",
      "Epoch 7/1000\n",
      " 9/14 [==================>...........] - ETA: 0s - loss: 0.4172 - root_mean_squared_error: 0.6459\n",
      "Epoch 00007: val_loss improved from 0.37329 to 0.32851, saving model to ../out/pantheon/lstm/cp.ckpt\n",
      "14/14 [==============================] - 0s 11ms/step - loss: 0.4345 - root_mean_squared_error: 0.6592 - val_loss: 0.3285 - val_root_mean_squared_error: 0.5732\n",
      "Epoch 8/1000\n",
      " 9/14 [==================>...........] - ETA: 0s - loss: 0.3730 - root_mean_squared_error: 0.6107\n",
      "Epoch 00008: val_loss improved from 0.32851 to 0.28931, saving model to ../out/pantheon/lstm/cp.ckpt\n",
      "14/14 [==============================] - 0s 10ms/step - loss: 0.3914 - root_mean_squared_error: 0.6256 - val_loss: 0.2893 - val_root_mean_squared_error: 0.5379\n",
      "Epoch 9/1000\n",
      "10/14 [====================>.........] - ETA: 0s - loss: 0.3490 - root_mean_squared_error: 0.5908\n",
      "Epoch 00009: val_loss improved from 0.28931 to 0.25184, saving model to ../out/pantheon/lstm/cp.ckpt\n",
      "14/14 [==============================] - 0s 10ms/step - loss: 0.3540 - root_mean_squared_error: 0.5950 - val_loss: 0.2518 - val_root_mean_squared_error: 0.5018\n",
      "Epoch 10/1000\n",
      " 9/14 [==================>...........] - ETA: 0s - loss: 0.2933 - root_mean_squared_error: 0.5416\n",
      "Epoch 00010: val_loss improved from 0.25184 to 0.21347, saving model to ../out/pantheon/lstm/cp.ckpt\n",
      "14/14 [==============================] - 0s 10ms/step - loss: 0.3094 - root_mean_squared_error: 0.5563 - val_loss: 0.2135 - val_root_mean_squared_error: 0.4620\n",
      "Epoch 11/1000\n",
      " 9/14 [==================>...........] - ETA: 0s - loss: 0.2536 - root_mean_squared_error: 0.5036\n",
      "Epoch 00011: val_loss improved from 0.21347 to 0.17746, saving model to ../out/pantheon/lstm/cp.ckpt\n",
      "14/14 [==============================] - 0s 10ms/step - loss: 0.2687 - root_mean_squared_error: 0.5184 - val_loss: 0.1775 - val_root_mean_squared_error: 0.4213\n",
      "Epoch 12/1000\n",
      " 9/14 [==================>...........] - ETA: 0s - loss: 0.2159 - root_mean_squared_error: 0.4647\n",
      "Epoch 00012: val_loss improved from 0.17746 to 0.15483, saving model to ../out/pantheon/lstm/cp.ckpt\n",
      "14/14 [==============================] - 0s 10ms/step - loss: 0.2300 - root_mean_squared_error: 0.4795 - val_loss: 0.1548 - val_root_mean_squared_error: 0.3935\n",
      "Epoch 13/1000\n",
      "10/14 [====================>.........] - ETA: 0s - loss: 0.1962 - root_mean_squared_error: 0.4429\n",
      "Epoch 00013: val_loss improved from 0.15483 to 0.13836, saving model to ../out/pantheon/lstm/cp.ckpt\n",
      "14/14 [==============================] - 0s 10ms/step - loss: 0.1985 - root_mean_squared_error: 0.4455 - val_loss: 0.1384 - val_root_mean_squared_error: 0.3720\n",
      "Epoch 14/1000\n",
      "10/14 [====================>.........] - ETA: 0s - loss: 0.1862 - root_mean_squared_error: 0.4315\n",
      "Epoch 00014: val_loss improved from 0.13836 to 0.13203, saving model to ../out/pantheon/lstm/cp.ckpt\n",
      "14/14 [==============================] - 0s 10ms/step - loss: 0.1914 - root_mean_squared_error: 0.4374 - val_loss: 0.1320 - val_root_mean_squared_error: 0.3634\n",
      "Epoch 15/1000\n",
      " 9/14 [==================>...........] - ETA: 0s - loss: 0.1601 - root_mean_squared_error: 0.4002\n",
      "Epoch 00015: val_loss improved from 0.13203 to 0.12356, saving model to ../out/pantheon/lstm/cp.ckpt\n",
      "14/14 [==============================] - 0s 10ms/step - loss: 0.1807 - root_mean_squared_error: 0.4251 - val_loss: 0.1236 - val_root_mean_squared_error: 0.3515\n",
      "Epoch 16/1000\n",
      " 9/14 [==================>...........] - ETA: 0s - loss: 0.1614 - root_mean_squared_error: 0.4017\n",
      "Epoch 00016: val_loss improved from 0.12356 to 0.10527, saving model to ../out/pantheon/lstm/cp.ckpt\n",
      "14/14 [==============================] - 0s 11ms/step - loss: 0.1842 - root_mean_squared_error: 0.4291 - val_loss: 0.1053 - val_root_mean_squared_error: 0.3244\n",
      "Epoch 17/1000\n",
      " 9/14 [==================>...........] - ETA: 0s - loss: 0.1498 - root_mean_squared_error: 0.3870\n",
      "Epoch 00017: val_loss improved from 0.10527 to 0.09836, saving model to ../out/pantheon/lstm/cp.ckpt\n",
      "14/14 [==============================] - 0s 10ms/step - loss: 0.1636 - root_mean_squared_error: 0.4045 - val_loss: 0.0984 - val_root_mean_squared_error: 0.3136\n",
      "Epoch 18/1000\n",
      "10/14 [====================>.........] - ETA: 0s - loss: 0.1433 - root_mean_squared_error: 0.3785\n",
      "Epoch 00018: val_loss improved from 0.09836 to 0.09179, saving model to ../out/pantheon/lstm/cp.ckpt\n",
      "14/14 [==============================] - 0s 10ms/step - loss: 0.1488 - root_mean_squared_error: 0.3857 - val_loss: 0.0918 - val_root_mean_squared_error: 0.3030\n",
      "Epoch 19/1000\n",
      " 9/14 [==================>...........] - ETA: 0s - loss: 0.1320 - root_mean_squared_error: 0.3633\n",
      "Epoch 00019: val_loss improved from 0.09179 to 0.08666, saving model to ../out/pantheon/lstm/cp.ckpt\n",
      "14/14 [==============================] - 0s 10ms/step - loss: 0.1410 - root_mean_squared_error: 0.3756 - val_loss: 0.0867 - val_root_mean_squared_error: 0.2944\n",
      "Epoch 20/1000\n",
      " 9/14 [==================>...........] - ETA: 0s - loss: 0.1281 - root_mean_squared_error: 0.3580\n",
      "Epoch 00020: val_loss improved from 0.08666 to 0.08044, saving model to ../out/pantheon/lstm/cp.ckpt\n",
      "14/14 [==============================] - 0s 10ms/step - loss: 0.1384 - root_mean_squared_error: 0.3721 - val_loss: 0.0804 - val_root_mean_squared_error: 0.2836\n",
      "Epoch 21/1000\n",
      " 9/14 [==================>...........] - ETA: 0s - loss: 0.1149 - root_mean_squared_error: 0.3390\n",
      "Epoch 00021: val_loss improved from 0.08044 to 0.07489, saving model to ../out/pantheon/lstm/cp.ckpt\n",
      "14/14 [==============================] - 0s 10ms/step - loss: 0.1248 - root_mean_squared_error: 0.3533 - val_loss: 0.0749 - val_root_mean_squared_error: 0.2737\n",
      "Epoch 22/1000\n",
      " 9/14 [==================>...........] - ETA: 0s - loss: 0.1136 - root_mean_squared_error: 0.3370\n",
      "Epoch 00022: val_loss improved from 0.07489 to 0.07032, saving model to ../out/pantheon/lstm/cp.ckpt\n",
      "14/14 [==============================] - 0s 10ms/step - loss: 0.1204 - root_mean_squared_error: 0.3469 - val_loss: 0.0703 - val_root_mean_squared_error: 0.2652\n"
     ]
    },
    {
     "name": "stdout",
     "output_type": "stream",
     "text": [
      "Epoch 23/1000\n",
      " 9/14 [==================>...........] - ETA: 0s - loss: 0.1066 - root_mean_squared_error: 0.3265\n",
      "Epoch 00023: val_loss improved from 0.07032 to 0.06585, saving model to ../out/pantheon/lstm/cp.ckpt\n",
      "14/14 [==============================] - 0s 10ms/step - loss: 0.1137 - root_mean_squared_error: 0.3373 - val_loss: 0.0659 - val_root_mean_squared_error: 0.2566\n",
      "Epoch 24/1000\n",
      " 9/14 [==================>...........] - ETA: 0s - loss: 0.0979 - root_mean_squared_error: 0.3129\n",
      "Epoch 00024: val_loss improved from 0.06585 to 0.06265, saving model to ../out/pantheon/lstm/cp.ckpt\n",
      "14/14 [==============================] - 0s 10ms/step - loss: 0.1056 - root_mean_squared_error: 0.3250 - val_loss: 0.0626 - val_root_mean_squared_error: 0.2503\n",
      "Epoch 25/1000\n",
      " 9/14 [==================>...........] - ETA: 0s - loss: 0.0917 - root_mean_squared_error: 0.3028\n",
      "Epoch 00025: val_loss improved from 0.06265 to 0.05886, saving model to ../out/pantheon/lstm/cp.ckpt\n",
      "14/14 [==============================] - 0s 10ms/step - loss: 0.1015 - root_mean_squared_error: 0.3186 - val_loss: 0.0589 - val_root_mean_squared_error: 0.2426\n",
      "Epoch 26/1000\n",
      " 9/14 [==================>...........] - ETA: 0s - loss: 0.0863 - root_mean_squared_error: 0.2938\n",
      "Epoch 00026: val_loss improved from 0.05886 to 0.05536, saving model to ../out/pantheon/lstm/cp.ckpt\n",
      "14/14 [==============================] - 0s 11ms/step - loss: 0.0951 - root_mean_squared_error: 0.3084 - val_loss: 0.0554 - val_root_mean_squared_error: 0.2353\n",
      "Epoch 27/1000\n",
      " 9/14 [==================>...........] - ETA: 0s - loss: 0.0810 - root_mean_squared_error: 0.2846\n",
      "Epoch 00027: val_loss did not improve from 0.05536\n",
      "14/14 [==============================] - 0s 9ms/step - loss: 0.0917 - root_mean_squared_error: 0.3028 - val_loss: 0.0557 - val_root_mean_squared_error: 0.2360\n",
      "Epoch 28/1000\n",
      " 9/14 [==================>...........] - ETA: 0s - loss: 0.0814 - root_mean_squared_error: 0.2853\n",
      "Epoch 00028: val_loss improved from 0.05536 to 0.04886, saving model to ../out/pantheon/lstm/cp.ckpt\n",
      "14/14 [==============================] - 0s 10ms/step - loss: 0.0951 - root_mean_squared_error: 0.3084 - val_loss: 0.0489 - val_root_mean_squared_error: 0.2210\n",
      "Epoch 29/1000\n",
      " 9/14 [==================>...........] - ETA: 0s - loss: 0.0805 - root_mean_squared_error: 0.2837\n",
      "Epoch 00029: val_loss improved from 0.04886 to 0.04610, saving model to ../out/pantheon/lstm/cp.ckpt\n",
      "14/14 [==============================] - 0s 10ms/step - loss: 0.0939 - root_mean_squared_error: 0.3064 - val_loss: 0.0461 - val_root_mean_squared_error: 0.2147\n",
      "Epoch 30/1000\n",
      "10/14 [====================>.........] - ETA: 0s - loss: 0.0751 - root_mean_squared_error: 0.2740\n",
      "Epoch 00030: val_loss improved from 0.04610 to 0.04397, saving model to ../out/pantheon/lstm/cp.ckpt\n",
      "14/14 [==============================] - 0s 10ms/step - loss: 0.0758 - root_mean_squared_error: 0.2753 - val_loss: 0.0440 - val_root_mean_squared_error: 0.2097\n",
      "Epoch 31/1000\n",
      " 9/14 [==================>...........] - ETA: 0s - loss: 0.0693 - root_mean_squared_error: 0.2633\n",
      "Epoch 00031: val_loss improved from 0.04397 to 0.04390, saving model to ../out/pantheon/lstm/cp.ckpt\n",
      "14/14 [==============================] - 0s 10ms/step - loss: 0.0740 - root_mean_squared_error: 0.2721 - val_loss: 0.0439 - val_root_mean_squared_error: 0.2095\n",
      "Epoch 32/1000\n",
      " 9/14 [==================>...........] - ETA: 0s - loss: 0.0657 - root_mean_squared_error: 0.2563\n",
      "Epoch 00032: val_loss improved from 0.04390 to 0.04063, saving model to ../out/pantheon/lstm/cp.ckpt\n",
      "14/14 [==============================] - 0s 10ms/step - loss: 0.0711 - root_mean_squared_error: 0.2667 - val_loss: 0.0406 - val_root_mean_squared_error: 0.2016\n",
      "Epoch 33/1000\n",
      "10/14 [====================>.........] - ETA: 0s - loss: 0.0647 - root_mean_squared_error: 0.2543\n",
      "Epoch 00033: val_loss improved from 0.04063 to 0.03898, saving model to ../out/pantheon/lstm/cp.ckpt\n",
      "14/14 [==============================] - 0s 10ms/step - loss: 0.0669 - root_mean_squared_error: 0.2586 - val_loss: 0.0390 - val_root_mean_squared_error: 0.1974\n",
      "Epoch 34/1000\n",
      " 9/14 [==================>...........] - ETA: 0s - loss: 0.0630 - root_mean_squared_error: 0.2510\n",
      "Epoch 00034: val_loss improved from 0.03898 to 0.03781, saving model to ../out/pantheon/lstm/cp.ckpt\n",
      "14/14 [==============================] - 0s 10ms/step - loss: 0.0675 - root_mean_squared_error: 0.2597 - val_loss: 0.0378 - val_root_mean_squared_error: 0.1944\n",
      "Epoch 35/1000\n",
      " 9/14 [==================>...........] - ETA: 0s - loss: 0.0568 - root_mean_squared_error: 0.2383\n",
      "Epoch 00035: val_loss improved from 0.03781 to 0.03692, saving model to ../out/pantheon/lstm/cp.ckpt\n",
      "14/14 [==============================] - 0s 10ms/step - loss: 0.0578 - root_mean_squared_error: 0.2404 - val_loss: 0.0369 - val_root_mean_squared_error: 0.1922\n",
      "Epoch 36/1000\n",
      "10/14 [====================>.........] - ETA: 0s - loss: 0.0580 - root_mean_squared_error: 0.2408\n",
      "Epoch 00036: val_loss improved from 0.03692 to 0.03545, saving model to ../out/pantheon/lstm/cp.ckpt\n",
      "14/14 [==============================] - 0s 10ms/step - loss: 0.0598 - root_mean_squared_error: 0.2446 - val_loss: 0.0354 - val_root_mean_squared_error: 0.1883\n",
      "Epoch 37/1000\n",
      " 9/14 [==================>...........] - ETA: 0s - loss: 0.0528 - root_mean_squared_error: 0.2298\n",
      "Epoch 00037: val_loss improved from 0.03545 to 0.03428, saving model to ../out/pantheon/lstm/cp.ckpt\n",
      "14/14 [==============================] - 0s 11ms/step - loss: 0.0572 - root_mean_squared_error: 0.2392 - val_loss: 0.0343 - val_root_mean_squared_error: 0.1851\n",
      "Epoch 38/1000\n",
      " 9/14 [==================>...........] - ETA: 0s - loss: 0.0478 - root_mean_squared_error: 0.2187\n",
      "Epoch 00038: val_loss did not improve from 0.03428\n",
      "14/14 [==============================] - 0s 10ms/step - loss: 0.0555 - root_mean_squared_error: 0.2355 - val_loss: 0.0354 - val_root_mean_squared_error: 0.1883\n",
      "Epoch 39/1000\n",
      " 9/14 [==================>...........] - ETA: 0s - loss: 0.0486 - root_mean_squared_error: 0.2205\n",
      "Epoch 00039: val_loss did not improve from 0.03428\n",
      "14/14 [==============================] - 0s 10ms/step - loss: 0.0541 - root_mean_squared_error: 0.2326 - val_loss: 0.0367 - val_root_mean_squared_error: 0.1916\n",
      "Epoch 40/1000\n",
      " 9/14 [==================>...........] - ETA: 0s - loss: 0.0525 - root_mean_squared_error: 0.2291\n",
      "Epoch 00040: val_loss improved from 0.03428 to 0.03352, saving model to ../out/pantheon/lstm/cp.ckpt\n",
      "14/14 [==============================] - 0s 11ms/step - loss: 0.0602 - root_mean_squared_error: 0.2454 - val_loss: 0.0335 - val_root_mean_squared_error: 0.1831\n",
      "Epoch 41/1000\n",
      " 9/14 [==================>...........] - ETA: 0s - loss: 0.0509 - root_mean_squared_error: 0.2256\n",
      "Epoch 00041: val_loss improved from 0.03352 to 0.03060, saving model to ../out/pantheon/lstm/cp.ckpt\n",
      "14/14 [==============================] - 0s 11ms/step - loss: 0.0595 - root_mean_squared_error: 0.2439 - val_loss: 0.0306 - val_root_mean_squared_error: 0.1749\n",
      "Epoch 42/1000\n",
      " 9/14 [==================>...........] - ETA: 0s - loss: 0.0476 - root_mean_squared_error: 0.2182\n",
      "Epoch 00042: val_loss improved from 0.03060 to 0.02955, saving model to ../out/pantheon/lstm/cp.ckpt\n",
      "14/14 [==============================] - 0s 10ms/step - loss: 0.0522 - root_mean_squared_error: 0.2285 - val_loss: 0.0296 - val_root_mean_squared_error: 0.1719\n",
      "Epoch 43/1000\n",
      " 9/14 [==================>...........] - ETA: 0s - loss: 0.0480 - root_mean_squared_error: 0.2191\n",
      "Epoch 00043: val_loss improved from 0.02955 to 0.02930, saving model to ../out/pantheon/lstm/cp.ckpt\n",
      "14/14 [==============================] - 0s 10ms/step - loss: 0.0535 - root_mean_squared_error: 0.2314 - val_loss: 0.0293 - val_root_mean_squared_error: 0.1712\n",
      "Epoch 44/1000\n",
      " 9/14 [==================>...........] - ETA: 0s - loss: 0.0439 - root_mean_squared_error: 0.2096\n",
      "Epoch 00044: val_loss improved from 0.02930 to 0.02836, saving model to ../out/pantheon/lstm/cp.ckpt\n",
      "14/14 [==============================] - 0s 10ms/step - loss: 0.0469 - root_mean_squared_error: 0.2165 - val_loss: 0.0284 - val_root_mean_squared_error: 0.1684\n",
      "Epoch 45/1000\n",
      " 9/14 [==================>...........] - ETA: 0s - loss: 0.0447 - root_mean_squared_error: 0.2114\n",
      "Epoch 00045: val_loss improved from 0.02836 to 0.02696, saving model to ../out/pantheon/lstm/cp.ckpt\n",
      "14/14 [==============================] - 0s 10ms/step - loss: 0.0465 - root_mean_squared_error: 0.2156 - val_loss: 0.0270 - val_root_mean_squared_error: 0.1642\n"
     ]
    },
    {
     "name": "stdout",
     "output_type": "stream",
     "text": [
      "Epoch 46/1000\n",
      " 9/14 [==================>...........] - ETA: 0s - loss: 0.0429 - root_mean_squared_error: 0.2070\n",
      "Epoch 00046: val_loss improved from 0.02696 to 0.02672, saving model to ../out/pantheon/lstm/cp.ckpt\n",
      "14/14 [==============================] - 0s 10ms/step - loss: 0.0472 - root_mean_squared_error: 0.2172 - val_loss: 0.0267 - val_root_mean_squared_error: 0.1635\n",
      "Epoch 47/1000\n",
      " 9/14 [==================>...........] - ETA: 0s - loss: 0.0396 - root_mean_squared_error: 0.1989\n",
      "Epoch 00047: val_loss improved from 0.02672 to 0.02630, saving model to ../out/pantheon/lstm/cp.ckpt\n",
      "14/14 [==============================] - 0s 10ms/step - loss: 0.0461 - root_mean_squared_error: 0.2147 - val_loss: 0.0263 - val_root_mean_squared_error: 0.1622\n",
      "Epoch 48/1000\n",
      " 9/14 [==================>...........] - ETA: 0s - loss: 0.0424 - root_mean_squared_error: 0.2059\n",
      "Epoch 00048: val_loss improved from 0.02630 to 0.02598, saving model to ../out/pantheon/lstm/cp.ckpt\n",
      "14/14 [==============================] - 0s 11ms/step - loss: 0.0490 - root_mean_squared_error: 0.2214 - val_loss: 0.0260 - val_root_mean_squared_error: 0.1612\n",
      "Epoch 49/1000\n",
      " 9/14 [==================>...........] - ETA: 0s - loss: 0.0419 - root_mean_squared_error: 0.2046\n",
      "Epoch 00049: val_loss improved from 0.02598 to 0.02459, saving model to ../out/pantheon/lstm/cp.ckpt\n",
      "14/14 [==============================] - 0s 10ms/step - loss: 0.0457 - root_mean_squared_error: 0.2138 - val_loss: 0.0246 - val_root_mean_squared_error: 0.1568\n",
      "Epoch 50/1000\n",
      " 9/14 [==================>...........] - ETA: 0s - loss: 0.0394 - root_mean_squared_error: 0.1985\n",
      "Epoch 00050: val_loss did not improve from 0.02459\n",
      "14/14 [==============================] - 0s 10ms/step - loss: 0.0451 - root_mean_squared_error: 0.2123 - val_loss: 0.0246 - val_root_mean_squared_error: 0.1569\n",
      "Epoch 51/1000\n",
      " 9/14 [==================>...........] - ETA: 0s - loss: 0.0385 - root_mean_squared_error: 0.1962\n",
      "Epoch 00051: val_loss improved from 0.02459 to 0.02340, saving model to ../out/pantheon/lstm/cp.ckpt\n",
      "14/14 [==============================] - 0s 10ms/step - loss: 0.0401 - root_mean_squared_error: 0.2001 - val_loss: 0.0234 - val_root_mean_squared_error: 0.1530\n",
      "Epoch 52/1000\n",
      " 9/14 [==================>...........] - ETA: 0s - loss: 0.0397 - root_mean_squared_error: 0.1994\n",
      "Epoch 00052: val_loss improved from 0.02340 to 0.02281, saving model to ../out/pantheon/lstm/cp.ckpt\n",
      "14/14 [==============================] - 0s 10ms/step - loss: 0.0443 - root_mean_squared_error: 0.2104 - val_loss: 0.0228 - val_root_mean_squared_error: 0.1510\n",
      "Epoch 53/1000\n",
      "10/14 [====================>.........] - ETA: 0s - loss: 0.0374 - root_mean_squared_error: 0.1933\n",
      "Epoch 00053: val_loss improved from 0.02281 to 0.02234, saving model to ../out/pantheon/lstm/cp.ckpt\n",
      "14/14 [==============================] - 0s 10ms/step - loss: 0.0393 - root_mean_squared_error: 0.1983 - val_loss: 0.0223 - val_root_mean_squared_error: 0.1495\n",
      "Epoch 54/1000\n",
      " 9/14 [==================>...........] - ETA: 0s - loss: 0.0426 - root_mean_squared_error: 0.2065\n",
      "Epoch 00054: val_loss improved from 0.02234 to 0.02209, saving model to ../out/pantheon/lstm/cp.ckpt\n",
      "14/14 [==============================] - 0s 10ms/step - loss: 0.0430 - root_mean_squared_error: 0.2073 - val_loss: 0.0221 - val_root_mean_squared_error: 0.1486\n",
      "Epoch 55/1000\n",
      " 9/14 [==================>...........] - ETA: 0s - loss: 0.0375 - root_mean_squared_error: 0.1937\n",
      "Epoch 00055: val_loss did not improve from 0.02209\n",
      "14/14 [==============================] - 0s 9ms/step - loss: 0.0398 - root_mean_squared_error: 0.1995 - val_loss: 0.0231 - val_root_mean_squared_error: 0.1520\n",
      "Epoch 56/1000\n",
      " 9/14 [==================>...........] - ETA: 0s - loss: 0.0331 - root_mean_squared_error: 0.1818\n",
      "Epoch 00056: val_loss improved from 0.02209 to 0.02148, saving model to ../out/pantheon/lstm/cp.ckpt\n",
      "14/14 [==============================] - 0s 10ms/step - loss: 0.0372 - root_mean_squared_error: 0.1929 - val_loss: 0.0215 - val_root_mean_squared_error: 0.1465\n",
      "Epoch 57/1000\n",
      " 9/14 [==================>...........] - ETA: 0s - loss: 0.0325 - root_mean_squared_error: 0.1802\n",
      "Epoch 00057: val_loss improved from 0.02148 to 0.02013, saving model to ../out/pantheon/lstm/cp.ckpt\n",
      "14/14 [==============================] - 0s 10ms/step - loss: 0.0365 - root_mean_squared_error: 0.1910 - val_loss: 0.0201 - val_root_mean_squared_error: 0.1419\n",
      "Epoch 58/1000\n",
      " 9/14 [==================>...........] - ETA: 0s - loss: 0.0297 - root_mean_squared_error: 0.1722\n",
      "Epoch 00058: val_loss did not improve from 0.02013\n",
      "14/14 [==============================] - 0s 9ms/step - loss: 0.0352 - root_mean_squared_error: 0.1876 - val_loss: 0.0207 - val_root_mean_squared_error: 0.1440\n",
      "Epoch 59/1000\n",
      "10/14 [====================>.........] - ETA: 0s - loss: 0.0366 - root_mean_squared_error: 0.1914\n",
      "Epoch 00059: val_loss improved from 0.02013 to 0.01962, saving model to ../out/pantheon/lstm/cp.ckpt\n",
      "14/14 [==============================] - 0s 10ms/step - loss: 0.0387 - root_mean_squared_error: 0.1968 - val_loss: 0.0196 - val_root_mean_squared_error: 0.1401\n",
      "Epoch 60/1000\n",
      " 9/14 [==================>...........] - ETA: 0s - loss: 0.0339 - root_mean_squared_error: 0.1841\n",
      "Epoch 00060: val_loss did not improve from 0.01962\n",
      "14/14 [==============================] - 0s 9ms/step - loss: 0.0369 - root_mean_squared_error: 0.1921 - val_loss: 0.0199 - val_root_mean_squared_error: 0.1411\n",
      "Epoch 61/1000\n",
      "10/14 [====================>.........] - ETA: 0s - loss: 0.0368 - root_mean_squared_error: 0.1919\n",
      "Epoch 00061: val_loss improved from 0.01962 to 0.01824, saving model to ../out/pantheon/lstm/cp.ckpt\n",
      "14/14 [==============================] - 0s 10ms/step - loss: 0.0378 - root_mean_squared_error: 0.1945 - val_loss: 0.0182 - val_root_mean_squared_error: 0.1351\n",
      "Epoch 62/1000\n",
      "10/14 [====================>.........] - ETA: 0s - loss: 0.0314 - root_mean_squared_error: 0.1772\n",
      "Epoch 00062: val_loss did not improve from 0.01824\n",
      "14/14 [==============================] - 0s 9ms/step - loss: 0.0344 - root_mean_squared_error: 0.1855 - val_loss: 0.0186 - val_root_mean_squared_error: 0.1362\n",
      "Epoch 63/1000\n",
      "10/14 [====================>.........] - ETA: 0s - loss: 0.0323 - root_mean_squared_error: 0.1797\n",
      "Epoch 00063: val_loss improved from 0.01824 to 0.01815, saving model to ../out/pantheon/lstm/cp.ckpt\n",
      "14/14 [==============================] - 0s 9ms/step - loss: 0.0344 - root_mean_squared_error: 0.1854 - val_loss: 0.0182 - val_root_mean_squared_error: 0.1347\n",
      "Epoch 64/1000\n",
      "10/14 [====================>.........] - ETA: 0s - loss: 0.0335 - root_mean_squared_error: 0.1829\n",
      "Epoch 00064: val_loss improved from 0.01815 to 0.01683, saving model to ../out/pantheon/lstm/cp.ckpt\n",
      "14/14 [==============================] - 0s 9ms/step - loss: 0.0344 - root_mean_squared_error: 0.1855 - val_loss: 0.0168 - val_root_mean_squared_error: 0.1297\n",
      "Epoch 65/1000\n",
      "11/14 [======================>.......] - ETA: 0s - loss: 0.0334 - root_mean_squared_error: 0.1827\n",
      "Epoch 00065: val_loss did not improve from 0.01683\n",
      "14/14 [==============================] - 0s 8ms/step - loss: 0.0329 - root_mean_squared_error: 0.1814 - val_loss: 0.0172 - val_root_mean_squared_error: 0.1310\n",
      "Epoch 66/1000\n",
      "10/14 [====================>.........] - ETA: 0s - loss: 0.0304 - root_mean_squared_error: 0.1745\n",
      "Epoch 00066: val_loss did not improve from 0.01683\n",
      "14/14 [==============================] - 0s 9ms/step - loss: 0.0313 - root_mean_squared_error: 0.1769 - val_loss: 0.0183 - val_root_mean_squared_error: 0.1354\n",
      "Epoch 67/1000\n",
      "10/14 [====================>.........] - ETA: 0s - loss: 0.0280 - root_mean_squared_error: 0.1673\n",
      "Epoch 00067: val_loss improved from 0.01683 to 0.01581, saving model to ../out/pantheon/lstm/cp.ckpt\n",
      "14/14 [==============================] - 0s 10ms/step - loss: 0.0300 - root_mean_squared_error: 0.1732 - val_loss: 0.0158 - val_root_mean_squared_error: 0.1257\n",
      "Epoch 68/1000\n",
      "10/14 [====================>.........] - ETA: 0s - loss: 0.0250 - root_mean_squared_error: 0.1582\n",
      "Epoch 00068: val_loss improved from 0.01581 to 0.01569, saving model to ../out/pantheon/lstm/cp.ckpt\n",
      "14/14 [==============================] - 0s 10ms/step - loss: 0.0269 - root_mean_squared_error: 0.1641 - val_loss: 0.0157 - val_root_mean_squared_error: 0.1252\n"
     ]
    },
    {
     "name": "stdout",
     "output_type": "stream",
     "text": [
      "Epoch 69/1000\n",
      "10/14 [====================>.........] - ETA: 0s - loss: 0.0286 - root_mean_squared_error: 0.1692\n",
      "Epoch 00069: val_loss improved from 0.01569 to 0.01516, saving model to ../out/pantheon/lstm/cp.ckpt\n",
      "14/14 [==============================] - 0s 10ms/step - loss: 0.0288 - root_mean_squared_error: 0.1696 - val_loss: 0.0152 - val_root_mean_squared_error: 0.1231\n",
      "Epoch 70/1000\n",
      "10/14 [====================>.........] - ETA: 0s - loss: 0.0269 - root_mean_squared_error: 0.1640\n",
      "Epoch 00070: val_loss did not improve from 0.01516\n",
      "14/14 [==============================] - 0s 8ms/step - loss: 0.0290 - root_mean_squared_error: 0.1704 - val_loss: 0.0155 - val_root_mean_squared_error: 0.1247\n",
      "Epoch 71/1000\n",
      "10/14 [====================>.........] - ETA: 0s - loss: 0.0270 - root_mean_squared_error: 0.1643\n",
      "Epoch 00071: val_loss improved from 0.01516 to 0.01437, saving model to ../out/pantheon/lstm/cp.ckpt\n",
      "14/14 [==============================] - 0s 9ms/step - loss: 0.0282 - root_mean_squared_error: 0.1680 - val_loss: 0.0144 - val_root_mean_squared_error: 0.1199\n",
      "Epoch 72/1000\n",
      "11/14 [======================>.......] - ETA: 0s - loss: 0.0273 - root_mean_squared_error: 0.1651\n",
      "Epoch 00072: val_loss did not improve from 0.01437\n",
      "14/14 [==============================] - 0s 8ms/step - loss: 0.0283 - root_mean_squared_error: 0.1682 - val_loss: 0.0152 - val_root_mean_squared_error: 0.1231\n",
      "Epoch 73/1000\n",
      "11/14 [======================>.......] - ETA: 0s - loss: 0.0279 - root_mean_squared_error: 0.1670\n",
      "Epoch 00073: val_loss did not improve from 0.01437\n",
      "14/14 [==============================] - 0s 8ms/step - loss: 0.0273 - root_mean_squared_error: 0.1652 - val_loss: 0.0156 - val_root_mean_squared_error: 0.1248\n",
      "Epoch 74/1000\n",
      "10/14 [====================>.........] - ETA: 0s - loss: 0.0256 - root_mean_squared_error: 0.1599\n",
      "Epoch 00074: val_loss improved from 0.01437 to 0.01346, saving model to ../out/pantheon/lstm/cp.ckpt\n",
      "14/14 [==============================] - 0s 9ms/step - loss: 0.0282 - root_mean_squared_error: 0.1680 - val_loss: 0.0135 - val_root_mean_squared_error: 0.1160\n",
      "Epoch 75/1000\n",
      "11/14 [======================>.......] - ETA: 0s - loss: 0.0270 - root_mean_squared_error: 0.1644\n",
      "Epoch 00075: val_loss improved from 0.01346 to 0.01338, saving model to ../out/pantheon/lstm/cp.ckpt\n",
      "14/14 [==============================] - 0s 9ms/step - loss: 0.0268 - root_mean_squared_error: 0.1637 - val_loss: 0.0134 - val_root_mean_squared_error: 0.1157\n",
      "Epoch 76/1000\n",
      "10/14 [====================>.........] - ETA: 0s - loss: 0.0237 - root_mean_squared_error: 0.1539\n",
      "Epoch 00076: val_loss improved from 0.01338 to 0.01317, saving model to ../out/pantheon/lstm/cp.ckpt\n",
      "14/14 [==============================] - 0s 10ms/step - loss: 0.0246 - root_mean_squared_error: 0.1568 - val_loss: 0.0132 - val_root_mean_squared_error: 0.1148\n",
      "Epoch 77/1000\n",
      " 9/14 [==================>...........] - ETA: 0s - loss: 0.0237 - root_mean_squared_error: 0.1538\n",
      "Epoch 00077: val_loss improved from 0.01317 to 0.01268, saving model to ../out/pantheon/lstm/cp.ckpt\n",
      "14/14 [==============================] - 0s 10ms/step - loss: 0.0252 - root_mean_squared_error: 0.1588 - val_loss: 0.0127 - val_root_mean_squared_error: 0.1126\n",
      "Epoch 78/1000\n",
      " 9/14 [==================>...........] - ETA: 0s - loss: 0.0231 - root_mean_squared_error: 0.1521\n",
      "Epoch 00078: val_loss improved from 0.01268 to 0.01231, saving model to ../out/pantheon/lstm/cp.ckpt\n",
      "14/14 [==============================] - 0s 11ms/step - loss: 0.0266 - root_mean_squared_error: 0.1630 - val_loss: 0.0123 - val_root_mean_squared_error: 0.1110\n",
      "Epoch 79/1000\n",
      " 9/14 [==================>...........] - ETA: 0s - loss: 0.0226 - root_mean_squared_error: 0.1504\n",
      "Epoch 00079: val_loss improved from 0.01231 to 0.01180, saving model to ../out/pantheon/lstm/cp.ckpt\n",
      "14/14 [==============================] - 0s 10ms/step - loss: 0.0239 - root_mean_squared_error: 0.1545 - val_loss: 0.0118 - val_root_mean_squared_error: 0.1086\n",
      "Epoch 80/1000\n",
      " 9/14 [==================>...........] - ETA: 0s - loss: 0.0254 - root_mean_squared_error: 0.1592\n",
      "Epoch 00080: val_loss improved from 0.01180 to 0.01151, saving model to ../out/pantheon/lstm/cp.ckpt\n",
      "14/14 [==============================] - 0s 10ms/step - loss: 0.0261 - root_mean_squared_error: 0.1614 - val_loss: 0.0115 - val_root_mean_squared_error: 0.1073\n",
      "Epoch 81/1000\n",
      " 9/14 [==================>...........] - ETA: 0s - loss: 0.0184 - root_mean_squared_error: 0.1357\n",
      "Epoch 00081: val_loss did not improve from 0.01151\n",
      "14/14 [==============================] - 0s 9ms/step - loss: 0.0228 - root_mean_squared_error: 0.1509 - val_loss: 0.0118 - val_root_mean_squared_error: 0.1089\n",
      "Epoch 82/1000\n",
      " 9/14 [==================>...........] - ETA: 0s - loss: 0.0242 - root_mean_squared_error: 0.1557\n",
      "Epoch 00082: val_loss did not improve from 0.01151\n",
      "14/14 [==============================] - 0s 9ms/step - loss: 0.0253 - root_mean_squared_error: 0.1589 - val_loss: 0.0118 - val_root_mean_squared_error: 0.1086\n",
      "Epoch 83/1000\n",
      " 9/14 [==================>...........] - ETA: 0s - loss: 0.0218 - root_mean_squared_error: 0.1476\n",
      "Epoch 00083: val_loss improved from 0.01151 to 0.01105, saving model to ../out/pantheon/lstm/cp.ckpt\n",
      "14/14 [==============================] - 0s 10ms/step - loss: 0.0230 - root_mean_squared_error: 0.1517 - val_loss: 0.0110 - val_root_mean_squared_error: 0.1051\n",
      "Epoch 84/1000\n",
      "10/14 [====================>.........] - ETA: 0s - loss: 0.0205 - root_mean_squared_error: 0.1431\n",
      "Epoch 00084: val_loss did not improve from 0.01105\n",
      "14/14 [==============================] - 0s 8ms/step - loss: 0.0218 - root_mean_squared_error: 0.1476 - val_loss: 0.0116 - val_root_mean_squared_error: 0.1078\n",
      "Epoch 85/1000\n",
      "10/14 [====================>.........] - ETA: 0s - loss: 0.0253 - root_mean_squared_error: 0.1589\n",
      "Epoch 00085: val_loss improved from 0.01105 to 0.01076, saving model to ../out/pantheon/lstm/cp.ckpt\n",
      "14/14 [==============================] - 0s 9ms/step - loss: 0.0263 - root_mean_squared_error: 0.1623 - val_loss: 0.0108 - val_root_mean_squared_error: 0.1038\n",
      "Epoch 86/1000\n",
      "10/14 [====================>.........] - ETA: 0s - loss: 0.0186 - root_mean_squared_error: 0.1364\n",
      "Epoch 00086: val_loss improved from 0.01076 to 0.01054, saving model to ../out/pantheon/lstm/cp.ckpt\n",
      "14/14 [==============================] - 0s 9ms/step - loss: 0.0196 - root_mean_squared_error: 0.1399 - val_loss: 0.0105 - val_root_mean_squared_error: 0.1027\n",
      "Epoch 87/1000\n",
      "11/14 [======================>.......] - ETA: 0s - loss: 0.0206 - root_mean_squared_error: 0.1437\n",
      "Epoch 00087: val_loss improved from 0.01054 to 0.01021, saving model to ../out/pantheon/lstm/cp.ckpt\n",
      "14/14 [==============================] - 0s 9ms/step - loss: 0.0203 - root_mean_squared_error: 0.1425 - val_loss: 0.0102 - val_root_mean_squared_error: 0.1011\n",
      "Epoch 88/1000\n",
      "10/14 [====================>.........] - ETA: 0s - loss: 0.0203 - root_mean_squared_error: 0.1425\n",
      "Epoch 00088: val_loss improved from 0.01021 to 0.00979, saving model to ../out/pantheon/lstm/cp.ckpt\n",
      "14/14 [==============================] - 0s 10ms/step - loss: 0.0212 - root_mean_squared_error: 0.1455 - val_loss: 0.0098 - val_root_mean_squared_error: 0.0989\n",
      "Epoch 89/1000\n",
      " 9/14 [==================>...........] - ETA: 0s - loss: 0.0186 - root_mean_squared_error: 0.1362\n",
      "Epoch 00089: val_loss improved from 0.00979 to 0.00933, saving model to ../out/pantheon/lstm/cp.ckpt\n",
      "14/14 [==============================] - 0s 10ms/step - loss: 0.0193 - root_mean_squared_error: 0.1391 - val_loss: 0.0093 - val_root_mean_squared_error: 0.0966\n",
      "Epoch 90/1000\n",
      "10/14 [====================>.........] - ETA: 0s - loss: 0.0170 - root_mean_squared_error: 0.1305\n",
      "Epoch 00090: val_loss did not improve from 0.00933\n",
      "14/14 [==============================] - 0s 8ms/step - loss: 0.0175 - root_mean_squared_error: 0.1324 - val_loss: 0.0105 - val_root_mean_squared_error: 0.1027\n",
      "Epoch 91/1000\n",
      "11/14 [======================>.......] - ETA: 0s - loss: 0.0194 - root_mean_squared_error: 0.1392\n",
      "Epoch 00091: val_loss did not improve from 0.00933\n",
      "14/14 [==============================] - 0s 8ms/step - loss: 0.0202 - root_mean_squared_error: 0.1421 - val_loss: 0.0095 - val_root_mean_squared_error: 0.0973\n",
      "Epoch 92/1000\n"
     ]
    },
    {
     "name": "stdout",
     "output_type": "stream",
     "text": [
      "11/14 [======================>.......] - ETA: 0s - loss: 0.0186 - root_mean_squared_error: 0.1364\n",
      "Epoch 00092: val_loss improved from 0.00933 to 0.00891, saving model to ../out/pantheon/lstm/cp.ckpt\n",
      "14/14 [==============================] - 0s 9ms/step - loss: 0.0196 - root_mean_squared_error: 0.1401 - val_loss: 0.0089 - val_root_mean_squared_error: 0.0944\n",
      "Epoch 93/1000\n",
      "11/14 [======================>.......] - ETA: 0s - loss: 0.0198 - root_mean_squared_error: 0.1408\n",
      "Epoch 00093: val_loss did not improve from 0.00891\n",
      "14/14 [==============================] - 0s 8ms/step - loss: 0.0200 - root_mean_squared_error: 0.1413 - val_loss: 0.0092 - val_root_mean_squared_error: 0.0960\n",
      "Epoch 94/1000\n",
      "11/14 [======================>.......] - ETA: 0s - loss: 0.0193 - root_mean_squared_error: 0.1388\n",
      "Epoch 00094: val_loss improved from 0.00891 to 0.00835, saving model to ../out/pantheon/lstm/cp.ckpt\n",
      "14/14 [==============================] - 0s 9ms/step - loss: 0.0195 - root_mean_squared_error: 0.1395 - val_loss: 0.0084 - val_root_mean_squared_error: 0.0914\n",
      "Epoch 95/1000\n",
      "10/14 [====================>.........] - ETA: 0s - loss: 0.0161 - root_mean_squared_error: 0.1268\n",
      "Epoch 00095: val_loss did not improve from 0.00835\n",
      "14/14 [==============================] - 0s 8ms/step - loss: 0.0160 - root_mean_squared_error: 0.1267 - val_loss: 0.0092 - val_root_mean_squared_error: 0.0962\n",
      "Epoch 96/1000\n",
      "10/14 [====================>.........] - ETA: 0s - loss: 0.0183 - root_mean_squared_error: 0.1353\n",
      "Epoch 00096: val_loss did not improve from 0.00835\n",
      "14/14 [==============================] - 0s 8ms/step - loss: 0.0197 - root_mean_squared_error: 0.1405 - val_loss: 0.0105 - val_root_mean_squared_error: 0.1027\n",
      "Epoch 97/1000\n",
      "11/14 [======================>.......] - ETA: 0s - loss: 0.0214 - root_mean_squared_error: 0.1461\n",
      "Epoch 00097: val_loss did not improve from 0.00835\n",
      "14/14 [==============================] - 0s 8ms/step - loss: 0.0212 - root_mean_squared_error: 0.1455 - val_loss: 0.0084 - val_root_mean_squared_error: 0.0917\n",
      "Epoch 98/1000\n",
      "11/14 [======================>.......] - ETA: 0s - loss: 0.0217 - root_mean_squared_error: 0.1472\n",
      "Epoch 00098: val_loss did not improve from 0.00835\n",
      "14/14 [==============================] - 0s 8ms/step - loss: 0.0216 - root_mean_squared_error: 0.1468 - val_loss: 0.0107 - val_root_mean_squared_error: 0.1036\n",
      "Epoch 99/1000\n",
      "11/14 [======================>.......] - ETA: 0s - loss: 0.0233 - root_mean_squared_error: 0.1526\n",
      "Epoch 00099: val_loss did not improve from 0.00835\n",
      "14/14 [==============================] - 0s 8ms/step - loss: 0.0237 - root_mean_squared_error: 0.1541 - val_loss: 0.0090 - val_root_mean_squared_error: 0.0947\n",
      "Epoch 00099: early stopping\n"
     ]
    }
   ],
   "source": [
    "# Create a callback that saves the model's weights\n",
    "checkpoint = tf.keras.callbacks.ModelCheckpoint(\n",
    "    os.path.join(out_dir,'cp.ckpt'), \n",
    "    monitor='val_loss', \n",
    "    save_weights_only=True, \n",
    "    verbose=1, \n",
    "    save_best_only=True\n",
    "    )\n",
    "\n",
    "reduce_lr = tf.keras.callbacks.ReduceLROnPlateau(\n",
    "    monitor='val_loss', factor=0.1, patience=10, verbose=1,\n",
    "    mode='auto', min_delta=0.0001, cooldown=0, min_lr=1e-10\n",
    ")\n",
    "\n",
    "early_stopping = [\n",
    "    tf.keras.callbacks.EarlyStopping(\n",
    "        # Stop training when `val_loss` is no longer improving\n",
    "        monitor=\"val_loss\",\n",
    "        # \"no longer improving\" being defined as \"no better than 1e-2 less\"\n",
    "        min_delta=0,\n",
    "        # \"no longer improving\" being further defined as \"for at least 2 epochs\"\n",
    "        patience=5,\n",
    "        verbose=1\n",
    "    )\n",
    "]\n",
    "epochs = 1000\n",
    "model_history = model.fit(train_dataset,\n",
    "                          epochs = epochs,\n",
    "                          validation_data = val_dataset,\n",
    "                          callbacks = [checkpoint, early_stopping]\n",
    "                          )"
   ]
  },
  {
   "cell_type": "code",
   "execution_count": 180,
   "metadata": {},
   "outputs": [],
   "source": [
    "# model.save_weights(os.path.join(out_dir, 'cp.ckpt'))"
   ]
  },
  {
   "cell_type": "code",
   "execution_count": 27,
   "metadata": {
    "id": "cQpDS_YhajeP"
   },
   "outputs": [
    {
     "data": {
      "text/plain": [
       "<tensorflow.python.training.tracking.util.CheckpointLoadStatus at 0x7facc4751b20>"
      ]
     },
     "execution_count": 27,
     "metadata": {},
     "output_type": "execute_result"
    }
   ],
   "source": [
    "# load the best weights\n",
    "model.load_weights(os.path.join(out_dir, 'cp.ckpt'))"
   ]
  },
  {
   "cell_type": "code",
   "execution_count": 28,
   "metadata": {
    "colab": {
     "base_uri": "https://localhost:8080/",
     "height": 367
    },
    "id": "C9hur5ABktOI",
    "outputId": "ed88d296-d8b0-4a83-8e96-1937e4923c26"
   },
   "outputs": [
    {
     "data": {
      "image/png": "[encoded data removed]",
      "text/plain": [
       "<Figure size 1080x360 with 2 Axes>"
      ]
     },
     "metadata": {
      "needs_background": "light"
     },
     "output_type": "display_data"
    }
   ],
   "source": [
    "# plot epoch vs loss, epoch vs RMSE\n",
    "plt.figure(figsize=(15,5))\n",
    "\n",
    "epochs = len(model_history.history['loss'])\n",
    "\n",
    "plt.subplot(1,2,1)\n",
    "plt.plot(np.arange(0,epochs,1), model_history.history['loss'], '-', label='train_loss')\n",
    "plt.plot(np.arange(0,epochs,1), model_history.history['val_loss'], '--', label='val_loss', )\n",
    "plt.xlabel('epochs')\n",
    "plt.ylabel('MeanSquaredLoss')\n",
    "plt.title('epoch vs loss')\n",
    "plt.legend()\n",
    "\n",
    "plt.subplot(1,2,2)\n",
    "plt.plot(np.arange(0,epochs,1), model_history.history['root_mean_squared_error'], '-', label='train_rmse')\n",
    "plt.plot(np.arange(0,epochs,1), model_history.history['val_root_mean_squared_error'], '--', label='val_rmse')\n",
    "plt.xlabel('epochs')\n",
    "plt.ylabel('RMSE')\n",
    "plt.title('epoch vs RMSE')\n",
    "plt.legend()\n",
    "plt.savefig(os.path.join(out_dir,'05_epoch_vs_loss.png'))\n",
    "plt.show()"
   ]
  },
  {
   "cell_type": "code",
   "execution_count": 29,
   "metadata": {
    "id": "g__uGFnmkySW"
   },
   "outputs": [],
   "source": [
    "#model.evaluate(test_dataset)"
   ]
  },
  {
   "cell_type": "markdown",
   "metadata": {},
   "source": [
    "# Sample Reconstruction"
   ]
  },
  {
   "cell_type": "code",
   "execution_count": 30,
   "metadata": {
    "id": "tJl9Sye_UjUS"
   },
   "outputs": [],
   "source": [
    "# Reconstruct \n",
    "z_reconstruct = np.linspace(0,8.5,212)[::-1]\n",
    "z_reconstruct = np.expand_dims(strided_app(z_reconstruct, window_size, 1), axis=-1)"
   ]
  },
  {
   "cell_type": "code",
   "execution_count": 31,
   "metadata": {
    "id": "LxXx6jz0DMWc"
   },
   "outputs": [],
   "source": [
    "mu_reconstruct = model.predict(z_reconstruct, batch_size=BATCH_SIZE)\n",
    "mu_reconstruct = mu_scaler.inverse_transform(mu_reconstruct.reshape(-1,4))"
   ]
  },
  {
   "cell_type": "code",
   "execution_count": 32,
   "metadata": {
    "colab": {
     "base_uri": "https://localhost:8080/",
     "height": 295
    },
    "id": "3CK_F3C0IwR0",
    "outputId": "8377ff59-db1c-4cde-cfaa-37582da942e7"
   },
   "outputs": [
    {
     "data": {
      "image/png": "[encoded data removed]",
      "text/plain": [
       "<Figure size 432x288 with 1 Axes>"
      ]
     },
     "metadata": {
      "needs_background": "light"
     },
     "output_type": "display_data"
    }
   ],
   "source": [
    "# plot reconstructed z vs mu\n",
    "plt.plot(z_reconstruct[:,-1].flatten(), mu_reconstruct[:,-1].flatten(), '.',color='b');\n",
    "plt.xlabel('redshift(z)')\n",
    "plt.ylabel('distance modulus(mu)')\n",
    "plt.title('Distance modulus vs redshift')\n",
    "plt.savefig(os.path.join(out_dir,'06_sample_reconstruction.png'))\n",
    "plt.show()"
   ]
  },
  {
   "cell_type": "markdown",
   "metadata": {},
   "source": [
    "# Sample Reconstruction with uncertainity"
   ]
  },
  {
   "cell_type": "code",
   "execution_count": 33,
   "metadata": {
    "id": "KnX3h6Q53PzN"
   },
   "outputs": [],
   "source": [
    "model_u = model_uncertainity()"
   ]
  },
  {
   "cell_type": "code",
   "execution_count": 34,
   "metadata": {
    "id": "1z6LLXtS3GJo"
   },
   "outputs": [
    {
     "data": {
      "text/plain": [
       "<tensorflow.python.training.tracking.util.CheckpointLoadStatus at 0x7facc40ce0d0>"
      ]
     },
     "execution_count": 34,
     "metadata": {},
     "output_type": "execute_result"
    }
   ],
   "source": [
    "model_u.load_weights(os.path.join(out_dir,'cp.ckpt'))"
   ]
  },
  {
   "cell_type": "code",
   "execution_count": 35,
   "metadata": {
    "id": "5FyLzv8BaTyT"
   },
   "outputs": [],
   "source": [
    "model_u.compile(optimizer=tf.keras.optimizers.Adam(1e-3), loss=tf.keras.losses.MeanSquaredError(), metrics=tf.keras.metrics.RootMeanSquaredError())"
   ]
  },
  {
   "cell_type": "code",
   "execution_count": 36,
   "metadata": {},
   "outputs": [],
   "source": [
    "mu_reconstruct_uncertainity = []\n",
    "n = 1000\n",
    "for i in range(n):\n",
    "    y_pred = model_u.predict(z_reconstruct, batch_size=500)[:,-1].flatten()\n",
    "    y_pred = mu_scaler.inverse_transform(y_pred.reshape(-1,1))\n",
    "    mu_reconstruct_uncertainity.append(y_pred)"
   ]
  },
  {
   "cell_type": "code",
   "execution_count": 37,
   "metadata": {
    "id": "9LoRnjc3Erwt"
   },
   "outputs": [],
   "source": [
    "mu_reconstruct_uncertainity = np.array(mu_reconstruct_uncertainity)\n",
    "mean = np.mean(mu_reconstruct_uncertainity, axis=0).flatten()\n",
    "std_dev = np.std(mu_reconstruct_uncertainity, axis=0).flatten()"
   ]
  },
  {
   "cell_type": "code",
   "execution_count": 38,
   "metadata": {},
   "outputs": [],
   "source": [
    "# z_reconstruct = z_scaler.inverse_transform(z_reconstruct[:,-1]) "
   ]
  },
  {
   "cell_type": "code",
   "execution_count": 39,
   "metadata": {
    "colab": {
     "base_uri": "https://localhost:8080/",
     "height": 295
    },
    "id": "EZGXBrCkHl1E",
    "outputId": "1084c1fe-58bd-4444-d32b-0b86c43206c4",
    "scrolled": false
   },
   "outputs": [
    {
     "name": "stderr",
     "output_type": "stream",
     "text": [
      "/tmp/ipykernel_919186/3499777157.py:16: UserWarning: color is redundantly defined by the 'color' keyword argument and the fmt string \".r\" (-> color='r'). The keyword argument will take precedence.\n",
      "  plt.errorbar(df_SNe['zCMB'], df_SNe['MU'], yerr=df_SNe['MUERR'], fmt='.r', label=dataset+' Sample', color='r');\n"
     ]
    },
    {
     "data": {
      "image/png": "[encoded data removed]",
      "text/plain": [
       "<Figure size 432x288 with 1 Axes>"
      ]
     },
     "metadata": {
      "needs_background": "light"
     },
     "output_type": "display_data"
    }
   ],
   "source": [
    "#plt.figure(figsize=(10,7))\n",
    "plt.fill_between(\n",
    "    z_reconstruct[:,-1].flatten(), \n",
    "    mean-3*std_dev, mean+3*std_dev,\n",
    "    label='Reconstruction in 3 sigma',color='b', alpha=0.1)\n",
    "plt.fill_between(\n",
    "    z_reconstruct[:,-1].flatten(), \n",
    "    mean-2*std_dev, mean+2*std_dev,\n",
    "    label='Reconstruction in 2 sigma',color='b', alpha=0.3)\n",
    "plt.fill_between(\n",
    "    z_reconstruct[:,-1].flatten(), \n",
    "    mean-1*std_dev, mean+1*std_dev,\n",
    "    label='Reconstruction in 1 sigma', color='b', alpha=0.4)\n",
    "\n",
    "plt.plot(z_reconstruct[:,-1].flatten(), mean, label='Reconstruction', color='k')\n",
    "plt.errorbar(df_SNe['zCMB'], df_SNe['MU'], yerr=df_SNe['MUERR'], fmt='.r', label=dataset+' Sample', color='r');\n",
    "plt.xlabel('redshift(z)')\n",
    "plt.ylabel('distance modulus(mu)')\n",
    "plt.title('The reconstruction of distance moduli from '+dataset+' data ')\n",
    "plt.legend()\n",
    "plt.savefig(os.path.join(out_dir,'07_sample_reconstruction_with_uncertainity.png'))\n",
    "plt.show()"
   ]
  },
  {
   "cell_type": "code",
   "execution_count": null,
   "metadata": {},
   "outputs": [],
   "source": []
  }
 ],
 "metadata": {
  "accelerator": "GPU",
  "colab": {
   "collapsed_sections": [],
   "name": "01-.ipynb",
   "provenance": []
  },
  "kernelspec": {
   "display_name": "Python 3 (ipykernel)",
   "language": "python",
   "name": "python3"
  },
  "language_info": {
   "codemirror_mode": {
    "name": "ipython",
    "version": 3
   },
   "file_extension": ".py",
   "mimetype": "text/x-python",
   "name": "python",
   "nbconvert_exporter": "python",
   "pygments_lexer": "ipython3",
   "version": "3.8.10"
  }
 },
 "nbformat": 4,
 "nbformat_minor": 1
}
