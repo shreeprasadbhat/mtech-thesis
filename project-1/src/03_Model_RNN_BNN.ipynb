{
 "cells": [
  {
   "cell_type": "code",
   "execution_count": 1,
   "metadata": {
    "scrolled": false
   },
   "outputs": [],
   "source": [
    "%%capture\n",
    "%run 01_Data_Preparation.ipynb"
   ]
  },
  {
   "cell_type": "code",
   "execution_count": 2,
   "metadata": {
    "id": "l4arRW-xuX1Y"
   },
   "outputs": [],
   "source": [
    "import tensorflow as tf\n",
    "from tensorflow.keras import layers\n",
    "from tensorflow.keras import Model"
   ]
  },
  {
   "cell_type": "markdown",
   "metadata": {},
   "source": [
    "# Hyperparameters"
   ]
  },
  {
   "cell_type": "code",
   "execution_count": 13,
   "metadata": {
    "id": "pj6yXvOUgF7b"
   },
   "outputs": [],
   "source": [
    "# hyperparameters\n",
    "BATCH_SIZE = 10\n",
    "EPOCHS = 10000\n",
    "sequence_len = 4\n",
    "n_features = 1 \n",
    "# number of neurons in LSTM\n",
    "num_units = 100"
   ]
  },
  {
   "cell_type": "code",
   "execution_count": 4,
   "metadata": {
    "id": "Txye7FxNZd67"
   },
   "outputs": [],
   "source": [
    "TRAIN_LENGTH = len(z_train)\n",
    "#TEST_LENGTH = len(z_test)\n",
    "VAL_LENGTH = len(z_val)"
   ]
  },
  {
   "cell_type": "markdown",
   "metadata": {},
   "source": [
    "# RNN"
   ]
  },
  {
   "cell_type": "code",
   "execution_count": 12,
   "metadata": {
    "id": "-WElNajKNXME"
   },
   "outputs": [],
   "source": [
    "def my_model(dropout_p=0.2):\n",
    "\n",
    "    inputs = layers.Input((sequence_len, n_features))\n",
    "    x = inputs\n",
    "    #x = layers.Rescaling(scale = 1./10) (x)\n",
    "    x = layers.LSTM(100, return_sequences=True, stateful=False) (x)\n",
    "    #x = layers.BatchNormalization() (x)\n",
    "    x = layers.Dropout(dropout_p) (x)\n",
    "\n",
    "    x = layers.LSTM(100, return_sequences=True, stateful=False) (x)\n",
    "    #x = layers.BatchNormalization() (x)\n",
    "    x = layers.Dropout(dropout_p) (x)\n",
    "\n",
    "    x = layers.Dense(1) (x)\n",
    "    #x = layers.Rescaling(scale = 100.) (x)\n",
    "    return Model(inputs=inputs, outputs=x)"
   ]
  },
  {
   "cell_type": "code",
   "execution_count": 6,
   "metadata": {
    "id": "XyvUcghbN8qH"
   },
   "outputs": [
    {
     "name": "stderr",
     "output_type": "stream",
     "text": [
      "2022-04-28 05:53:47.193338: E tensorflow/stream_executor/cuda/cuda_driver.cc:271] failed call to cuInit: CUDA_ERROR_NO_DEVICE: no CUDA-capable device is detected\n",
      "2022-04-28 05:53:47.193373: I tensorflow/stream_executor/cuda/cuda_diagnostics.cc:156] kernel driver does not appear to be running on this host (spk): /proc/driver/nvidia/version does not exist\n",
      "2022-04-28 05:53:47.193829: I tensorflow/core/platform/cpu_feature_guard.cc:151] This TensorFlow binary is optimized with oneAPI Deep Neural Network Library (oneDNN) to use the following CPU instructions in performance-critical operations:  AVX2 FMA\n",
      "To enable them in other operations, rebuild TensorFlow with the appropriate compiler flags.\n"
     ]
    }
   ],
   "source": [
    "model = my_model()"
   ]
  },
  {
   "cell_type": "code",
   "execution_count": 7,
   "metadata": {
    "colab": {
     "base_uri": "https://localhost:8080/"
    },
    "id": "H0abBU0CSkE4",
    "outputId": "54d5c822-5e85-49d8-a8ab-bb2af9ccf4b5"
   },
   "outputs": [
    {
     "name": "stdout",
     "output_type": "stream",
     "text": [
      "Model: \"model\"\n",
      "_________________________________________________________________\n",
      " Layer (type)                Output Shape              Param #   \n",
      "=================================================================\n",
      " input_1 (InputLayer)        [(10, 4, 1)]              0         \n",
      "                                                                 \n",
      " lstm (LSTM)                 (10, 4, 100)              40800     \n",
      "                                                                 \n",
      " dropout (Dropout)           (10, 4, 100)              0         \n",
      "                                                                 \n",
      " lstm_1 (LSTM)               (10, 4, 100)              80400     \n",
      "                                                                 \n",
      " dropout_1 (Dropout)         (10, 4, 100)              0         \n",
      "                                                                 \n",
      " dense (Dense)               (10, 4, 1)                101       \n",
      "                                                                 \n",
      "=================================================================\n",
      "Total params: 121,301\n",
      "Trainable params: 121,301\n",
      "Non-trainable params: 0\n",
      "_________________________________________________________________\n"
     ]
    }
   ],
   "source": [
    "model.summary()"
   ]
  },
  {
   "cell_type": "markdown",
   "metadata": {},
   "source": [
    "# RNN + BNN"
   ]
  },
  {
   "cell_type": "code",
   "execution_count": 11,
   "metadata": {
    "id": "UwiE4JvfD-MO"
   },
   "outputs": [],
   "source": [
    "def model_uncertainity(dropout_p=0.2):\n",
    "\n",
    "    inputs = layers.Input((sequence_len, n_features))\n",
    "    x = inputs\n",
    "    #x = layers.Rescaling(scale = 1./10) (x)\n",
    "    x = layers.LSTM(100, return_sequences=True, stateful=False) (x)\n",
    "    #x = layers.BatchNormalization() (x)\n",
    "    x = layers.Dropout(dropout_p) (x, training=True)\n",
    "\n",
    "    x = layers.LSTM(100, return_sequences=True, stateful=False) (x)\n",
    "    #x = layers.BatchNormalization() (x)\n",
    "    x = layers.Dropout(dropout_p) (x, training=True)\n",
    "\n",
    "    x = layers.Dense(1) (x)\n",
    "    #x = layers.Rescaling(scale=100.)\n",
    "    return Model(inputs=inputs, outputs=x)"
   ]
  },
  {
   "cell_type": "code",
   "execution_count": 9,
   "metadata": {},
   "outputs": [],
   "source": [
    "model_u = model_uncertainity()"
   ]
  },
  {
   "cell_type": "code",
   "execution_count": null,
   "metadata": {
    "scrolled": true
   },
   "outputs": [],
   "source": [
    "model_u.summary()"
   ]
  }
 ],
 "metadata": {
  "accelerator": "GPU",
  "colab": {
   "collapsed_sections": [],
   "name": "01-.ipynb",
   "provenance": []
  },
  "kernelspec": {
   "display_name": "Python 3 (ipykernel)",
   "language": "python",
   "name": "python3"
  },
  "language_info": {
   "codemirror_mode": {
    "name": "ipython",
    "version": 3
   },
   "file_extension": ".py",
   "mimetype": "text/x-python",
   "name": "python",
   "nbconvert_exporter": "python",
   "pygments_lexer": "ipython3",
   "version": "3.8.10"
  }
 },
 "nbformat": 4,
 "nbformat_minor": 1
}
