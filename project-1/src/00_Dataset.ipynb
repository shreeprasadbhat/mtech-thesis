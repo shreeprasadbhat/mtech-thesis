{
 "cells": [
  {
   "cell_type": "code",
   "execution_count": 1,
   "id": "d41b0e9e",
   "metadata": {},
   "outputs": [],
   "source": [
    "#dataset = 'Pantheon'\n",
    "dataset = 'Union'"
   ]
  },
  {
   "cell_type": "code",
   "execution_count": 2,
   "id": "3e95b478",
   "metadata": {},
   "outputs": [],
   "source": [
    "if dataset == 'Pantheon':\n",
    "    filt_in_filepath = '../data/Pantheon/Binned_data/lcparam_DS17f.txt'\n",
    "    in_filepath = '../data/Pantheon/data_fitres/Ancillary_C11.FITRES'\n",
    "    out_dir = '../out/pantheon'\n",
    "else :\n",
    "    in_filepath = '../data/Union/union.txt'\n",
    "    out_dir = '../out/union'"
   ]
  },
  {
   "cell_type": "code",
   "execution_count": 3,
   "id": "401af559",
   "metadata": {},
   "outputs": [],
   "source": [
    "#modelname = 'gaussianprocess'\n",
    "modelname = 'lstm'"
   ]
  },
  {
   "cell_type": "code",
   "execution_count": null,
   "id": "c675ddf2",
   "metadata": {},
   "outputs": [],
   "source": [
    "if modelname == 'gaussianprocess':\n",
    "    out_dir += '/gp'\n",
    "else :\n",
    "    out_dir += '/lstm'"
   ]
  }
 ],
 "metadata": {
  "kernelspec": {
   "display_name": "Python 3 (ipykernel)",
   "language": "python",
   "name": "python3"
  },
  "language_info": {
   "codemirror_mode": {
    "name": "ipython",
    "version": 3
   },
   "file_extension": ".py",
   "mimetype": "text/x-python",
   "name": "python",
   "nbconvert_exporter": "python",
   "pygments_lexer": "ipython3",
   "version": "3.8.10"
  }
 },
 "nbformat": 4,
 "nbformat_minor": 5
}
