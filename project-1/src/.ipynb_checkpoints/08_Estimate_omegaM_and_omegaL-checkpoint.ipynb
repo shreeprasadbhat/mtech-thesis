{
 "cells": [
  {
   "cell_type": "code",
   "execution_count": 1,
   "metadata": {},
   "outputs": [],
   "source": [
    "%%capture\n",
    "%run 07_Recaliberate_DistanceModulus.ipynb"
   ]
  },
  {
   "cell_type": "code",
   "execution_count": 2,
   "metadata": {},
   "outputs": [
    {
     "name": "stdout",
     "output_type": "stream",
     "text": [
      "Requirement already satisfied: tqdm in /home/shreeprasad/.local/lib/python3.8/site-packages (4.64.0)\r\n"
     ]
    }
   ],
   "source": [
    "!pip install tqdm"
   ]
  },
  {
   "cell_type": "code",
   "execution_count": 3,
   "metadata": {},
   "outputs": [],
   "source": [
    "import emcee\n",
    "import corner\n",
    "import scipy\n",
    "import numpy as np"
   ]
  },
  {
   "cell_type": "code",
   "execution_count": 4,
   "metadata": {},
   "outputs": [],
   "source": [
    "#Omega_M = 0.286\n",
    "z = filtered_GRB['z'].to_numpy()\n",
    "H_0 = 70 # km/sec/Mpc\n",
    "c = 299792.458 # km/s"
   ]
  },
  {
   "cell_type": "code",
   "execution_count": 5,
   "metadata": {},
   "outputs": [],
   "source": [
    "# convert cm to Mpc\n",
    "d_L_ = d_L / (10**6 * 2.998e+18)\n",
    "d_L_err = d_L_err / (10**6 * 2.998e+18)"
   ]
  },
  {
   "cell_type": "code",
   "execution_count": 6,
   "metadata": {},
   "outputs": [
    {
     "name": "stdout",
     "output_type": "stream",
     "text": [
      "4597.358544821771\n"
     ]
    }
   ],
   "source": [
    "def HubbelParameter(z, Omega_M):\n",
    "    return H_0 * np.sqrt((Omega_M * (1+z)**3 + 1 - Omega_M))\n",
    "\n",
    "def integrand(z, Omega_M):\n",
    "    Hz = HubbelParameter(z, Omega_M)\n",
    "    return 1. / HubbelParameter(z, Omega_M)\n",
    "\n",
    "def luminosity_distance(z, Omega_M):\n",
    "    vfunc = np.vectorize(integrand)\n",
    "    r,e = scipy.integrate.quad(vfunc,0.1,z,args=(Omega_M))\n",
    "    return c * (1. + z) *r\n",
    "\n",
    "print(luminosity_distance(0.84, 0.286)) # sanity-check"
   ]
  },
  {
   "cell_type": "markdown",
   "metadata": {},
   "source": [
    "Below is shown estimating Omega in two different techniques\n",
    "1. using scipy.optimize.fsolve\n",
    "2. emcee tool"
   ]
  },
  {
   "cell_type": "markdown",
   "metadata": {},
   "source": [
    "## 1. scipy.optimize.solve"
   ]
  },
  {
   "cell_type": "code",
   "execution_count": 7,
   "metadata": {
    "scrolled": false
   },
   "outputs": [
    {
     "name": "stderr",
     "output_type": "stream",
     "text": [
      "/tmp/ipykernel_1707085/3141936610.py:2: RuntimeWarning: invalid value encountered in sqrt\n",
      "  return H_0 * np.sqrt((Omega_M * (1+z)**3 + 1 - Omega_M))\n",
      "/tmp/ipykernel_1707085/3141936610.py:10: IntegrationWarning: The occurrence of roundoff error is detected, which prevents \n",
      "  the requested tolerance from being achieved.  The error may be \n",
      "  underestimated.\n",
      "  r,e = scipy.integrate.quad(vfunc,0.1,z,args=(Omega_M))\n",
      "/home/shreeprasad/.local/lib/python3.8/site-packages/scipy/optimize/_minpack_py.py:175: RuntimeWarning: The iteration is not making good progress, as measured by the \n",
      "  improvement from the last ten iterations.\n",
      "  warnings.warn(msg, RuntimeWarning)\n"
     ]
    },
    {
     "name": "stdout",
     "output_type": "stream",
     "text": [
      "Omega_M 0.3261110344642144\n"
     ]
    }
   ],
   "source": [
    "def func(Omega_M, d_L, z) :\n",
    "    return d_L - luminosity_distance(z, Omega_M)\n",
    "\n",
    "vfunc = np.vectorize(func)\n",
    "\n",
    "Omega_M_guess = 0.27\n",
    "\n",
    "Omega_M_sum = 0\n",
    "count = 0;\n",
    "for i in range(d_L_.shape[0]):\n",
    "    Omega_M, = scipy.optimize.fsolve(func, Omega_M_guess, args=(d_L_[i], z[i]))\n",
    "    Omega_M_sum += Omega_M\n",
    "    count += 1\n",
    "\n",
    "Omega_M = Omega_M_sum / count\n",
    "print(f'Omega_M {Omega_M}')"
   ]
  },
  {
   "cell_type": "markdown",
   "metadata": {},
   "source": [
    "## 2. emcee"
   ]
  },
  {
   "cell_type": "code",
   "execution_count": 8,
   "metadata": {},
   "outputs": [],
   "source": [
    "def luminosity_distance(z, Omega_M):\n",
    "    vfunc = np.vectorize(integrand)\n",
    "    r  = [scipy.integrate.quad(vfunc,0,zarray,args=(Omega_M))[0] for zarray in z]\n",
    "    return c * (1. + z) *r"
   ]
  },
  {
   "cell_type": "code",
   "execution_count": 9,
   "metadata": {},
   "outputs": [],
   "source": [
    "import os\n",
    "\n",
    "os.environ[\"OMP_NUM_THREADS\"] = \"1\""
   ]
  },
  {
   "cell_type": "code",
   "execution_count": null,
   "metadata": {
    "id": "YDwUsf2BXR07"
   },
   "outputs": [
    {
     "name": "stderr",
     "output_type": "stream",
     "text": [
      "  3%|▋                        | 143/5000 [00:06<03:29, 23.17it/s]Process ForkPoolWorker-8:\n",
      "Process ForkPoolWorker-17:\n"
     ]
    },
    {
     "name": "stdout",
     "output_type": "stream",
     "text": [
      "emcee: Exception while calling your likelihood function:"
     ]
    },
    {
     "name": "stderr",
     "output_type": "stream",
     "text": [
      "Process ForkPoolWorker-4:\n"
     ]
    },
    {
     "name": "stdout",
     "output_type": "stream",
     "text": [
      "emcee: Exception while calling your likelihood function:emcee: Exception while calling your likelihood function:"
     ]
    },
    {
     "name": "stderr",
     "output_type": "stream",
     "text": [
      "Process ForkPoolWorker-31:\n",
      "Process ForkPoolWorker-19:\n",
      "Process ForkPoolWorker-25:\n",
      "Process ForkPoolWorker-3:\n",
      "Process ForkPoolWorker-13:\n",
      "Process ForkPoolWorker-27:\n",
      "Process ForkPoolWorker-6:\n"
     ]
    },
    {
     "name": "stdout",
     "output_type": "stream",
     "text": [
      "emcee: Exception while calling your likelihood function:"
     ]
    },
    {
     "name": "stderr",
     "output_type": "stream",
     "text": [
      "Process ForkPoolWorker-20:\n",
      "Process ForkPoolWorker-16:\n",
      "Process ForkPoolWorker-15:\n"
     ]
    },
    {
     "name": "stdout",
     "output_type": "stream",
     "text": [
      "emcee: Exception while calling your likelihood function:emcee: Exception while calling your likelihood function:emcee: Exception while calling your likelihood function:"
     ]
    },
    {
     "name": "stderr",
     "output_type": "stream",
     "text": [
      "Process ForkPoolWorker-2:\n",
      "Process ForkPoolWorker-1:\n",
      "Process ForkPoolWorker-32:\n",
      "Process ForkPoolWorker-5:\n",
      "Process ForkPoolWorker-7:\n"
     ]
    },
    {
     "name": "stdout",
     "output_type": "stream",
     "text": [
      "emcee: Exception while calling your likelihood function:"
     ]
    },
    {
     "name": "stderr",
     "output_type": "stream",
     "text": [
      "Process ForkPoolWorker-12:\n",
      "Process ForkPoolWorker-18:\n",
      "Process ForkPoolWorker-29:\n"
     ]
    },
    {
     "name": "stdout",
     "output_type": "stream",
     "text": [
      "emcee: Exception while calling your likelihood function:emcee: Exception while calling your likelihood function:\n"
     ]
    },
    {
     "name": "stderr",
     "output_type": "stream",
     "text": [
      "Traceback (most recent call last):\n"
     ]
    },
    {
     "name": "stdout",
     "output_type": "stream",
     "text": [
      "\n",
      "\n"
     ]
    },
    {
     "name": "stderr",
     "output_type": "stream",
     "text": [
      "Traceback (most recent call last):\n",
      "Traceback (most recent call last):\n",
      "Traceback (most recent call last):\n",
      "Traceback (most recent call last):\n"
     ]
    },
    {
     "name": "stdout",
     "output_type": "stream",
     "text": [
      "\n"
     ]
    },
    {
     "name": "stderr",
     "output_type": "stream",
     "text": [
      "Traceback (most recent call last):\n",
      "Traceback (most recent call last):\n"
     ]
    },
    {
     "name": "stdout",
     "output_type": "stream",
     "text": [
      "\n"
     ]
    },
    {
     "name": "stderr",
     "output_type": "stream",
     "text": [
      "Traceback (most recent call last):\n",
      "Traceback (most recent call last):\n"
     ]
    },
    {
     "name": "stdout",
     "output_type": "stream",
     "text": [
      "\n"
     ]
    },
    {
     "name": "stderr",
     "output_type": "stream",
     "text": [
      "Traceback (most recent call last):\n",
      "Traceback (most recent call last):\n",
      "Traceback (most recent call last):\n"
     ]
    },
    {
     "name": "stdout",
     "output_type": "stream",
     "text": [
      "\n",
      "\n"
     ]
    },
    {
     "name": "stderr",
     "output_type": "stream",
     "text": [
      "Traceback (most recent call last):\n",
      "Traceback (most recent call last):\n"
     ]
    },
    {
     "name": "stdout",
     "output_type": "stream",
     "text": [
      "\n",
      "  params:"
     ]
    },
    {
     "name": "stderr",
     "output_type": "stream",
     "text": [
      "  File \"/usr/lib/python3.8/multiprocessing/process.py\", line 315, in _bootstrap\n",
      "    self.run()\n",
      "Traceback (most recent call last):\n"
     ]
    },
    {
     "name": "stdout",
     "output_type": "stream",
     "text": [
      "\n"
     ]
    },
    {
     "name": "stderr",
     "output_type": "stream",
     "text": [
      "Traceback (most recent call last):\n"
     ]
    },
    {
     "name": "stdout",
     "output_type": "stream",
     "text": [
      "  params:"
     ]
    },
    {
     "name": "stderr",
     "output_type": "stream",
     "text": [
      "Traceback (most recent call last):\n",
      "Traceback (most recent call last):\n"
     ]
    },
    {
     "name": "stdout",
     "output_type": "stream",
     "text": [
      "  params:"
     ]
    },
    {
     "name": "stderr",
     "output_type": "stream",
     "text": [
      "Traceback (most recent call last):\n",
      "Traceback (most recent call last):\n",
      "  File \"/usr/lib/python3.8/multiprocessing/process.py\", line 315, in _bootstrap\n",
      "    self.run()\n",
      "  File \"/usr/lib/python3.8/multiprocessing/process.py\", line 315, in _bootstrap\n",
      "    self.run()\n",
      "  File \"/usr/lib/python3.8/multiprocessing/process.py\", line 315, in _bootstrap\n",
      "    self.run()\n",
      "  File \"/usr/lib/python3.8/multiprocessing/process.py\", line 315, in _bootstrap\n",
      "    self.run()\n"
     ]
    },
    {
     "name": "stdout",
     "output_type": "stream",
     "text": [
      "  params:"
     ]
    },
    {
     "name": "stderr",
     "output_type": "stream",
     "text": [
      "  File \"/usr/lib/python3.8/multiprocessing/process.py\", line 315, in _bootstrap\n",
      "    self.run()\n",
      "  File \"/usr/lib/python3.8/multiprocessing/process.py\", line 315, in _bootstrap\n",
      "    self.run()\n",
      "Traceback (most recent call last):\n",
      "  File \"/usr/lib/python3.8/multiprocessing/process.py\", line 315, in _bootstrap\n",
      "    self.run()\n",
      "  File \"/usr/lib/python3.8/multiprocessing/process.py\", line 315, in _bootstrap\n",
      "    self.run()\n"
     ]
    },
    {
     "name": "stdout",
     "output_type": "stream",
     "text": [
      "  params:"
     ]
    },
    {
     "name": "stderr",
     "output_type": "stream",
     "text": [
      "  File \"/usr/lib/python3.8/multiprocessing/process.py\", line 315, in _bootstrap\n",
      "    self.run()\n",
      "  File \"/usr/lib/python3.8/multiprocessing/process.py\", line 315, in _bootstrap\n",
      "    self.run()\n"
     ]
    },
    {
     "name": "stdout",
     "output_type": "stream",
     "text": [
      "  params:"
     ]
    },
    {
     "name": "stderr",
     "output_type": "stream",
     "text": [
      "  File \"/usr/lib/python3.8/multiprocessing/process.py\", line 315, in _bootstrap\n",
      "    self.run()\n"
     ]
    },
    {
     "name": "stdout",
     "output_type": "stream",
     "text": [
      "  params:  params:"
     ]
    },
    {
     "name": "stderr",
     "output_type": "stream",
     "text": [
      "  File \"/usr/lib/python3.8/multiprocessing/process.py\", line 315, in _bootstrap\n",
      "    self.run()\n",
      "  File \"/usr/lib/python3.8/multiprocessing/process.py\", line 315, in _bootstrap\n",
      "    self.run()\n"
     ]
    },
    {
     "name": "stdout",
     "output_type": "stream",
     "text": [
      "  params:"
     ]
    },
    {
     "name": "stderr",
     "output_type": "stream",
     "text": [
      "  File \"/usr/lib/python3.8/multiprocessing/process.py\", line 315, in _bootstrap\n",
      "    self.run()\n",
      "  File \"/usr/lib/python3.8/multiprocessing/process.py\", line 108, in run\n",
      "    self._target(*self._args, **self._kwargs)\n",
      "  File \"/usr/lib/python3.8/multiprocessing/process.py\", line 315, in _bootstrap\n",
      "    self.run()\n"
     ]
    },
    {
     "name": "stdout",
     "output_type": "stream",
     "text": [
      "   params: "
     ]
    },
    {
     "name": "stderr",
     "output_type": "stream",
     "text": [
      "  File \"/usr/lib/python3.8/multiprocessing/process.py\", line 315, in _bootstrap\n",
      "    self.run()\n"
     ]
    },
    {
     "name": "stdout",
     "output_type": "stream",
     "text": [
      " "
     ]
    },
    {
     "name": "stderr",
     "output_type": "stream",
     "text": [
      "  File \"/usr/lib/python3.8/multiprocessing/process.py\", line 315, in _bootstrap\n",
      "    self.run()\n",
      "  File \"/usr/lib/python3.8/multiprocessing/process.py\", line 108, in run\n",
      "    self._target(*self._args, **self._kwargs)\n",
      "  File \"/usr/lib/python3.8/multiprocessing/process.py\", line 315, in _bootstrap\n",
      "    self.run()\n",
      "  File \"/usr/lib/python3.8/multiprocessing/process.py\", line 108, in run\n",
      "    self._target(*self._args, **self._kwargs)\n",
      "  File \"/usr/lib/python3.8/multiprocessing/process.py\", line 108, in run\n",
      "    self._target(*self._args, **self._kwargs)\n",
      "  File \"/usr/lib/python3.8/multiprocessing/process.py\", line 108, in run\n",
      "    self._target(*self._args, **self._kwargs)\n"
     ]
    },
    {
     "name": "stdout",
     "output_type": "stream",
     "text": [
      " "
     ]
    },
    {
     "name": "stderr",
     "output_type": "stream",
     "text": [
      "  File \"/usr/lib/python3.8/multiprocessing/process.py\", line 108, in run\n",
      "    self._target(*self._args, **self._kwargs)\n",
      "  File \"/usr/lib/python3.8/multiprocessing/process.py\", line 108, in run\n",
      "    self._target(*self._args, **self._kwargs)\n",
      "  File \"/usr/lib/python3.8/multiprocessing/process.py\", line 315, in _bootstrap\n",
      "    self.run()\n",
      "  File \"/usr/lib/python3.8/multiprocessing/process.py\", line 108, in run\n",
      "    self._target(*self._args, **self._kwargs)\n"
     ]
    },
    {
     "name": "stdout",
     "output_type": "stream",
     "text": [
      " "
     ]
    },
    {
     "name": "stderr",
     "output_type": "stream",
     "text": [
      "  File \"/usr/lib/python3.8/multiprocessing/process.py\", line 108, in run\n",
      "    self._target(*self._args, **self._kwargs)\n",
      "  File \"/usr/lib/python3.8/multiprocessing/process.py\", line 108, in run\n",
      "    self._target(*self._args, **self._kwargs)\n",
      "  File \"/usr/lib/python3.8/multiprocessing/process.py\", line 108, in run\n",
      "    self._target(*self._args, **self._kwargs)\n",
      "  File \"/usr/lib/python3.8/multiprocessing/process.py\", line 108, in run\n",
      "    self._target(*self._args, **self._kwargs)\n"
     ]
    },
    {
     "name": "stdout",
     "output_type": "stream",
     "text": [
      "   "
     ]
    },
    {
     "name": "stderr",
     "output_type": "stream",
     "text": [
      "  File \"/usr/lib/python3.8/multiprocessing/process.py\", line 108, in run\n",
      "    self._target(*self._args, **self._kwargs)\n"
     ]
    },
    {
     "name": "stdout",
     "output_type": "stream",
     "text": [
      " "
     ]
    },
    {
     "name": "stderr",
     "output_type": "stream",
     "text": [
      "  File \"/usr/lib/python3.8/multiprocessing/process.py\", line 108, in run\n",
      "    self._target(*self._args, **self._kwargs)\n",
      "  File \"/usr/lib/python3.8/multiprocessing/pool.py\", line 114, in worker\n",
      "    task = get()\n"
     ]
    },
    {
     "name": "stdout",
     "output_type": "stream",
     "text": [
      " "
     ]
    },
    {
     "name": "stderr",
     "output_type": "stream",
     "text": [
      "  File \"/usr/lib/python3.8/multiprocessing/process.py\", line 315, in _bootstrap\n",
      "    self.run()\n",
      "  File \"/usr/lib/python3.8/multiprocessing/process.py\", line 108, in run\n",
      "    self._target(*self._args, **self._kwargs)\n",
      "  File \"/usr/lib/python3.8/multiprocessing/pool.py\", line 114, in worker\n",
      "    task = get()\n"
     ]
    },
    {
     "name": "stdout",
     "output_type": "stream",
     "text": [
      "[ 0.33295003 -2.17687322]"
     ]
    },
    {
     "name": "stderr",
     "output_type": "stream",
     "text": [
      "  File \"/usr/lib/python3.8/multiprocessing/process.py\", line 108, in run\n",
      "    self._target(*self._args, **self._kwargs)\n",
      "  File \"/usr/lib/python3.8/multiprocessing/process.py\", line 108, in run\n",
      "    self._target(*self._args, **self._kwargs)\n",
      "  File \"/usr/lib/python3.8/multiprocessing/pool.py\", line 114, in worker\n",
      "    task = get()\n"
     ]
    },
    {
     "name": "stdout",
     "output_type": "stream",
     "text": [
      "[ 0.32497816 -2.46822779]"
     ]
    },
    {
     "name": "stderr",
     "output_type": "stream",
     "text": [
      "  File \"/usr/lib/python3.8/multiprocessing/pool.py\", line 114, in worker\n",
      "    task = get()\n",
      "  File \"/usr/lib/python3.8/multiprocessing/pool.py\", line 114, in worker\n",
      "    task = get()\n",
      "  File \"/usr/lib/python3.8/multiprocessing/pool.py\", line 114, in worker\n",
      "    task = get()\n",
      "  File \"/usr/lib/python3.8/multiprocessing/process.py\", line 108, in run\n",
      "    self._target(*self._args, **self._kwargs)\n",
      "  File \"/usr/lib/python3.8/multiprocessing/pool.py\", line 114, in worker\n",
      "    task = get()\n",
      "  File \"/usr/lib/python3.8/multiprocessing/pool.py\", line 114, in worker\n",
      "    task = get()\n",
      "  File \"/usr/lib/python3.8/multiprocessing/pool.py\", line 114, in worker\n",
      "    task = get()\n",
      "  File \"/usr/lib/python3.8/multiprocessing/pool.py\", line 114, in worker\n",
      "    task = get()\n"
     ]
    },
    {
     "name": "stdout",
     "output_type": "stream",
     "text": [
      "[ 0.43091875 -1.86421517]"
     ]
    },
    {
     "name": "stderr",
     "output_type": "stream",
     "text": [
      "  File \"/usr/lib/python3.8/multiprocessing/pool.py\", line 114, in worker\n",
      "    task = get()\n"
     ]
    },
    {
     "name": "stdout",
     "output_type": "stream",
     "text": [
      "[ 0.31308217 -2.2385365 ]"
     ]
    },
    {
     "name": "stderr",
     "output_type": "stream",
     "text": [
      "  File \"/usr/lib/python3.8/multiprocessing/pool.py\", line 114, in worker\n",
      "    task = get()\n"
     ]
    },
    {
     "name": "stdout",
     "output_type": "stream",
     "text": [
      "[ 0.39145893 -2.1366311 ]"
     ]
    },
    {
     "name": "stderr",
     "output_type": "stream",
     "text": [
      "  File \"/usr/lib/python3.8/multiprocessing/pool.py\", line 114, in worker\n",
      "    task = get()\n",
      "  File \"/usr/lib/python3.8/multiprocessing/pool.py\", line 114, in worker\n",
      "    task = get()\n"
     ]
    },
    {
     "name": "stdout",
     "output_type": "stream",
     "text": [
      "[ 0.31821543 -2.33286109][ 0.37833099 -2.26564924][ 0.54622792 -4.3296437 ]"
     ]
    },
    {
     "name": "stderr",
     "output_type": "stream",
     "text": [
      "  File \"/usr/lib/python3.8/multiprocessing/queues.py\", line 355, in get\n",
      "    with self._rlock:\n",
      "  File \"/usr/lib/python3.8/multiprocessing/process.py\", line 108, in run\n",
      "    self._target(*self._args, **self._kwargs)\n",
      "  File \"/usr/lib/python3.8/multiprocessing/pool.py\", line 114, in worker\n",
      "    task = get()\n",
      "  File \"/usr/lib/python3.8/multiprocessing/queues.py\", line 355, in get\n",
      "    with self._rlock:\n"
     ]
    },
    {
     "name": "stdout",
     "output_type": "stream",
     "text": [
      "[ 0.3830977  -2.34682521]\n"
     ]
    },
    {
     "name": "stderr",
     "output_type": "stream",
     "text": [
      "  File \"/usr/lib/python3.8/multiprocessing/queues.py\", line 355, in get\n",
      "    with self._rlock:\n",
      "  File \"/usr/lib/python3.8/multiprocessing/pool.py\", line 114, in worker\n",
      "    task = get()\n",
      "  File \"/usr/lib/python3.8/multiprocessing/pool.py\", line 114, in worker\n",
      "    task = get()\n"
     ]
    },
    {
     "name": "stdout",
     "output_type": "stream",
     "text": [
      "[ 0.72074355 -3.32367603]\n"
     ]
    },
    {
     "name": "stderr",
     "output_type": "stream",
     "text": [
      "  File \"/usr/lib/python3.8/multiprocessing/pool.py\", line 114, in worker\n",
      "    task = get()\n",
      "  File \"/usr/lib/python3.8/multiprocessing/queues.py\", line 355, in get\n",
      "    with self._rlock:\n",
      "  File \"/usr/lib/python3.8/multiprocessing/queues.py\", line 355, in get\n",
      "    with self._rlock:\n",
      "  File \"/usr/lib/python3.8/multiprocessing/queues.py\", line 355, in get\n",
      "    with self._rlock:\n",
      "  File \"/usr/lib/python3.8/multiprocessing/queues.py\", line 355, in get\n",
      "    with self._rlock:\n",
      "  File \"/usr/lib/python3.8/multiprocessing/queues.py\", line 355, in get\n",
      "    with self._rlock:\n",
      "  File \"/usr/lib/python3.8/multiprocessing/queues.py\", line 356, in get\n",
      "    res = self._reader.recv_bytes()\n",
      "  File \"/usr/lib/python3.8/multiprocessing/queues.py\", line 355, in get\n",
      "    with self._rlock:\n"
     ]
    },
    {
     "name": "stdout",
     "output_type": "stream",
     "text": [
      "\n",
      "\n",
      "\n",
      "\n"
     ]
    },
    {
     "name": "stderr",
     "output_type": "stream",
     "text": [
      "  File \"/usr/lib/python3.8/multiprocessing/queues.py\", line 355, in get\n",
      "    with self._rlock:\n",
      "  File \"/usr/lib/python3.8/multiprocessing/queues.py\", line 355, in get\n",
      "    with self._rlock:\n"
     ]
    },
    {
     "name": "stdout",
     "output_type": "stream",
     "text": [
      "\n"
     ]
    },
    {
     "name": "stderr",
     "output_type": "stream",
     "text": [
      "  File \"/usr/lib/python3.8/multiprocessing/pool.py\", line 114, in worker\n",
      "    task = get()\n",
      "  File \"/usr/lib/python3.8/multiprocessing/queues.py\", line 355, in get\n",
      "    with self._rlock:\n",
      "  File \"/usr/lib/python3.8/multiprocessing/synchronize.py\", line 95, in __enter__\n",
      "    return self._semlock.__enter__()\n",
      "  File \"/usr/lib/python3.8/multiprocessing/synchronize.py\", line 95, in __enter__\n",
      "    return self._semlock.__enter__()\n"
     ]
    },
    {
     "name": "stdout",
     "output_type": "stream",
     "text": [
      "  args:\n"
     ]
    },
    {
     "name": "stderr",
     "output_type": "stream",
     "text": [
      "  File \"/usr/lib/python3.8/multiprocessing/queues.py\", line 355, in get\n",
      "    with self._rlock:\n"
     ]
    },
    {
     "name": "stdout",
     "output_type": "stream",
     "text": [
      "\n"
     ]
    },
    {
     "name": "stderr",
     "output_type": "stream",
     "text": [
      "  File \"/usr/lib/python3.8/multiprocessing/queues.py\", line 355, in get\n",
      "    with self._rlock:\n"
     ]
    },
    {
     "name": "stdout",
     "output_type": "stream",
     "text": [
      "  args:"
     ]
    },
    {
     "name": "stderr",
     "output_type": "stream",
     "text": [
      "  File \"/usr/lib/python3.8/multiprocessing/synchronize.py\", line 95, in __enter__\n",
      "    return self._semlock.__enter__()\n",
      "  File \"/usr/lib/python3.8/multiprocessing/synchronize.py\", line 95, in __enter__\n",
      "    return self._semlock.__enter__()\n",
      "  File \"/usr/lib/python3.8/multiprocessing/queues.py\", line 355, in get\n",
      "    with self._rlock:\n",
      "  File \"/usr/lib/python3.8/multiprocessing/synchronize.py\", line 95, in __enter__\n",
      "    return self._semlock.__enter__()\n"
     ]
    },
    {
     "name": "stdout",
     "output_type": "stream",
     "text": [
      "\n"
     ]
    },
    {
     "name": "stderr",
     "output_type": "stream",
     "text": [
      "  File \"/usr/lib/python3.8/multiprocessing/synchronize.py\", line 95, in __enter__\n",
      "    return self._semlock.__enter__()\n",
      "  File \"/usr/lib/python3.8/multiprocessing/synchronize.py\", line 95, in __enter__\n",
      "    return self._semlock.__enter__()\n",
      "  File \"/usr/lib/python3.8/multiprocessing/connection.py\", line 216, in recv_bytes\n",
      "    buf = self._recv_bytes(maxlength)\n",
      "  File \"/usr/lib/python3.8/multiprocessing/synchronize.py\", line 95, in __enter__\n",
      "    return self._semlock.__enter__()\n",
      "  File \"/usr/lib/python3.8/multiprocessing/synchronize.py\", line 95, in __enter__\n",
      "    return self._semlock.__enter__()\n"
     ]
    },
    {
     "name": "stdout",
     "output_type": "stream",
     "text": [
      "  args:  args:  args:  args:"
     ]
    },
    {
     "name": "stderr",
     "output_type": "stream",
     "text": [
      "  File \"/usr/lib/python3.8/multiprocessing/synchronize.py\", line 95, in __enter__\n",
      "    return self._semlock.__enter__()\n",
      "  File \"/usr/lib/python3.8/multiprocessing/synchronize.py\", line 95, in __enter__\n",
      "    return self._semlock.__enter__()\n",
      "  File \"/usr/lib/python3.8/multiprocessing/process.py\", line 108, in run\n",
      "    self._target(*self._args, **self._kwargs)\n",
      "KeyboardInterrupt\n",
      "  File \"/usr/lib/python3.8/multiprocessing/queues.py\", line 355, in get\n",
      "    with self._rlock:\n",
      "KeyboardInterrupt\n",
      "  File \"/usr/lib/python3.8/multiprocessing/queues.py\", line 355, in get\n",
      "    with self._rlock:\n"
     ]
    },
    {
     "name": "stdout",
     "output_type": "stream",
     "text": [
      "  args:  args:"
     ]
    },
    {
     "name": "stderr",
     "output_type": "stream",
     "text": [
      "  File \"/usr/lib/python3.8/multiprocessing/process.py\", line 108, in run\n",
      "    self._target(*self._args, **self._kwargs)\n",
      "  File \"/usr/lib/python3.8/multiprocessing/queues.py\", line 355, in get\n",
      "    with self._rlock:\n",
      "  File \"/usr/lib/python3.8/multiprocessing/synchronize.py\", line 95, in __enter__\n",
      "    return self._semlock.__enter__()\n",
      "  File \"/usr/lib/python3.8/multiprocessing/synchronize.py\", line 95, in __enter__\n",
      "    return self._semlock.__enter__()\n"
     ]
    },
    {
     "name": "stdout",
     "output_type": "stream",
     "text": [
      "  args:"
     ]
    },
    {
     "name": "stderr",
     "output_type": "stream",
     "text": [
      "KeyboardInterrupt\n"
     ]
    },
    {
     "name": "stdout",
     "output_type": "stream",
     "text": [
      " "
     ]
    },
    {
     "name": "stderr",
     "output_type": "stream",
     "text": [
      "KeyboardInterrupt\n",
      "  File \"/usr/lib/python3.8/multiprocessing/synchronize.py\", line 95, in __enter__\n",
      "    return self._semlock.__enter__()\n",
      "KeyboardInterrupt\n"
     ]
    },
    {
     "name": "stdout",
     "output_type": "stream",
     "text": [
      "  args:"
     ]
    },
    {
     "name": "stderr",
     "output_type": "stream",
     "text": [
      "KeyboardInterrupt\n",
      "KeyboardInterrupt\n"
     ]
    },
    {
     "name": "stdout",
     "output_type": "stream",
     "text": [
      " "
     ]
    },
    {
     "name": "stderr",
     "output_type": "stream",
     "text": [
      "KeyboardInterrupt\n",
      "KeyboardInterrupt\n",
      "  File \"/usr/lib/python3.8/multiprocessing/connection.py\", line 414, in _recv_bytes\n",
      "    buf = self._recv(4)\n"
     ]
    },
    {
     "name": "stdout",
     "output_type": "stream",
     "text": [
      "   "
     ]
    },
    {
     "name": "stderr",
     "output_type": "stream",
     "text": [
      "KeyboardInterrupt\n",
      "  File \"/usr/lib/python3.8/multiprocessing/pool.py\", line 114, in worker\n",
      "    task = get()\n",
      "  File \"/usr/lib/python3.8/multiprocessing/synchronize.py\", line 95, in __enter__\n",
      "    return self._semlock.__enter__()\n",
      "KeyboardInterrupt\n"
     ]
    },
    {
     "name": "stdout",
     "output_type": "stream",
     "text": [
      " "
     ]
    },
    {
     "name": "stderr",
     "output_type": "stream",
     "text": [
      "  File \"/usr/lib/python3.8/multiprocessing/synchronize.py\", line 95, in __enter__\n",
      "    return self._semlock.__enter__()\n",
      "  File \"/usr/lib/python3.8/multiprocessing/pool.py\", line 114, in worker\n",
      "    task = get()\n"
     ]
    },
    {
     "name": "stdout",
     "output_type": "stream",
     "text": [
      " "
     ]
    },
    {
     "name": "stderr",
     "output_type": "stream",
     "text": [
      "KeyboardInterrupt\n",
      "KeyboardInterrupt\n"
     ]
    },
    {
     "name": "stdout",
     "output_type": "stream",
     "text": [
      " "
     ]
    },
    {
     "name": "stderr",
     "output_type": "stream",
     "text": [
      "  File \"/usr/lib/python3.8/multiprocessing/synchronize.py\", line 95, in __enter__\n",
      "    return self._semlock.__enter__()\n",
      "KeyboardInterrupt\n",
      "Process ForkPoolWorker-30:\n"
     ]
    },
    {
     "name": "stdout",
     "output_type": "stream",
     "text": [
      " "
     ]
    },
    {
     "name": "stderr",
     "output_type": "stream",
     "text": [
      "KeyboardInterrupt\n",
      "  File \"/usr/lib/python3.8/multiprocessing/connection.py\", line 379, in _recv\n",
      "    chunk = read(handle, remaining)\n"
     ]
    },
    {
     "name": "stdout",
     "output_type": "stream",
     "text": [
      "(array([3.8 , 3.21, 3.2 , 2.9 , 2.66, 2.61, 2.32, 1.98, 1.62, 1.61, 1.52,\n",
      "       1.48, 1.25, 1.02, 0.97, 0.96, 0.84, 0.84, 0.8 , 0.71, 0.7 , 0.65,\n",
      "       0.61, 0.17]), array([158423.25374145,  13344.75242284,  21826.27716407,  27990.41209211,\n",
      "        25058.86692797,  31245.52330405,  17082.93840574,  22185.92851427,\n",
      "        14027.29516618,  12731.16736458,   9715.18128484,  10733.90819862,\n",
      "         7265.19641406,   5769.40440535,   5656.83079551,   5646.39109725,\n",
      "         6418.08744362,   4408.59293734,   6168.11204886,   8640.28950956,\n",
      "         5474.71795179,   3449.63150969,   5534.87593247,    754.93763453]), array([69063.51647605,  3022.51400186,  4504.75490353,  6212.5022744 ,\n",
      "        8723.95471309,  9734.09067647,  6831.75494295,  5133.2157278 ,\n",
      "        1865.13517487,  2884.60539017,  1628.15178376,  1261.98743838,\n",
      "        1206.61483663,  1180.04645811,   815.84287184,  1055.98531887,\n",
      "        1207.79892173,   785.16810132,   760.52599713,  2137.44891886,\n",
      "        1447.19811129,  1309.41227373,  1102.24184872,   119.53444652]))"
     ]
    },
    {
     "name": "stderr",
     "output_type": "stream",
     "text": [
      "KeyboardInterrupt\n"
     ]
    },
    {
     "name": "stdout",
     "output_type": "stream",
     "text": [
      "(array([3.8 , 3.21, 3.2 , 2.9 , 2.66, 2.61, 2.32, 1.98, 1.62, 1.61, 1.52,\n",
      "       1.48, 1.25, 1.02, 0.97, 0.96, 0.84, 0.84, 0.8 , 0.71, 0.7 , 0.65,\n",
      "       0.61, 0.17]), array([158423.25374145,  13344.75242284,  21826.27716407,  27990.41209211,\n",
      "        25058.86692797,  31245.52330405,  17082.93840574,  22185.92851427,\n",
      "        14027.29516618,  12731.16736458,   9715.18128484,  10733.90819862,\n",
      "         7265.19641406,   5769.40440535,   5656.83079551,   5646.39109725,\n",
      "         6418.08744362,   4408.59293734,   6168.11204886,   8640.28950956,\n",
      "         5474.71795179,   3449.63150969,   5534.87593247,    754.93763453]), array([69063.51647605,  3022.51400186,  4504.75490353,  6212.5022744 ,\n",
      "        8723.95471309,  9734.09067647,  6831.75494295,  5133.2157278 ,\n",
      "        1865.13517487,  2884.60539017,  1628.15178376,  1261.98743838,\n",
      "        1206.61483663,  1180.04645811,   815.84287184,  1055.98531887,\n",
      "        1207.79892173,   785.16810132,   760.52599713,  2137.44891886,\n",
      "        1447.19811129,  1309.41227373,  1102.24184872,   119.53444652]))(array([3.8 , 3.21, 3.2 , 2.9 , 2.66, 2.61, 2.32, 1.98, 1.62, 1.61, 1.52,\n",
      "       1.48, 1.25, 1.02, 0.97, 0.96, 0.84, 0.84, 0.8 , 0.71, 0.7 , 0.65,\n",
      "       0.61, 0.17]), array([158423.25374145,  13344.75242284,  21826.27716407,  27990.41209211,\n",
      "        25058.86692797,  31245.52330405,  17082.93840574,  22185.92851427,\n",
      "        14027.29516618,  12731.16736458,   9715.18128484,  10733.90819862,\n",
      "         7265.19641406,   5769.40440535,   5656.83079551,   5646.39109725,\n",
      "         6418.08744362,   4408.59293734,   6168.11204886,   8640.28950956,\n",
      "         5474.71795179,   3449.63150969,   5534.87593247,    754.93763453]), array([69063.51647605,  3022.51400186,  4504.75490353,  6212.5022744 ,\n",
      "        8723.95471309,  9734.09067647,  6831.75494295,  5133.2157278 ,\n",
      "        1865.13517487,  2884.60539017,  1628.15178376,  1261.98743838,\n",
      "        1206.61483663,  1180.04645811,   815.84287184,  1055.98531887,\n",
      "        1207.79892173,   785.16810132,   760.52599713,  2137.44891886,\n",
      "        1447.19811129,  1309.41227373,  1102.24184872,   119.53444652]))(array([3.8 , 3.21, 3.2 , 2.9 , 2.66, 2.61, 2.32, 1.98, 1.62, 1.61, 1.52,\n",
      "       1.48, 1.25, 1.02, 0.97, 0.96, 0.84, 0.84, 0.8 , 0.71, 0.7 , 0.65,\n",
      "       0.61, 0.17]), array([158423.25374145,  13344.75242284,  21826.27716407,  27990.41209211,\n",
      "        25058.86692797,  31245.52330405,  17082.93840574,  22185.92851427,\n",
      "        14027.29516618,  12731.16736458,   9715.18128484,  10733.90819862,\n",
      "         7265.19641406,   5769.40440535,   5656.83079551,   5646.39109725,\n",
      "         6418.08744362,   4408.59293734,   6168.11204886,   8640.28950956,\n",
      "         5474.71795179,   3449.63150969,   5534.87593247,    754.93763453]), array([69063.51647605,  3022.51400186,  4504.75490353,  6212.5022744 ,\n",
      "        8723.95471309,  9734.09067647,  6831.75494295,  5133.2157278 ,\n",
      "        1865.13517487,  2884.60539017,  1628.15178376,  1261.98743838,\n",
      "        1206.61483663,  1180.04645811,   815.84287184,  1055.98531887,\n",
      "        1207.79892173,   785.16810132,   760.52599713,  2137.44891886,\n",
      "        1447.19811129,  1309.41227373,  1102.24184872,   119.53444652])) "
     ]
    },
    {
     "name": "stderr",
     "output_type": "stream",
     "text": [
      "  File \"/usr/lib/python3.8/multiprocessing/synchronize.py\", line 95, in __enter__\n",
      "    return self._semlock.__enter__()\n",
      "  File \"/usr/lib/python3.8/multiprocessing/queues.py\", line 355, in get\n",
      "    with self._rlock:\n"
     ]
    },
    {
     "name": "stdout",
     "output_type": "stream",
     "text": [
      "\n",
      "\n",
      "\n",
      "(array([3.8 , 3.21, 3.2 , 2.9 , 2.66, 2.61, 2.32, 1.98, 1.62, 1.61, 1.52,\n",
      "       1.48, 1.25, 1.02, 0.97, 0.96, 0.84, 0.84, 0.8 , 0.71, 0.7 , 0.65,\n",
      "       0.61, 0.17]), array([158423.25374145,  13344.75242284,  21826.27716407,  27990.41209211,\n",
      "        25058.86692797,  31245.52330405,  17082.93840574,  22185.92851427,\n",
      "        14027.29516618,  12731.16736458,   9715.18128484,  10733.90819862,\n",
      "         7265.19641406,   5769.40440535,   5656.83079551,   5646.39109725,\n",
      "         6418.08744362,   4408.59293734,   6168.11204886,   8640.28950956,\n",
      "         5474.71795179,   3449.63150969,   5534.87593247,    754.93763453]), array([69063.51647605,  3022.51400186,  4504.75490353,  6212.5022744 ,\n",
      "        8723.95471309,  9734.09067647,  6831.75494295,  5133.2157278 ,\n",
      "        1865.13517487,  2884.60539017,  1628.15178376,  1261.98743838,\n",
      "        1206.61483663,  1180.04645811,   815.84287184,  1055.98531887,\n",
      "        1207.79892173,   785.16810132,   760.52599713,  2137.44891886,\n",
      "        1447.19811129,  1309.41227373,  1102.24184872,   119.53444652]))(array([3.8 , 3.21, 3.2 , 2.9 , 2.66, 2.61, 2.32, 1.98, 1.62, 1.61, 1.52,\n",
      "       1.48, 1.25, 1.02, 0.97, 0.96, 0.84, 0.84, 0.8 , 0.71, 0.7 , 0.65,\n",
      "       0.61, 0.17]), array([158423.25374145,  13344.75242284,  21826.27716407,  27990.41209211,\n",
      "        25058.86692797,  31245.52330405,  17082.93840574,  22185.92851427,\n",
      "        14027.29516618,  12731.16736458,   9715.18128484,  10733.90819862,\n",
      "         7265.19641406,   5769.40440535,   5656.83079551,   5646.39109725,\n",
      "         6418.08744362,   4408.59293734,   6168.11204886,   8640.28950956,\n",
      "         5474.71795179,   3449.63150969,   5534.87593247,    754.93763453]), array([69063.51647605,  3022.51400186,  4504.75490353,  6212.5022744 ,\n",
      "        8723.95471309,  9734.09067647,  6831.75494295,  5133.2157278 ,\n",
      "        1865.13517487,  2884.60539017,  1628.15178376,  1261.98743838,\n",
      "        1206.61483663,  1180.04645811,   815.84287184,  1055.98531887,\n",
      "        1207.79892173,   785.16810132,   760.52599713,  2137.44891886,\n",
      "        1447.19811129,  1309.41227373,  1102.24184872,   119.53444652]))\n",
      "(array([3.8 , 3.21, 3.2 , 2.9 , 2.66, 2.61, 2.32, 1.98, 1.62, 1.61, 1.52,\n",
      "       1.48, 1.25, 1.02, 0.97, 0.96, 0.84, 0.84, 0.8 , 0.71, 0.7 , 0.65,\n",
      "       0.61, 0.17]), array([158423.25374145,  13344.75242284,  21826.27716407,  27990.41209211,\n",
      "        25058.86692797,  31245.52330405,  17082.93840574,  22185.92851427,\n",
      "        14027.29516618,  12731.16736458,   9715.18128484,  10733.90819862,\n",
      "         7265.19641406,   5769.40440535,   5656.83079551,   5646.39109725,\n",
      "         6418.08744362,   4408.59293734,   6168.11204886,   8640.28950956,\n",
      "         5474.71795179,   3449.63150969,   5534.87593247,    754.93763453]), array([69063.51647605,  3022.51400186,  4504.75490353,  6212.5022744 ,\n",
      "        8723.95471309,  9734.09067647,  6831.75494295,  5133.2157278 ,\n",
      "        1865.13517487,  2884.60539017,  1628.15178376,  1261.98743838,\n",
      "        1206.61483663,  1180.04645811,   815.84287184,  1055.98531887,\n",
      "        1207.79892173,   785.16810132,   760.52599713,  2137.44891886,\n",
      "        1447.19811129,  1309.41227373,  1102.24184872,   119.53444652]))\n",
      "  kwargs:  kwargs: {} \n",
      "(array([3.8 , 3.21, 3.2 , 2.9 , 2.66, 2.61, 2.32, 1.98, 1.62, 1.61, 1.52,\n",
      "       1.48, 1.25, 1.02, 0.97, 0.96, 0.84, 0.84, 0.8 , 0.71, 0.7 , 0.65,\n",
      "       0.61, 0.17]), array([158423.25374145,  13344.75242284,  21826.27716407,  27990.41209211,\n",
      "        25058.86692797,  31245.52330405,  17082.93840574,  22185.92851427,\n",
      "        14027.29516618,  12731.16736458,   9715.18128484,  10733.90819862,\n",
      "         7265.19641406,   5769.40440535,   5656.83079551,   5646.39109725,\n",
      "         6418.08744362,   4408.59293734,   6168.11204886,   8640.28950956,\n",
      "         5474.71795179,   3449.63150969,   5534.87593247,    754.93763453]), array([69063.51647605,  3022.51400186,  4504.75490353,  6212.5022744 ,\n",
      "        8723.95471309,  9734.09067647,  6831.75494295,  5133.2157278 ,\n",
      "        1865.13517487,  2884.60539017,  1628.15178376,  1261.98743838,\n",
      "        1206.61483663,  1180.04645811,   815.84287184,  1055.98531887,\n",
      "        1207.79892173,   785.16810132,   760.52599713,  2137.44891886,\n",
      "        1447.19811129,  1309.41227373,  1102.24184872,   119.53444652]))"
     ]
    },
    {
     "name": "stderr",
     "output_type": "stream",
     "text": [
      "Traceback (most recent call last):\n",
      "KeyboardInterrupt\n"
     ]
    },
    {
     "name": "stdout",
     "output_type": "stream",
     "text": [
      "\n",
      "{}"
     ]
    },
    {
     "name": "stderr",
     "output_type": "stream",
     "text": [
      "  File \"/usr/lib/python3.8/multiprocessing/queues.py\", line 355, in get\n",
      "    with self._rlock:\n"
     ]
    },
    {
     "name": "stdout",
     "output_type": "stream",
     "text": [
      "(array([3.8 , 3.21, 3.2 , 2.9 , 2.66, 2.61, 2.32, 1.98, 1.62, 1.61, 1.52,\n",
      "       1.48, 1.25, 1.02, 0.97, 0.96, 0.84, 0.84, 0.8 , 0.71, 0.7 , 0.65,\n",
      "       0.61, 0.17]), array([158423.25374145,  13344.75242284,  21826.27716407,  27990.41209211,\n",
      "        25058.86692797,  31245.52330405,  17082.93840574,  22185.92851427,\n",
      "        14027.29516618,  12731.16736458,   9715.18128484,  10733.90819862,\n",
      "         7265.19641406,   5769.40440535,   5656.83079551,   5646.39109725,\n",
      "         6418.08744362,   4408.59293734,   6168.11204886,   8640.28950956,\n",
      "         5474.71795179,   3449.63150969,   5534.87593247,    754.93763453]), array([69063.51647605,  3022.51400186,  4504.75490353,  6212.5022744 ,\n",
      "        8723.95471309,  9734.09067647,  6831.75494295,  5133.2157278 ,\n",
      "        1865.13517487,  2884.60539017,  1628.15178376,  1261.98743838,\n",
      "        1206.61483663,  1180.04645811,   815.84287184,  1055.98531887,\n",
      "        1207.79892173,   785.16810132,   760.52599713,  2137.44891886,\n",
      "        1447.19811129,  1309.41227373,  1102.24184872,   119.53444652]))"
     ]
    },
    {
     "name": "stderr",
     "output_type": "stream",
     "text": [
      "KeyboardInterrupt\n"
     ]
    },
    {
     "name": "stdout",
     "output_type": "stream",
     "text": [
      "  exception:  kwargs:"
     ]
    },
    {
     "name": "stderr",
     "output_type": "stream",
     "text": [
      "  File \"/usr/lib/python3.8/multiprocessing/process.py\", line 315, in _bootstrap\n",
      "    self.run()\n",
      "  File \"/usr/lib/python3.8/multiprocessing/synchronize.py\", line 95, in __enter__\n",
      "    return self._semlock.__enter__()\n",
      "KeyboardInterrupt\n"
     ]
    },
    {
     "name": "stdout",
     "output_type": "stream",
     "text": [
      "  kwargs:  kwargs:  kwargs:\n"
     ]
    },
    {
     "name": "stderr",
     "output_type": "stream",
     "text": [
      "  File \"/usr/lib/python3.8/multiprocessing/synchronize.py\", line 95, in __enter__\n",
      "    return self._semlock.__enter__()\n"
     ]
    },
    {
     "name": "stdout",
     "output_type": "stream",
     "text": [
      "\n",
      " \n",
      "\n",
      "\n",
      " "
     ]
    },
    {
     "name": "stderr",
     "output_type": "stream",
     "text": [
      "  File \"/usr/lib/python3.8/multiprocessing/process.py\", line 108, in run\n",
      "    self._target(*self._args, **self._kwargs)\n",
      "KeyboardInterrupt\n",
      "KeyboardInterrupt\n"
     ]
    },
    {
     "name": "stdout",
     "output_type": "stream",
     "text": [
      "  kwargs: {}   exception:{}"
     ]
    },
    {
     "name": "stderr",
     "output_type": "stream",
     "text": [
      "  File \"/usr/lib/python3.8/multiprocessing/pool.py\", line 114, in worker\n",
      "    task = get()\n"
     ]
    },
    {
     "name": "stdout",
     "output_type": "stream",
     "text": [
      "  kwargs:  kwargs: {}{}\n",
      "\n",
      "  {}"
     ]
    },
    {
     "name": "stderr",
     "output_type": "stream",
     "text": [
      "Traceback (most recent call last):\n"
     ]
    },
    {
     "name": "stdout",
     "output_type": "stream",
     "text": [
      "\n",
      "  exception:\n",
      "{}\n",
      "{}  exception:\n",
      "\n",
      "  exception:\n",
      "\n",
      "\n",
      "  exception:(array([3.8 , 3.21, 3.2 , 2.9 , 2.66, 2.61, 2.32, 1.98, 1.62, 1.61, 1.52,\n",
      "       1.48, 1.25, 1.02, 0.97, 0.96, 0.84, 0.84, 0.8 , 0.71, 0.7 , 0.65,\n",
      "       0.61, 0.17]), array([158423.25374145,  13344.75242284,  21826.27716407,  27990.41209211,\n",
      "        25058.86692797,  31245.52330405,  17082.93840574,  22185.92851427,\n",
      "        14027.29516618,  12731.16736458,   9715.18128484,  10733.90819862,\n",
      "         7265.19641406,   5769.40440535,   5656.83079551,   5646.39109725,\n",
      "         6418.08744362,   4408.59293734,   6168.11204886,   8640.28950956,\n",
      "         5474.71795179,   3449.63150969,   5534.87593247,    754.93763453]), array([69063.51647605,  3022.51400186,  4504.75490353,  6212.5022744 ,\n",
      "        8723.95471309,  9734.09067647,  6831.75494295,  5133.2157278 ,\n",
      "        1865.13517487,  2884.60539017,  1628.15178376,  1261.98743838,\n",
      "        1206.61483663,  1180.04645811,   815.84287184,  1055.98531887,\n",
      "        1207.79892173,   785.16810132,   760.52599713,  2137.44891886,\n",
      "        1447.19811129,  1309.41227373,  1102.24184872,   119.53444652]))"
     ]
    },
    {
     "name": "stderr",
     "output_type": "stream",
     "text": [
      "Traceback (most recent call last):\n"
     ]
    },
    {
     "name": "stdout",
     "output_type": "stream",
     "text": [
      "  exception:\n",
      "  exception:"
     ]
    },
    {
     "name": "stderr",
     "output_type": "stream",
     "text": [
      "  File \"/usr/lib/python3.8/multiprocessing/queues.py\", line 355, in get\n",
      "    with self._rlock:\n"
     ]
    },
    {
     "name": "stdout",
     "output_type": "stream",
     "text": [
      "\n",
      "  exception:"
     ]
    },
    {
     "name": "stderr",
     "output_type": "stream",
     "text": [
      "  File \"/home/shreeprasad/.local/lib/python3.8/site-packages/emcee/ensemble.py\", line 624, in __call__\n",
      "    return self.f(x, *self.args, **self.kwargs)\n"
     ]
    },
    {
     "name": "stdout",
     "output_type": "stream",
     "text": [
      "\n"
     ]
    },
    {
     "name": "stderr",
     "output_type": "stream",
     "text": [
      "Traceback (most recent call last):\n"
     ]
    },
    {
     "name": "stdout",
     "output_type": "stream",
     "text": [
      "\n",
      "\n"
     ]
    },
    {
     "name": "stderr",
     "output_type": "stream",
     "text": [
      "  File \"/usr/lib/python3.8/multiprocessing/synchronize.py\", line 95, in __enter__\n",
      "    return self._semlock.__enter__()\n",
      "  File \"/tmp/ipykernel_1707085/4177557702.py\", line 18, in log_posterior\n",
      "    return lp + log_likelihood(theta, x, y, yerr)\n",
      "  File \"/home/shreeprasad/.local/lib/python3.8/site-packages/emcee/ensemble.py\", line 624, in __call__\n",
      "    return self.f(x, *self.args, **self.kwargs)\n",
      "Traceback (most recent call last):\n"
     ]
    },
    {
     "name": "stdout",
     "output_type": "stream",
     "text": [
      "\n"
     ]
    },
    {
     "name": "stderr",
     "output_type": "stream",
     "text": [
      "  File \"/tmp/ipykernel_1707085/4177557702.py\", line 18, in log_posterior\n",
      "    return lp + log_likelihood(theta, x, y, yerr)\n",
      "KeyboardInterrupt\n",
      "  File \"/tmp/ipykernel_1707085/4177557702.py\", line 3, in log_likelihood\n",
      "    model = luminosity_distance(x, m)\n",
      "  File \"/tmp/ipykernel_1707085/4177557702.py\", line 3, in log_likelihood\n",
      "    model = luminosity_distance(x, m)\n",
      "Traceback (most recent call last):\n",
      "  File \"/tmp/ipykernel_1707085/2623805660.py\", line 3, in luminosity_distance\n",
      "    r  = [scipy.integrate.quad(vfunc,0,zarray,args=(Omega_M))[0] for zarray in z]\n",
      "  File \"/home/shreeprasad/.local/lib/python3.8/site-packages/emcee/ensemble.py\", line 624, in __call__\n",
      "    return self.f(x, *self.args, **self.kwargs)\n",
      "Traceback (most recent call last):\n",
      "Traceback (most recent call last):\n",
      "Traceback (most recent call last):\n",
      "  File \"/home/shreeprasad/.local/lib/python3.8/site-packages/emcee/ensemble.py\", line 624, in __call__\n",
      "    return self.f(x, *self.args, **self.kwargs)\n",
      "  File \"/home/shreeprasad/.local/lib/python3.8/site-packages/emcee/ensemble.py\", line 624, in __call__\n",
      "    return self.f(x, *self.args, **self.kwargs)\n",
      "  File \"/tmp/ipykernel_1707085/2623805660.py\", line 3, in luminosity_distance\n",
      "    r  = [scipy.integrate.quad(vfunc,0,zarray,args=(Omega_M))[0] for zarray in z]\n",
      "  File \"/tmp/ipykernel_1707085/2623805660.py\", line 3, in <listcomp>\n",
      "    r  = [scipy.integrate.quad(vfunc,0,zarray,args=(Omega_M))[0] for zarray in z]\n",
      "  File \"/tmp/ipykernel_1707085/4177557702.py\", line 18, in log_posterior\n",
      "    return lp + log_likelihood(theta, x, y, yerr)\n"
     ]
    },
    {
     "name": "stdout",
     "output_type": "stream",
     "text": [
      "  kwargs:"
     ]
    },
    {
     "name": "stderr",
     "output_type": "stream",
     "text": [
      "  File \"/home/shreeprasad/.local/lib/python3.8/site-packages/emcee/ensemble.py\", line 624, in __call__\n",
      "    return self.f(x, *self.args, **self.kwargs)\n",
      "Traceback (most recent call last):\n",
      "  File \"/home/shreeprasad/.local/lib/python3.8/site-packages/emcee/ensemble.py\", line 624, in __call__\n",
      "    return self.f(x, *self.args, **self.kwargs)\n",
      "  File \"/tmp/ipykernel_1707085/4177557702.py\", line 18, in log_posterior\n",
      "    return lp + log_likelihood(theta, x, y, yerr)\n",
      "  File \"/home/shreeprasad/.local/lib/python3.8/site-packages/emcee/ensemble.py\", line 624, in __call__\n",
      "    return self.f(x, *self.args, **self.kwargs)\n",
      "  File \"/tmp/ipykernel_1707085/4177557702.py\", line 18, in log_posterior\n",
      "    return lp + log_likelihood(theta, x, y, yerr)\n",
      "  File \"/tmp/ipykernel_1707085/2623805660.py\", line 3, in <listcomp>\n",
      "    r  = [scipy.integrate.quad(vfunc,0,zarray,args=(Omega_M))[0] for zarray in z]\n",
      "  File \"/tmp/ipykernel_1707085/4177557702.py\", line 3, in log_likelihood\n",
      "    model = luminosity_distance(x, m)\n",
      "  File \"/home/shreeprasad/.local/lib/python3.8/site-packages/scipy/integrate/_quadpack_py.py\", line 351, in quad\n",
      "    retval = _quad(func, a, b, args, full_output, epsabs, epsrel, limit,\n"
     ]
    },
    {
     "name": "stdout",
     "output_type": "stream",
     "text": [
      " "
     ]
    },
    {
     "name": "stderr",
     "output_type": "stream",
     "text": [
      "  File \"/tmp/ipykernel_1707085/4177557702.py\", line 18, in log_posterior\n",
      "    return lp + log_likelihood(theta, x, y, yerr)\n",
      "  File \"/tmp/ipykernel_1707085/4177557702.py\", line 18, in log_posterior\n",
      "    return lp + log_likelihood(theta, x, y, yerr)\n",
      "  File \"/home/shreeprasad/.local/lib/python3.8/site-packages/emcee/ensemble.py\", line 624, in __call__\n",
      "    return self.f(x, *self.args, **self.kwargs)\n",
      "  File \"/tmp/ipykernel_1707085/4177557702.py\", line 3, in log_likelihood\n",
      "    model = luminosity_distance(x, m)\n",
      "  File \"/tmp/ipykernel_1707085/4177557702.py\", line 3, in log_likelihood\n",
      "    model = luminosity_distance(x, m)\n",
      "  File \"/home/shreeprasad/.local/lib/python3.8/site-packages/scipy/integrate/_quadpack_py.py\", line 351, in quad\n",
      "    retval = _quad(func, a, b, args, full_output, epsabs, epsrel, limit,\n"
     ]
    },
    {
     "name": "stdout",
     "output_type": "stream",
     "text": [
      "{}"
     ]
    },
    {
     "name": "stderr",
     "output_type": "stream",
     "text": [
      "  File \"/tmp/ipykernel_1707085/2623805660.py\", line 3, in luminosity_distance\n",
      "    r  = [scipy.integrate.quad(vfunc,0,zarray,args=(Omega_M))[0] for zarray in z]\n",
      "  File \"/home/shreeprasad/.local/lib/python3.8/site-packages/scipy/integrate/_quadpack_py.py\", line 463, in _quad\n",
      "    return _quadpack._qagse(func,a,b,args,full_output,epsabs,epsrel,limit)\n",
      "  File \"/tmp/ipykernel_1707085/4177557702.py\", line 3, in log_likelihood\n",
      "    model = luminosity_distance(x, m)\n",
      "  File \"/tmp/ipykernel_1707085/4177557702.py\", line 3, in log_likelihood\n",
      "    model = luminosity_distance(x, m)\n",
      "  File \"/tmp/ipykernel_1707085/2623805660.py\", line 3, in luminosity_distance\n",
      "    r  = [scipy.integrate.quad(vfunc,0,zarray,args=(Omega_M))[0] for zarray in z]\n",
      "  File \"/home/shreeprasad/.local/lib/python3.8/site-packages/scipy/integrate/_quadpack_py.py\", line 463, in _quad\n",
      "    return _quadpack._qagse(func,a,b,args,full_output,epsabs,epsrel,limit)\n",
      "  File \"/tmp/ipykernel_1707085/4177557702.py\", line 18, in log_posterior\n",
      "    return lp + log_likelihood(theta, x, y, yerr)\n",
      "  File \"/tmp/ipykernel_1707085/4177557702.py\", line 18, in log_posterior\n",
      "    return lp + log_likelihood(theta, x, y, yerr)\n"
     ]
    },
    {
     "name": "stdout",
     "output_type": "stream",
     "text": [
      "\n"
     ]
    },
    {
     "name": "stderr",
     "output_type": "stream",
     "text": [
      "  File \"/tmp/ipykernel_1707085/2623805660.py\", line 3, in luminosity_distance\n",
      "    r  = [scipy.integrate.quad(vfunc,0,zarray,args=(Omega_M))[0] for zarray in z]\n",
      "  File \"/tmp/ipykernel_1707085/2623805660.py\", line 3, in <listcomp>\n",
      "    r  = [scipy.integrate.quad(vfunc,0,zarray,args=(Omega_M))[0] for zarray in z]\n",
      "  File \"/tmp/ipykernel_1707085/2623805660.py\", line 3, in luminosity_distance\n",
      "    r  = [scipy.integrate.quad(vfunc,0,zarray,args=(Omega_M))[0] for zarray in z]\n",
      "  File \"/home/shreeprasad/.local/lib/python3.8/site-packages/numpy/lib/function_base.py\", line 2304, in __call__\n",
      "    return self._vectorize_call(func=func, args=vargs)\n",
      "  File \"/home/shreeprasad/.local/lib/python3.8/site-packages/numpy/lib/function_base.py\", line 2304, in __call__\n",
      "    return self._vectorize_call(func=func, args=vargs)\n",
      "  File \"/tmp/ipykernel_1707085/2623805660.py\", line 3, in <listcomp>\n",
      "    r  = [scipy.integrate.quad(vfunc,0,zarray,args=(Omega_M))[0] for zarray in z]\n",
      "  File \"/tmp/ipykernel_1707085/4177557702.py\", line 3, in log_likelihood\n",
      "    model = luminosity_distance(x, m)\n"
     ]
    },
    {
     "name": "stdout",
     "output_type": "stream",
     "text": [
      "  exception:"
     ]
    },
    {
     "name": "stderr",
     "output_type": "stream",
     "text": [
      "  File \"/tmp/ipykernel_1707085/2623805660.py\", line 3, in <listcomp>\n",
      "    r  = [scipy.integrate.quad(vfunc,0,zarray,args=(Omega_M))[0] for zarray in z]\n",
      "  File \"/tmp/ipykernel_1707085/4177557702.py\", line 3, in log_likelihood\n",
      "    model = luminosity_distance(x, m)\n",
      "  File \"/tmp/ipykernel_1707085/2623805660.py\", line 3, in luminosity_distance\n",
      "    r  = [scipy.integrate.quad(vfunc,0,zarray,args=(Omega_M))[0] for zarray in z]\n",
      "  File \"/home/shreeprasad/.local/lib/python3.8/site-packages/numpy/lib/function_base.py\", line 2390, in _vectorize_call\n",
      "    res = asanyarray(outputs, dtype=otypes[0])\n",
      "  File \"/home/shreeprasad/.local/lib/python3.8/site-packages/scipy/integrate/_quadpack_py.py\", line 351, in quad\n",
      "    retval = _quad(func, a, b, args, full_output, epsabs, epsrel, limit,\n",
      "  File \"/tmp/ipykernel_1707085/2623805660.py\", line 3, in <listcomp>\n",
      "    r  = [scipy.integrate.quad(vfunc,0,zarray,args=(Omega_M))[0] for zarray in z]\n",
      "  File \"/home/shreeprasad/.local/lib/python3.8/site-packages/numpy/lib/function_base.py\", line 2387, in _vectorize_call\n",
      "    outputs = ufunc(*inputs)\n",
      "  File \"/home/shreeprasad/.local/lib/python3.8/site-packages/scipy/integrate/_quadpack_py.py\", line 351, in quad\n",
      "    retval = _quad(func, a, b, args, full_output, epsabs, epsrel, limit,\n",
      "  File \"/tmp/ipykernel_1707085/2623805660.py\", line 3, in luminosity_distance\n",
      "    r  = [scipy.integrate.quad(vfunc,0,zarray,args=(Omega_M))[0] for zarray in z]\n",
      "  File \"/home/shreeprasad/.local/lib/python3.8/site-packages/scipy/integrate/_quadpack_py.py\", line 351, in quad\n",
      "    retval = _quad(func, a, b, args, full_output, epsabs, epsrel, limit,\n",
      "  File \"/tmp/ipykernel_1707085/2623805660.py\", line 3, in luminosity_distance\n",
      "    r  = [scipy.integrate.quad(vfunc,0,zarray,args=(Omega_M))[0] for zarray in z]\n"
     ]
    },
    {
     "name": "stdout",
     "output_type": "stream",
     "text": [
      "\n"
     ]
    },
    {
     "name": "stderr",
     "output_type": "stream",
     "text": [
      "  File \"/tmp/ipykernel_1707085/2623805660.py\", line 3, in <listcomp>\n",
      "    r  = [scipy.integrate.quad(vfunc,0,zarray,args=(Omega_M))[0] for zarray in z]\n",
      "  File \"/home/shreeprasad/.local/lib/python3.8/site-packages/scipy/integrate/_quadpack_py.py\", line 351, in quad\n",
      "    retval = _quad(func, a, b, args, full_output, epsabs, epsrel, limit,\n",
      "KeyboardInterrupt\n",
      "  File \"/home/shreeprasad/.local/lib/python3.8/site-packages/scipy/integrate/_quadpack_py.py\", line 463, in _quad\n",
      "    return _quadpack._qagse(func,a,b,args,full_output,epsabs,epsrel,limit)\n",
      "  File \"/tmp/ipykernel_1707085/3141936610.py\", line 6, in integrand\n",
      "    return 1. / HubbelParameter(z, Omega_M)\n",
      "  File \"/tmp/ipykernel_1707085/2623805660.py\", line 3, in <listcomp>\n",
      "    r  = [scipy.integrate.quad(vfunc,0,zarray,args=(Omega_M))[0] for zarray in z]\n",
      "  File \"/home/shreeprasad/.local/lib/python3.8/site-packages/scipy/integrate/_quadpack_py.py\", line 463, in _quad\n",
      "    return _quadpack._qagse(func,a,b,args,full_output,epsabs,epsrel,limit)\n",
      "  File \"/home/shreeprasad/.local/lib/python3.8/site-packages/scipy/integrate/_quadpack_py.py\", line 463, in _quad\n",
      "    return _quadpack._qagse(func,a,b,args,full_output,epsabs,epsrel,limit)\n",
      "  File \"/home/shreeprasad/.local/lib/python3.8/site-packages/scipy/integrate/_quadpack_py.py\", line 351, in quad\n",
      "    retval = _quad(func, a, b, args, full_output, epsabs, epsrel, limit,\n",
      "  File \"/tmp/ipykernel_1707085/2623805660.py\", line 3, in <listcomp>\n",
      "    r  = [scipy.integrate.quad(vfunc,0,zarray,args=(Omega_M))[0] for zarray in z]\n",
      "  File \"/home/shreeprasad/.local/lib/python3.8/site-packages/scipy/integrate/_quadpack_py.py\", line 463, in _quad\n",
      "    return _quadpack._qagse(func,a,b,args,full_output,epsabs,epsrel,limit)\n",
      "  File \"/home/shreeprasad/.local/lib/python3.8/site-packages/numpy/lib/function_base.py\", line 2304, in __call__\n",
      "    return self._vectorize_call(func=func, args=vargs)\n",
      "  File \"/home/shreeprasad/.local/lib/python3.8/site-packages/scipy/integrate/_quadpack_py.py\", line 351, in quad\n",
      "    retval = _quad(func, a, b, args, full_output, epsabs, epsrel, limit,\n",
      "  File \"/tmp/ipykernel_1707085/3141936610.py\", line 2, in HubbelParameter\n",
      "    return H_0 * np.sqrt((Omega_M * (1+z)**3 + 1 - Omega_M))\n",
      "Process ForkPoolWorker-26:\n",
      "  File \"/home/shreeprasad/.local/lib/python3.8/site-packages/numpy/lib/function_base.py\", line 2304, in __call__\n",
      "    return self._vectorize_call(func=func, args=vargs)\n",
      "  File \"/home/shreeprasad/.local/lib/python3.8/site-packages/numpy/lib/function_base.py\", line 2304, in __call__\n",
      "    return self._vectorize_call(func=func, args=vargs)\n",
      "  File \"/home/shreeprasad/.local/lib/python3.8/site-packages/scipy/integrate/_quadpack_py.py\", line 351, in quad\n",
      "    retval = _quad(func, a, b, args, full_output, epsabs, epsrel, limit,\n",
      "  File \"/home/shreeprasad/.local/lib/python3.8/site-packages/scipy/integrate/_quadpack_py.py\", line 463, in _quad\n",
      "    return _quadpack._qagse(func,a,b,args,full_output,epsabs,epsrel,limit)\n",
      "  File \"/home/shreeprasad/.local/lib/python3.8/site-packages/scipy/integrate/_quadpack_py.py\", line 463, in _quad\n",
      "    return _quadpack._qagse(func,a,b,args,full_output,epsabs,epsrel,limit)\n",
      "  File \"/home/shreeprasad/.local/lib/python3.8/site-packages/numpy/lib/function_base.py\", line 2304, in __call__\n",
      "    return self._vectorize_call(func=func, args=vargs)\n",
      "  File \"/home/shreeprasad/.local/lib/python3.8/site-packages/numpy/lib/function_base.py\", line 2382, in _vectorize_call\n",
      "    ufunc, otypes = self._get_ufunc_and_otypes(func=func, args=args)\n",
      "  File \"/home/shreeprasad/.local/lib/python3.8/site-packages/numpy/lib/function_base.py\", line 2382, in _vectorize_call\n",
      "    ufunc, otypes = self._get_ufunc_and_otypes(func=func, args=args)\n",
      "KeyboardInterrupt\n",
      "  File \"/home/shreeprasad/.local/lib/python3.8/site-packages/numpy/lib/function_base.py\", line 2382, in _vectorize_call\n",
      "    ufunc, otypes = self._get_ufunc_and_otypes(func=func, args=args)\n",
      "Traceback (most recent call last):\n",
      "Traceback (most recent call last):\n",
      "  File \"/home/shreeprasad/.local/lib/python3.8/site-packages/scipy/integrate/_quadpack_py.py\", line 463, in _quad\n",
      "    return _quadpack._qagse(func,a,b,args,full_output,epsabs,epsrel,limit)\n",
      "  File \"/home/shreeprasad/.local/lib/python3.8/site-packages/numpy/lib/function_base.py\", line 2382, in _vectorize_call\n",
      "    ufunc, otypes = self._get_ufunc_and_otypes(func=func, args=args)\n",
      "  File \"/home/shreeprasad/.local/lib/python3.8/site-packages/numpy/lib/function_base.py\", line 2304, in __call__\n",
      "    return self._vectorize_call(func=func, args=vargs)\n",
      "  File \"/home/shreeprasad/.local/lib/python3.8/site-packages/numpy/lib/function_base.py\", line 2371, in _get_ufunc_and_otypes\n",
      "    ufunc = frompyfunc(_func, len(args), nout)\n",
      "Process ForkPoolWorker-21:\n",
      "  File \"/home/shreeprasad/.local/lib/python3.8/site-packages/numpy/lib/function_base.py\", line 2304, in __call__\n",
      "    return self._vectorize_call(func=func, args=vargs)\n",
      "  File \"/home/shreeprasad/.local/lib/python3.8/site-packages/numpy/lib/function_base.py\", line 2336, in _get_ufunc_and_otypes\n",
      "    args = [asarray(arg) for arg in args]\n",
      "  File \"/usr/lib/python3.8/multiprocessing/process.py\", line 315, in _bootstrap\n",
      "    self.run()\n",
      "  File \"/home/shreeprasad/.local/lib/python3.8/site-packages/emcee/ensemble.py\", line 624, in __call__\n",
      "    return self.f(x, *self.args, **self.kwargs)\n",
      "  File \"/home/shreeprasad/.local/lib/python3.8/site-packages/numpy/lib/function_base.py\", line 2382, in _vectorize_call\n",
      "    ufunc, otypes = self._get_ufunc_and_otypes(func=func, args=args)\n",
      "  File \"/home/shreeprasad/.local/lib/python3.8/site-packages/numpy/lib/function_base.py\", line 2342, in _get_ufunc_and_otypes\n",
      "    outputs = func(*inputs)\n",
      "  File \"/home/shreeprasad/.local/lib/python3.8/site-packages/numpy/lib/function_base.py\", line 2304, in __call__\n",
      "    return self._vectorize_call(func=func, args=vargs)\n",
      "  File \"/usr/lib/python3.8/multiprocessing/process.py\", line 108, in run\n",
      "    self._target(*self._args, **self._kwargs)\n",
      "  File \"/home/shreeprasad/.local/lib/python3.8/site-packages/numpy/lib/function_base.py\", line 2336, in <listcomp>\n",
      "    args = [asarray(arg) for arg in args]\n",
      "  File \"/home/shreeprasad/.local/lib/python3.8/site-packages/numpy/lib/function_base.py\", line 2387, in _vectorize_call\n",
      "    outputs = ufunc(*inputs)\n",
      "  File \"/home/shreeprasad/.local/lib/python3.8/site-packages/numpy/lib/function_base.py\", line 2382, in _vectorize_call\n",
      "    ufunc, otypes = self._get_ufunc_and_otypes(func=func, args=args)\n",
      "  File \"/home/shreeprasad/.local/lib/python3.8/site-packages/numpy/lib/function_base.py\", line 2341, in _get_ufunc_and_otypes\n",
      "    inputs = [arg.flat[0] for arg in args]\n",
      "KeyboardInterrupt\n",
      "  File \"/tmp/ipykernel_1707085/3141936610.py\", line 5, in integrand\n",
      "    Hz = HubbelParameter(z, Omega_M)\n",
      "  File \"/home/shreeprasad/.local/lib/python3.8/site-packages/numpy/lib/function_base.py\", line 2371, in _get_ufunc_and_otypes\n",
      "    ufunc = frompyfunc(_func, len(args), nout)\n",
      "Traceback (most recent call last):\n",
      "  File \"/usr/lib/python3.8/multiprocessing/pool.py\", line 125, in worker\n",
      "    result = (True, func(*args, **kwds))\n",
      "  File \"/tmp/ipykernel_1707085/4177557702.py\", line 18, in log_posterior\n",
      "    return lp + log_likelihood(theta, x, y, yerr)\n",
      "KeyboardInterrupt\n",
      "  File \"/tmp/ipykernel_1707085/3141936610.py\", line 6, in integrand\n",
      "    return 1. / HubbelParameter(z, Omega_M)\n",
      "Process ForkPoolWorker-28:\n",
      "  File \"/home/shreeprasad/.local/lib/python3.8/site-packages/numpy/lib/function_base.py\", line 2342, in _get_ufunc_and_otypes\n",
      "    outputs = func(*inputs)\n",
      "  File \"/home/shreeprasad/.local/lib/python3.8/site-packages/numpy/lib/function_base.py\", line 2341, in <listcomp>\n",
      "    inputs = [arg.flat[0] for arg in args]\n",
      "KeyboardInterrupt\n",
      "  File \"/usr/lib/python3.8/multiprocessing/process.py\", line 315, in _bootstrap\n",
      "    self.run()\n",
      "  File \"/tmp/ipykernel_1707085/4177557702.py\", line 3, in log_likelihood\n",
      "    model = luminosity_distance(x, m)\n",
      "  File \"/tmp/ipykernel_1707085/3141936610.py\", line 2, in HubbelParameter\n",
      "    return H_0 * np.sqrt((Omega_M * (1+z)**3 + 1 - Omega_M))\n",
      "Process ForkPoolWorker-23:\n",
      "  File \"/tmp/ipykernel_1707085/3141936610.py\", line 2, in HubbelParameter\n",
      "    return H_0 * np.sqrt((Omega_M * (1+z)**3 + 1 - Omega_M))\n",
      "KeyboardInterrupt\n",
      "  File \"/usr/lib/python3.8/multiprocessing/pool.py\", line 48, in mapstar\n",
      "    return list(map(*args))\n"
     ]
    },
    {
     "name": "stderr",
     "output_type": "stream",
     "text": [
      "  File \"/tmp/ipykernel_1707085/3141936610.py\", line 6, in integrand\n",
      "    return 1. / HubbelParameter(z, Omega_M)\n",
      "Process ForkPoolWorker-22:\n",
      "  File \"/usr/lib/python3.8/multiprocessing/process.py\", line 108, in run\n",
      "    self._target(*self._args, **self._kwargs)\n",
      "  File \"/tmp/ipykernel_1707085/2623805660.py\", line 3, in luminosity_distance\n",
      "    r  = [scipy.integrate.quad(vfunc,0,zarray,args=(Omega_M))[0] for zarray in z]\n",
      "KeyboardInterrupt\n",
      "KeyboardInterrupt\n",
      "Traceback (most recent call last):\n",
      "  File \"/tmp/ipykernel_1707085/3141936610.py\", line 2, in HubbelParameter\n",
      "    return H_0 * np.sqrt((Omega_M * (1+z)**3 + 1 - Omega_M))\n",
      "  File \"/home/shreeprasad/.local/lib/python3.8/site-packages/emcee/ensemble.py\", line 624, in __call__\n",
      "    return self.f(x, *self.args, **self.kwargs)\n",
      "  File \"/usr/lib/python3.8/multiprocessing/pool.py\", line 125, in worker\n",
      "    result = (True, func(*args, **kwds))\n",
      "Traceback (most recent call last):\n",
      "Traceback (most recent call last):\n",
      "Process ForkPoolWorker-9:\n",
      "  File \"/tmp/ipykernel_1707085/2623805660.py\", line 3, in <listcomp>\n",
      "    r  = [scipy.integrate.quad(vfunc,0,zarray,args=(Omega_M))[0] for zarray in z]\n",
      "  File \"/usr/lib/python3.8/multiprocessing/process.py\", line 315, in _bootstrap\n",
      "    self.run()\n",
      "Process ForkPoolWorker-24:\n",
      "KeyboardInterrupt\n",
      "  File \"/tmp/ipykernel_1707085/4177557702.py\", line 18, in log_posterior\n",
      "    return lp + log_likelihood(theta, x, y, yerr)\n",
      "Process ForkPoolWorker-14:\n",
      "  File \"/usr/lib/python3.8/multiprocessing/pool.py\", line 48, in mapstar\n",
      "    return list(map(*args))\n",
      "  File \"/usr/lib/python3.8/multiprocessing/process.py\", line 315, in _bootstrap\n",
      "    self.run()\n",
      "  File \"/usr/lib/python3.8/multiprocessing/process.py\", line 315, in _bootstrap\n",
      "    self.run()\n",
      "  File \"/home/shreeprasad/.local/lib/python3.8/site-packages/scipy/integrate/_quadpack_py.py\", line 351, in quad\n",
      "    retval = _quad(func, a, b, args, full_output, epsabs, epsrel, limit,\n",
      "  File \"/usr/lib/python3.8/multiprocessing/process.py\", line 108, in run\n",
      "    self._target(*self._args, **self._kwargs)\n",
      "Process ForkPoolWorker-11:\n",
      "  File \"/usr/lib/python3.8/multiprocessing/process.py\", line 108, in run\n",
      "    self._target(*self._args, **self._kwargs)\n",
      "  File \"/home/shreeprasad/.local/lib/python3.8/site-packages/emcee/ensemble.py\", line 624, in __call__\n",
      "    return self.f(x, *self.args, **self.kwargs)\n",
      "Traceback (most recent call last):\n",
      "  File \"/usr/lib/python3.8/multiprocessing/process.py\", line 108, in run\n",
      "    self._target(*self._args, **self._kwargs)\n",
      "Traceback (most recent call last):\n",
      "  File \"/home/shreeprasad/.local/lib/python3.8/site-packages/scipy/integrate/_quadpack_py.py\", line 463, in _quad\n",
      "    return _quadpack._qagse(func,a,b,args,full_output,epsabs,epsrel,limit)\n",
      "Traceback (most recent call last):\n",
      "  File \"/usr/lib/python3.8/multiprocessing/pool.py\", line 125, in worker\n",
      "    result = (True, func(*args, **kwds))\n",
      "  File \"/tmp/ipykernel_1707085/4177557702.py\", line 3, in log_likelihood\n",
      "    model = luminosity_distance(x, m)\n",
      "  File \"/usr/lib/python3.8/multiprocessing/pool.py\", line 125, in worker\n",
      "    result = (True, func(*args, **kwds))\n",
      "  File \"/tmp/ipykernel_1707085/4177557702.py\", line 18, in log_posterior\n",
      "    return lp + log_likelihood(theta, x, y, yerr)\n",
      "Traceback (most recent call last):\n",
      "  File \"/usr/lib/python3.8/multiprocessing/pool.py\", line 125, in worker\n",
      "    result = (True, func(*args, **kwds))\n",
      "  File \"/usr/lib/python3.8/multiprocessing/process.py\", line 315, in _bootstrap\n",
      "    self.run()\n",
      "  File \"/usr/lib/python3.8/multiprocessing/process.py\", line 315, in _bootstrap\n",
      "    self.run()\n",
      "  File \"/usr/lib/python3.8/multiprocessing/process.py\", line 315, in _bootstrap\n",
      "    self.run()\n",
      "  File \"/home/shreeprasad/.local/lib/python3.8/site-packages/numpy/lib/function_base.py\", line 2276, in __call__\n",
      "    def __call__(self, *args, **kwargs):\n",
      "  File \"/usr/lib/python3.8/multiprocessing/pool.py\", line 48, in mapstar\n",
      "    return list(map(*args))\n",
      "  File \"/usr/lib/python3.8/multiprocessing/pool.py\", line 48, in mapstar\n",
      "    return list(map(*args))\n",
      "  File \"/tmp/ipykernel_1707085/2623805660.py\", line 3, in luminosity_distance\n",
      "    r  = [scipy.integrate.quad(vfunc,0,zarray,args=(Omega_M))[0] for zarray in z]\n",
      "  File \"/tmp/ipykernel_1707085/4177557702.py\", line 3, in log_likelihood\n",
      "    model = luminosity_distance(x, m)\n",
      "  File \"/usr/lib/python3.8/multiprocessing/process.py\", line 315, in _bootstrap\n",
      "    self.run()\n",
      "  File \"/usr/lib/python3.8/multiprocessing/pool.py\", line 48, in mapstar\n",
      "    return list(map(*args))\n",
      "  File \"/usr/lib/python3.8/multiprocessing/process.py\", line 108, in run\n",
      "    self._target(*self._args, **self._kwargs)\n",
      "  File \"/usr/lib/python3.8/multiprocessing/process.py\", line 108, in run\n",
      "    self._target(*self._args, **self._kwargs)\n",
      "KeyboardInterrupt\n",
      "  File \"/usr/lib/python3.8/multiprocessing/process.py\", line 108, in run\n",
      "    self._target(*self._args, **self._kwargs)\n",
      "  File \"/tmp/ipykernel_1707085/2623805660.py\", line 3, in <listcomp>\n",
      "    r  = [scipy.integrate.quad(vfunc,0,zarray,args=(Omega_M))[0] for zarray in z]\n",
      "  File \"/home/shreeprasad/.local/lib/python3.8/site-packages/emcee/ensemble.py\", line 624, in __call__\n",
      "    return self.f(x, *self.args, **self.kwargs)\n",
      "  File \"/home/shreeprasad/.local/lib/python3.8/site-packages/emcee/ensemble.py\", line 624, in __call__\n",
      "    return self.f(x, *self.args, **self.kwargs)\n",
      "  File \"/tmp/ipykernel_1707085/2623805660.py\", line 3, in luminosity_distance\n",
      "    r  = [scipy.integrate.quad(vfunc,0,zarray,args=(Omega_M))[0] for zarray in z]\n",
      "  File \"/usr/lib/python3.8/multiprocessing/process.py\", line 108, in run\n",
      "    self._target(*self._args, **self._kwargs)\n",
      "  File \"/home/shreeprasad/.local/lib/python3.8/site-packages/emcee/ensemble.py\", line 624, in __call__\n",
      "    return self.f(x, *self.args, **self.kwargs)\n",
      "  File \"/usr/lib/python3.8/multiprocessing/pool.py\", line 125, in worker\n",
      "    result = (True, func(*args, **kwds))\n",
      "  File \"/usr/lib/python3.8/multiprocessing/pool.py\", line 125, in worker\n",
      "    result = (True, func(*args, **kwds))\n",
      "Process ForkPoolWorker-10:\n",
      "  File \"/usr/lib/python3.8/multiprocessing/pool.py\", line 125, in worker\n",
      "    result = (True, func(*args, **kwds))\n",
      "  File \"/tmp/ipykernel_1707085/4177557702.py\", line 18, in log_posterior\n",
      "    return lp + log_likelihood(theta, x, y, yerr)\n",
      "  File \"/home/shreeprasad/.local/lib/python3.8/site-packages/scipy/integrate/_quadpack_py.py\", line 351, in quad\n",
      "    retval = _quad(func, a, b, args, full_output, epsabs, epsrel, limit,\n",
      "  File \"/tmp/ipykernel_1707085/2623805660.py\", line 3, in <listcomp>\n",
      "    r  = [scipy.integrate.quad(vfunc,0,zarray,args=(Omega_M))[0] for zarray in z]\n",
      "  File \"/usr/lib/python3.8/multiprocessing/pool.py\", line 125, in worker\n",
      "    result = (True, func(*args, **kwds))\n",
      "  File \"/tmp/ipykernel_1707085/4177557702.py\", line 18, in log_posterior\n",
      "    return lp + log_likelihood(theta, x, y, yerr)\n",
      "  File \"/tmp/ipykernel_1707085/4177557702.py\", line 18, in log_posterior\n",
      "    return lp + log_likelihood(theta, x, y, yerr)\n",
      "  File \"/usr/lib/python3.8/multiprocessing/pool.py\", line 48, in mapstar\n",
      "    return list(map(*args))\n",
      "  File \"/usr/lib/python3.8/multiprocessing/pool.py\", line 48, in mapstar\n",
      "    return list(map(*args))\n",
      "  File \"/usr/lib/python3.8/multiprocessing/pool.py\", line 48, in mapstar\n",
      "    return list(map(*args))\n",
      "  File \"/tmp/ipykernel_1707085/4177557702.py\", line 3, in log_likelihood\n",
      "    model = luminosity_distance(x, m)\n",
      "  File \"/home/shreeprasad/.local/lib/python3.8/site-packages/scipy/integrate/_quadpack_py.py\", line 463, in _quad\n",
      "    return _quadpack._qagse(func,a,b,args,full_output,epsabs,epsrel,limit)\n",
      "Traceback (most recent call last):\n",
      "  File \"/usr/lib/python3.8/multiprocessing/pool.py\", line 48, in mapstar\n",
      "    return list(map(*args))\n",
      "  File \"/home/shreeprasad/.local/lib/python3.8/site-packages/scipy/integrate/_quadpack_py.py\", line 351, in quad\n",
      "    retval = _quad(func, a, b, args, full_output, epsabs, epsrel, limit,\n",
      "  File \"/tmp/ipykernel_1707085/4177557702.py\", line 3, in log_likelihood\n",
      "    model = luminosity_distance(x, m)\n",
      "  File \"/home/shreeprasad/.local/lib/python3.8/site-packages/emcee/ensemble.py\", line 624, in __call__\n",
      "    return self.f(x, *self.args, **self.kwargs)\n",
      "  File \"/home/shreeprasad/.local/lib/python3.8/site-packages/emcee/ensemble.py\", line 624, in __call__\n",
      "    return self.f(x, *self.args, **self.kwargs)\n"
     ]
    },
    {
     "name": "stderr",
     "output_type": "stream",
     "text": [
      "  File \"/home/shreeprasad/.local/lib/python3.8/site-packages/emcee/ensemble.py\", line 624, in __call__\n",
      "    return self.f(x, *self.args, **self.kwargs)\n",
      "  File \"/tmp/ipykernel_1707085/4177557702.py\", line 3, in log_likelihood\n",
      "    model = luminosity_distance(x, m)\n",
      "  File \"/tmp/ipykernel_1707085/2623805660.py\", line 3, in luminosity_distance\n",
      "    r  = [scipy.integrate.quad(vfunc,0,zarray,args=(Omega_M))[0] for zarray in z]\n",
      "  File \"/home/shreeprasad/.local/lib/python3.8/site-packages/numpy/lib/function_base.py\", line 2304, in __call__\n",
      "    return self._vectorize_call(func=func, args=vargs)\n",
      "  File \"/usr/lib/python3.8/multiprocessing/process.py\", line 315, in _bootstrap\n",
      "    self.run()\n",
      "  File \"/home/shreeprasad/.local/lib/python3.8/site-packages/scipy/integrate/_quadpack_py.py\", line 463, in _quad\n",
      "    return _quadpack._qagse(func,a,b,args,full_output,epsabs,epsrel,limit)\n",
      "  File \"/tmp/ipykernel_1707085/2623805660.py\", line 3, in luminosity_distance\n",
      "    r  = [scipy.integrate.quad(vfunc,0,zarray,args=(Omega_M))[0] for zarray in z]\n",
      "  File \"/home/shreeprasad/.local/lib/python3.8/site-packages/emcee/ensemble.py\", line 624, in __call__\n",
      "    return self.f(x, *self.args, **self.kwargs)\n",
      "  File \"/tmp/ipykernel_1707085/4177557702.py\", line 18, in log_posterior\n",
      "    return lp + log_likelihood(theta, x, y, yerr)\n",
      "  File \"/tmp/ipykernel_1707085/4177557702.py\", line 18, in log_posterior\n",
      "    return lp + log_likelihood(theta, x, y, yerr)\n",
      "  File \"/tmp/ipykernel_1707085/4177557702.py\", line 18, in log_posterior\n",
      "    return lp + log_likelihood(theta, x, y, yerr)\n",
      "  File \"/tmp/ipykernel_1707085/2623805660.py\", line 3, in luminosity_distance\n",
      "    r  = [scipy.integrate.quad(vfunc,0,zarray,args=(Omega_M))[0] for zarray in z]\n",
      "  File \"/tmp/ipykernel_1707085/2623805660.py\", line 3, in <listcomp>\n",
      "    r  = [scipy.integrate.quad(vfunc,0,zarray,args=(Omega_M))[0] for zarray in z]\n",
      "  File \"/home/shreeprasad/.local/lib/python3.8/site-packages/numpy/lib/function_base.py\", line 2390, in _vectorize_call\n",
      "    res = asanyarray(outputs, dtype=otypes[0])\n",
      "  File \"/usr/lib/python3.8/multiprocessing/process.py\", line 108, in run\n",
      "    self._target(*self._args, **self._kwargs)\n",
      "  File \"/tmp/ipykernel_1707085/2623805660.py\", line 3, in <listcomp>\n",
      "    r  = [scipy.integrate.quad(vfunc,0,zarray,args=(Omega_M))[0] for zarray in z]\n",
      "  File \"/home/shreeprasad/.local/lib/python3.8/site-packages/numpy/lib/function_base.py\", line 2304, in __call__\n",
      "    return self._vectorize_call(func=func, args=vargs)\n",
      "  File \"/tmp/ipykernel_1707085/4177557702.py\", line 3, in log_likelihood\n",
      "    model = luminosity_distance(x, m)\n",
      "  File \"/tmp/ipykernel_1707085/4177557702.py\", line 3, in log_likelihood\n",
      "    model = luminosity_distance(x, m)\n",
      "  File \"/tmp/ipykernel_1707085/2623805660.py\", line 3, in <listcomp>\n",
      "    r  = [scipy.integrate.quad(vfunc,0,zarray,args=(Omega_M))[0] for zarray in z]\n",
      "  File \"/tmp/ipykernel_1707085/4177557702.py\", line 3, in log_likelihood\n",
      "    model = luminosity_distance(x, m)\n",
      "KeyboardInterrupt\n",
      "  File \"/usr/lib/python3.8/multiprocessing/pool.py\", line 125, in worker\n",
      "    result = (True, func(*args, **kwds))\n",
      "  File \"/home/shreeprasad/.local/lib/python3.8/site-packages/scipy/integrate/_quadpack_py.py\", line 351, in quad\n",
      "    retval = _quad(func, a, b, args, full_output, epsabs, epsrel, limit,\n",
      "  File \"/home/shreeprasad/.local/lib/python3.8/site-packages/scipy/integrate/_quadpack_py.py\", line 351, in quad\n",
      "    retval = _quad(func, a, b, args, full_output, epsabs, epsrel, limit,\n",
      "  File \"/home/shreeprasad/.local/lib/python3.8/site-packages/numpy/lib/function_base.py\", line 2387, in _vectorize_call\n",
      "    outputs = ufunc(*inputs)\n",
      "  File \"/tmp/ipykernel_1707085/2623805660.py\", line 3, in luminosity_distance\n",
      "    r  = [scipy.integrate.quad(vfunc,0,zarray,args=(Omega_M))[0] for zarray in z]\n",
      "  File \"/home/shreeprasad/.local/lib/python3.8/site-packages/scipy/integrate/_quadpack_py.py\", line 351, in quad\n",
      "    retval = _quad(func, a, b, args, full_output, epsabs, epsrel, limit,\n",
      "  File \"/tmp/ipykernel_1707085/2623805660.py\", line 3, in luminosity_distance\n",
      "    r  = [scipy.integrate.quad(vfunc,0,zarray,args=(Omega_M))[0] for zarray in z]\n",
      "  File \"/tmp/ipykernel_1707085/2623805660.py\", line 3, in luminosity_distance\n",
      "    r  = [scipy.integrate.quad(vfunc,0,zarray,args=(Omega_M))[0] for zarray in z]\n",
      "  File \"/tmp/ipykernel_1707085/4177557702.py\", line 18, in log_posterior\n",
      "    return lp + log_likelihood(theta, x, y, yerr)\n",
      "  File \"/home/shreeprasad/.local/lib/python3.8/site-packages/scipy/integrate/_quadpack_py.py\", line 463, in _quad\n",
      "    return _quadpack._qagse(func,a,b,args,full_output,epsabs,epsrel,limit)\n",
      "  File \"/usr/lib/python3.8/multiprocessing/pool.py\", line 48, in mapstar\n",
      "    return list(map(*args))\n",
      "  File \"/tmp/ipykernel_1707085/3141936610.py\", line 6, in integrand\n",
      "    return 1. / HubbelParameter(z, Omega_M)\n",
      "  File \"/tmp/ipykernel_1707085/2623805660.py\", line 3, in <listcomp>\n",
      "    r  = [scipy.integrate.quad(vfunc,0,zarray,args=(Omega_M))[0] for zarray in z]\n",
      "  File \"/home/shreeprasad/.local/lib/python3.8/site-packages/scipy/integrate/_quadpack_py.py\", line 463, in _quad\n",
      "    return _quadpack._qagse(func,a,b,args,full_output,epsabs,epsrel,limit)\n",
      "  File \"/home/shreeprasad/.local/lib/python3.8/site-packages/scipy/integrate/_quadpack_py.py\", line 463, in _quad\n",
      "    return _quadpack._qagse(func,a,b,args,full_output,epsabs,epsrel,limit)\n",
      "  File \"/tmp/ipykernel_1707085/2623805660.py\", line 3, in <listcomp>\n",
      "    r  = [scipy.integrate.quad(vfunc,0,zarray,args=(Omega_M))[0] for zarray in z]\n",
      "  File \"/home/shreeprasad/.local/lib/python3.8/site-packages/emcee/ensemble.py\", line 624, in __call__\n",
      "    return self.f(x, *self.args, **self.kwargs)\n",
      "  File \"/home/shreeprasad/.local/lib/python3.8/site-packages/numpy/lib/function_base.py\", line 2304, in __call__\n",
      "    return self._vectorize_call(func=func, args=vargs)\n",
      "  File \"/tmp/ipykernel_1707085/4177557702.py\", line 3, in log_likelihood\n",
      "    model = luminosity_distance(x, m)\n",
      "  File \"/tmp/ipykernel_1707085/3141936610.py\", line 2, in HubbelParameter\n",
      "    return H_0 * np.sqrt((Omega_M * (1+z)**3 + 1 - Omega_M))\n",
      "  File \"/tmp/ipykernel_1707085/2623805660.py\", line 3, in <listcomp>\n",
      "    r  = [scipy.integrate.quad(vfunc,0,zarray,args=(Omega_M))[0] for zarray in z]\n",
      "  File \"/home/shreeprasad/.local/lib/python3.8/site-packages/scipy/integrate/_quadpack_py.py\", line 351, in quad\n",
      "    retval = _quad(func, a, b, args, full_output, epsabs, epsrel, limit,\n",
      "  File \"/home/shreeprasad/.local/lib/python3.8/site-packages/numpy/lib/function_base.py\", line 2304, in __call__\n",
      "    return self._vectorize_call(func=func, args=vargs)\n",
      "  File \"/home/shreeprasad/.local/lib/python3.8/site-packages/numpy/lib/function_base.py\", line 2304, in __call__\n",
      "    return self._vectorize_call(func=func, args=vargs)\n",
      "  File \"/tmp/ipykernel_1707085/4177557702.py\", line 18, in log_posterior\n",
      "    return lp + log_likelihood(theta, x, y, yerr)\n",
      "  File \"/home/shreeprasad/.local/lib/python3.8/site-packages/numpy/lib/function_base.py\", line 2382, in _vectorize_call\n",
      "    ufunc, otypes = self._get_ufunc_and_otypes(func=func, args=args)\n",
      "  File \"/home/shreeprasad/.local/lib/python3.8/site-packages/scipy/integrate/_quadpack_py.py\", line 351, in quad\n",
      "    retval = _quad(func, a, b, args, full_output, epsabs, epsrel, limit,\n",
      "  File \"/home/shreeprasad/.local/lib/python3.8/site-packages/scipy/integrate/_quadpack_py.py\", line 463, in _quad\n",
      "    return _quadpack._qagse(func,a,b,args,full_output,epsabs,epsrel,limit)\n",
      "  File \"/tmp/ipykernel_1707085/2623805660.py\", line 3, in luminosity_distance\n",
      "    r  = [scipy.integrate.quad(vfunc,0,zarray,args=(Omega_M))[0] for zarray in z]\n",
      "  File \"/home/shreeprasad/.local/lib/python3.8/site-packages/numpy/lib/function_base.py\", line 2382, in _vectorize_call\n",
      "    ufunc, otypes = self._get_ufunc_and_otypes(func=func, args=args)\n",
      "  File \"/home/shreeprasad/.local/lib/python3.8/site-packages/scipy/integrate/_quadpack_py.py\", line 351, in quad\n",
      "    retval = _quad(func, a, b, args, full_output, epsabs, epsrel, limit,\n",
      "  File \"/home/shreeprasad/.local/lib/python3.8/site-packages/numpy/lib/function_base.py\", line 2371, in _get_ufunc_and_otypes\n",
      "    ufunc = frompyfunc(_func, len(args), nout)\n",
      "  File \"/home/shreeprasad/.local/lib/python3.8/site-packages/scipy/integrate/_quadpack_py.py\", line 463, in _quad\n",
      "    return _quadpack._qagse(func,a,b,args,full_output,epsabs,epsrel,limit)\n"
     ]
    },
    {
     "name": "stderr",
     "output_type": "stream",
     "text": [
      "  File \"/home/shreeprasad/.local/lib/python3.8/site-packages/numpy/lib/function_base.py\", line 2304, in __call__\n",
      "    return self._vectorize_call(func=func, args=vargs)\n",
      "  File \"/tmp/ipykernel_1707085/4177557702.py\", line 3, in log_likelihood\n",
      "    model = luminosity_distance(x, m)\n",
      "  File \"/home/shreeprasad/.local/lib/python3.8/site-packages/numpy/lib/function_base.py\", line 2382, in _vectorize_call\n",
      "    ufunc, otypes = self._get_ufunc_and_otypes(func=func, args=args)\n",
      "  File \"/home/shreeprasad/.local/lib/python3.8/site-packages/numpy/lib/function_base.py\", line 2336, in _get_ufunc_and_otypes\n",
      "    args = [asarray(arg) for arg in args]\n",
      "KeyboardInterrupt\n",
      "  File \"/home/shreeprasad/.local/lib/python3.8/site-packages/scipy/integrate/_quadpack_py.py\", line 463, in _quad\n",
      "    return _quadpack._qagse(func,a,b,args,full_output,epsabs,epsrel,limit)\n",
      "  File \"/home/shreeprasad/.local/lib/python3.8/site-packages/numpy/lib/function_base.py\", line 2304, in __call__\n",
      "    return self._vectorize_call(func=func, args=vargs)\n",
      "  File \"/tmp/ipykernel_1707085/2623805660.py\", line 3, in luminosity_distance\n",
      "    r  = [scipy.integrate.quad(vfunc,0,zarray,args=(Omega_M))[0] for zarray in z]\n",
      "KeyboardInterrupt\n",
      "  File \"/home/shreeprasad/.local/lib/python3.8/site-packages/numpy/lib/function_base.py\", line 2371, in _get_ufunc_and_otypes\n",
      "    ufunc = frompyfunc(_func, len(args), nout)\n",
      "  File \"/home/shreeprasad/.local/lib/python3.8/site-packages/numpy/lib/function_base.py\", line 2387, in _vectorize_call\n",
      "    outputs = ufunc(*inputs)\n",
      "  File \"/tmp/ipykernel_1707085/2623805660.py\", line 3, in <listcomp>\n",
      "    r  = [scipy.integrate.quad(vfunc,0,zarray,args=(Omega_M))[0] for zarray in z]\n",
      "  File \"/home/shreeprasad/.local/lib/python3.8/site-packages/numpy/lib/function_base.py\", line 2336, in <listcomp>\n",
      "    args = [asarray(arg) for arg in args]\n",
      "  File \"/home/shreeprasad/.local/lib/python3.8/site-packages/numpy/lib/function_base.py\", line 2304, in __call__\n",
      "    return self._vectorize_call(func=func, args=vargs)\n",
      "  File \"/home/shreeprasad/.local/lib/python3.8/site-packages/numpy/lib/function_base.py\", line 2382, in _vectorize_call\n",
      "    ufunc, otypes = self._get_ufunc_and_otypes(func=func, args=args)\n",
      "  File \"/tmp/ipykernel_1707085/2623805660.py\", line 3, in <listcomp>\n",
      "    r  = [scipy.integrate.quad(vfunc,0,zarray,args=(Omega_M))[0] for zarray in z]\n",
      "KeyboardInterrupt\n",
      "  File \"/tmp/ipykernel_1707085/3141936610.py\", line 6, in integrand\n",
      "    return 1. / HubbelParameter(z, Omega_M)\n",
      "  File \"/home/shreeprasad/.local/lib/python3.8/site-packages/scipy/integrate/_quadpack_py.py\", line 351, in quad\n",
      "    retval = _quad(func, a, b, args, full_output, epsabs, epsrel, limit,\n",
      "KeyboardInterrupt\n",
      "  File \"/tmp/ipykernel_1707085/3141936610.py\", line 2, in HubbelParameter\n",
      "    return H_0 * np.sqrt((Omega_M * (1+z)**3 + 1 - Omega_M))\n",
      "  File \"/home/shreeprasad/.local/lib/python3.8/site-packages/scipy/integrate/_quadpack_py.py\", line 463, in _quad\n",
      "    return _quadpack._qagse(func,a,b,args,full_output,epsabs,epsrel,limit)\n",
      "  File \"/home/shreeprasad/.local/lib/python3.8/site-packages/numpy/lib/function_base.py\", line 2304, in __call__\n",
      "    return self._vectorize_call(func=func, args=vargs)\n",
      "KeyboardInterrupt\n",
      "  File \"/home/shreeprasad/.local/lib/python3.8/site-packages/numpy/lib/function_base.py\", line 2382, in _vectorize_call\n",
      "    ufunc, otypes = self._get_ufunc_and_otypes(func=func, args=args)\n",
      "\n",
      "  File \"/home/shreeprasad/.local/lib/python3.8/site-packages/numpy/lib/function_base.py\", line 2341, in _get_ufunc_and_otypes\n",
      "    inputs = [arg.flat[0] for arg in args]\n",
      "  File \"/home/shreeprasad/.local/lib/python3.8/site-packages/numpy/lib/function_base.py\", line 2382, in _vectorize_call\n",
      "    ufunc, otypes = self._get_ufunc_and_otypes(func=func, args=args)\n",
      "  File \"/home/shreeprasad/.local/lib/python3.8/site-packages/numpy/lib/function_base.py\", line 2342, in _get_ufunc_and_otypes\n",
      "    outputs = func(*inputs)\n",
      "  File \"/home/shreeprasad/.local/lib/python3.8/site-packages/numpy/lib/function_base.py\", line 2342, in _get_ufunc_and_otypes\n",
      "    outputs = func(*inputs)\n",
      "  File \"/home/shreeprasad/.local/lib/python3.8/site-packages/numpy/lib/function_base.py\", line 2341, in <listcomp>\n",
      "    inputs = [arg.flat[0] for arg in args]\n",
      "  File \"/tmp/ipykernel_1707085/3141936610.py\", line 6, in integrand\n",
      "    return 1. / HubbelParameter(z, Omega_M)\n",
      "  File \"/tmp/ipykernel_1707085/3141936610.py\", line 5, in integrand\n",
      "    Hz = HubbelParameter(z, Omega_M)\n",
      "  File \"/tmp/ipykernel_1707085/3141936610.py\", line 2, in HubbelParameter\n",
      "    return H_0 * np.sqrt((Omega_M * (1+z)**3 + 1 - Omega_M))\n",
      "  File \"/tmp/ipykernel_1707085/3141936610.py\", line 2, in HubbelParameter\n",
      "    return H_0 * np.sqrt((Omega_M * (1+z)**3 + 1 - Omega_M))\n",
      "KeyboardInterrupt\n",
      "KeyboardInterrupt\n",
      "  File \"/home/shreeprasad/.local/lib/python3.8/site-packages/scipy/integrate/_quadpack_py.py\", line 351, in quad\n",
      "    retval = _quad(func, a, b, args, full_output, epsabs, epsrel, limit,\n",
      "KeyboardInterrupt\n",
      "  File \"/home/shreeprasad/.local/lib/python3.8/site-packages/scipy/integrate/_quadpack_py.py\", line 463, in _quad\n",
      "    return _quadpack._qagse(func,a,b,args,full_output,epsabs,epsrel,limit)\n",
      "  File \"/home/shreeprasad/.local/lib/python3.8/site-packages/numpy/lib/function_base.py\", line 2276, in __call__\n",
      "    def __call__(self, *args, **kwargs):\n",
      "KeyboardInterrupt\n"
     ]
    }
   ],
   "source": [
    "def log_likelihood(theta, x, y, yerr):\n",
    "    m, log_f = theta\n",
    "    model = luminosity_distance(x, m)\n",
    "    sigma2 = yerr**2 + model**2 * np.exp(2 * log_f)\n",
    "    return -0.5 * np.sum((y - model) ** 2 / sigma2 + np.log(sigma2))\n",
    "\n",
    "def log_prior(theta):\n",
    "    m, log_f = theta\n",
    "    if 0 < m < 1. and -3 < log_f < 0:\n",
    "        return 0.0\n",
    "    return -np.inf\n",
    "\n",
    "\n",
    "def log_posterior(theta, x, y, yerr):\n",
    "    lp = log_prior(theta)\n",
    "    if not np.isfinite(lp):\n",
    "        return -np.inf\n",
    "    return lp + log_likelihood(theta, x, y, yerr)\n",
    "\n",
    "# MCMC parameters\n",
    "nwalkers, ndim = 32, 2\n",
    "nsteps, nburns = 5000, 1000\n",
    "\n",
    "# create empty figure object for corner plots (confidence contours and marginalized PDFs of parameters)\n",
    "fig2 = plt.figure(figsize=(5, 5))\n",
    "fig2.patch.set_facecolor('white')\n",
    "\n",
    "x = z\n",
    "y = d_L_\n",
    "\n",
    "yerr = d_L_err\n",
    "\n",
    "rng = np.random.default_rng(123)\n",
    "omini = rng.uniform(0, 1, nwalkers)\n",
    "logfini = rng.uniform(-3, 0, nwalkers)\n",
    "starting_guesses  = np.array([omini, logfini]).T\n",
    "\n",
    "#starting_guesses = rng.normal(0, 1, (nwalkers, ndim))\n",
    "\n",
    "from multiprocessing import Pool\n",
    "\n",
    "with Pool() as pool:\n",
    "    sampler = emcee.EnsembleSampler(nwalkers, ndim, log_posterior, pool=pool, args=(x, y, yerr))\n",
    "    sampler.run_mcmc(starting_guesses, nsteps, progress=True)\n",
    "\n",
    "'''\n",
    "# time series plot of parameters\n",
    "samples = sampler.get_chain()\n",
    "gs11 = gridspec.GridSpecFromSubplotSpec(nrows=3, ncols=1, subplot_spec=gs1[k])\n",
    "\n",
    "for j in range(ndim):\n",
    "    ax = fig1.add_subplot(gs11[j])\n",
    "    ax.plot(samples[..., j], 'k', alpha=0.3)\n",
    "    ax.set_xlim(0, len(samples))\n",
    "    ax.set_ylabel(labels[j])\n",
    "    ax.yaxis.set_label_coords(-0.1, 0.5)\n",
    "    #axes[-1].set_xlabel(\"step number\");\n",
    "'''\n",
    "# corner plots\n",
    "flat_samples = sampler.get_chain(discard=nburns, flat=True)\n",
    "corner.corner(flat_samples, labels=['omega_M','log_f'], color='b',fig=fig2)\n",
    "\n",
    "# save best fit values(mean) and uncertainities(std) of parameters in a dictionary\n",
    "omega_M_correlation_best_fit = {\n",
    "        'omega_M' : np.mean(flat_samples[:,0]), \n",
    "        'omega_M_err' : np.std(flat_samples[:,0]),\n",
    "        'sigma_int' : np.mean(flat_samples[:, 1]),\n",
    "        'sigma_int_err' : np.std(flat_samples[:, 1])\n",
    "    }\n",
    "\n",
    "#fig2.axes[0].annotate(sample_type, xy=(0.95*2.5, 0.95-k*0.2), xycoords='axes fraction',color=color)\n",
    "\n",
    "fig2.suptitle('omega_M')\n",
    "\n",
    "#fig1.savefig('time_series_of_params.png')\n",
    "fig2.savefig(os.path.join(out_dir,'18_omega_M_corner_plot.png'))\n",
    "#fig1.show()\n",
    "fig2.show()"
   ]
  },
  {
   "cell_type": "code",
   "execution_count": null,
   "metadata": {
    "id": "3x7Hekw047Ha"
   },
   "outputs": [],
   "source": [
    "print('omega_M = {}'.format(omega_M_correlation_best_fit['omega_M']))\n",
    "print('omega_M_err = {}'.format(omega_M_correlation_best_fit['omega_M_err']))\n",
    "\n",
    "print('omega_L = {}'.format(1 - omega_M_correlation_best_fit['omega_M']))\n",
    "print('omega_L_err = {}'.format(omega_M_correlation_best_fit['omega_M_err']))"
   ]
  },
  {
   "cell_type": "code",
   "execution_count": null,
   "metadata": {},
   "outputs": [],
   "source": []
  }
 ],
 "metadata": {
  "accelerator": "GPU",
  "colab": {
   "collapsed_sections": [],
   "name": "01-.ipynb",
   "provenance": []
  },
  "kernelspec": {
   "display_name": "Python 3 (ipykernel)",
   "language": "python",
   "name": "python3"
  },
  "language_info": {
   "codemirror_mode": {
    "name": "ipython",
    "version": 3
   },
   "file_extension": ".py",
   "mimetype": "text/x-python",
   "name": "python",
   "nbconvert_exporter": "python",
   "pygments_lexer": "ipython3",
   "version": "3.8.10"
  }
 },
 "nbformat": 4,
 "nbformat_minor": 1
}
