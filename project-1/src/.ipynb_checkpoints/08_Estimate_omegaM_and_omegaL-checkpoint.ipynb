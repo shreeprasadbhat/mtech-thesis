{
 "cells": [
  {
   "cell_type": "code",
   "execution_count": 28,
   "metadata": {},
   "outputs": [],
   "source": [
    "%%capture\n",
    "%run 07_Recaliberate_DistanceModulus.ipynb"
   ]
  },
  {
   "cell_type": "code",
   "execution_count": 29,
   "metadata": {},
   "outputs": [
    {
     "name": "stdout",
     "output_type": "stream",
     "text": [
      "Requirement already satisfied: tqdm in /home/shreeprasad/.local/lib/python3.8/site-packages (4.64.0)\r\n"
     ]
    }
   ],
   "source": [
    "!pip install tqdm"
   ]
  },
  {
   "cell_type": "code",
   "execution_count": 30,
   "metadata": {},
   "outputs": [],
   "source": [
    "import emcee\n",
    "import corner\n",
    "import scipy\n",
    "import numpy as np"
   ]
  },
  {
   "cell_type": "code",
   "execution_count": 31,
   "metadata": {},
   "outputs": [],
   "source": [
    "#Omega_M = 0.286\n",
    "z = filtered_GRB['z'].to_numpy()\n",
    "H_0 = 70 # km/sec/Mpc\n",
    "c = 299792.458 # km/s"
   ]
  },
  {
   "cell_type": "code",
   "execution_count": 32,
   "metadata": {},
   "outputs": [],
   "source": [
    "# convert cm to Mpc\n",
    "d_L_ = d_L / (10**6 * 3.086e+18)\n",
    "d_L_err = d_L_err / (10**6 * 3.086e+18)"
   ]
  },
  {
   "cell_type": "code",
   "execution_count": 39,
   "metadata": {},
   "outputs": [
    {
     "name": "stdout",
     "output_type": "stream",
     "text": [
      "4597.358544821771\n"
     ]
    }
   ],
   "source": [
    "def HubbelParameter(z, Omega_M):\n",
    "    return H_0 * np.sqrt((Omega_M * (1+z)**3 + 1 - Omega_M))\n",
    "\n",
    "def integrand(z, Omega_M):\n",
    "    Hz = HubbelParameter(z, Omega_M)\n",
    "    return 1. / HubbelParameter(z, Omega_M)\n",
    "\n",
    "def luminosity_distance(z, Omega_M):\n",
    "    vfunc = np.vectorize(integrand)\n",
    "    r,e = scipy.integrate.quad(vfunc,0.1,z,args=(Omega_M))\n",
    "    return c * (1. + z) *r\n",
    "\n",
    "print(luminosity_distance(0.84, 0.286)) # sanity-check"
   ]
  },
  {
   "cell_type": "markdown",
   "metadata": {},
   "source": [
    "Below is shown estimating Omega in two different techniques\n",
    "1. using scipy.optimize.fsolve\n",
    "2. emcee tool"
   ]
  },
  {
   "cell_type": "markdown",
   "metadata": {},
   "source": [
    "## 1. scipy.optimize.solve"
   ]
  },
  {
   "cell_type": "code",
   "execution_count": 45,
   "metadata": {
    "scrolled": false
   },
   "outputs": [
    {
     "name": "stderr",
     "output_type": "stream",
     "text": [
      "/tmp/ipykernel_1111141/3141936610.py:2: RuntimeWarning: invalid value encountered in sqrt\n",
      "  return H_0 * np.sqrt((Omega_M * (1+z)**3 + 1 - Omega_M))\n",
      "/tmp/ipykernel_1111141/3141936610.py:10: IntegrationWarning: The occurrence of roundoff error is detected, which prevents \n",
      "  the requested tolerance from being achieved.  The error may be \n",
      "  underestimated.\n",
      "  r,e = scipy.integrate.quad(vfunc,0.1,z,args=(Omega_M))\n"
     ]
    },
    {
     "name": "stdout",
     "output_type": "stream",
     "text": [
      "Omega_M 0.4163798149570552\n"
     ]
    }
   ],
   "source": [
    "def func(Omega_M, d_L, z) :\n",
    "    return d_L - luminosity_distance(z, Omega_M)\n",
    "\n",
    "vfunc = np.vectorize(func)\n",
    "\n",
    "Omega_M_guess = 0.27\n",
    "\n",
    "Omega_M_sum = 0\n",
    "count = 0;\n",
    "for i in range(d_L_.shape[0]):\n",
    "    if d_L_err[i] > 3000:  continue # ignore large errors\n",
    "    Omega_M, = scipy.optimize.fsolve(func, Omega_M_guess, args=(d_L_[i], z[i]))\n",
    "    #print(Omega_M)\n",
    "    Omega_M_sum += Omega_M\n",
    "    count += 1\n",
    "\n",
    "Omega_M = Omega_M_sum / count\n",
    "print(f'Omega_M {Omega_M}')"
   ]
  },
  {
   "cell_type": "markdown",
   "metadata": {},
   "source": [
    "## 2. emcee"
   ]
  },
  {
   "cell_type": "code",
   "execution_count": 47,
   "metadata": {},
   "outputs": [],
   "source": [
    "def luminosity_distance(z, Omega_M):\n",
    "    vfunc = np.vectorize(integrand)\n",
    "    r  = [scipy.integrate.quad(vfunc,0,zarray,args=(Omega_M))[0] for zarray in z]\n",
    "    return c * (1. + z) *r"
   ]
  },
  {
   "cell_type": "code",
   "execution_count": 48,
   "metadata": {},
   "outputs": [],
   "source": [
    "import os\n",
    "\n",
    "os.environ[\"OMP_NUM_THREADS\"] = \"1\""
   ]
  },
  {
   "cell_type": "code",
   "execution_count": 49,
   "metadata": {
    "id": "YDwUsf2BXR07"
   },
   "outputs": [
    {
     "name": "stderr",
     "output_type": "stream",
     "text": [
      "  0%|                                                  | 0/5000 [00:00<?, ?it/s]/home/shreeprasad/.local/lib/python3.8/site-packages/emcee/moves/red_blue.py:99: RuntimeWarning: invalid value encountered in double_scalars\n",
      "  lnpdiff = f + nlp - state.log_prob[j]\n",
      "100%|███████████████████████████████████████| 5000/5000 [02:48<00:00, 29.61it/s]\n"
     ]
    },
    {
     "data": {
      "image/png": "[encoded data removed]",
      "text/plain": [
       "<Figure size 360x360 with 4 Axes>"
      ]
     },
     "metadata": {},
     "output_type": "display_data"
    }
   ],
   "source": [
    "def log_likelihood(theta, x, y, yerr):\n",
    "    m, log_f = theta\n",
    "    model = luminosity_distance(x, m)\n",
    "    sigma2 = yerr**2 + model**2 * np.exp(2 * log_f)\n",
    "    return -0.5 * np.sum((y - model) ** 2 / sigma2 + np.log(sigma2))\n",
    "\n",
    "def log_prior(theta):\n",
    "    m, log_f = theta\n",
    "    if 0 < m < 1. and -10.0 < log_f < 10.0:\n",
    "        return 0.0\n",
    "    return -np.inf\n",
    "\n",
    "def log_posterior(theta, x, y, yerr):\n",
    "    lp = log_prior(theta)\n",
    "    if not np.isfinite(lp):\n",
    "        return -np.inf\n",
    "    return lp + log_likelihood(theta, x, y, yerr)\n",
    "\n",
    "# MCMC parameters\n",
    "nwalkers, ndim = 16,2#64, 2\n",
    "nsteps, nburns = 5000, 1000\n",
    "\n",
    "# create empty figure object for corner plots (confidence contours and marginalized PDFs of parameters)\n",
    "fig2 = plt.figure(figsize=(5, 5))\n",
    "fig2.patch.set_facecolor('white')\n",
    "\n",
    "x = z\n",
    "y = d_L_\n",
    "\n",
    "yerr = d_L_err\n",
    "\n",
    "rng = np.random.default_rng(123)\n",
    "starting_guesses = rng.normal(0, 1, (nwalkers, ndim))\n",
    "from multiprocessing import Pool\n",
    "\n",
    "with Pool() as pool:\n",
    "    sampler = emcee.EnsembleSampler(nwalkers, ndim, log_posterior, pool=pool, args=(x, y, yerr))\n",
    "    sampler.run_mcmc(starting_guesses, nsteps, progress=True)\n",
    "\n",
    "'''\n",
    "# time series plot of parameters\n",
    "samples = sampler.get_chain()\n",
    "gs11 = gridspec.GridSpecFromSubplotSpec(nrows=3, ncols=1, subplot_spec=gs1[k])\n",
    "\n",
    "for j in range(ndim):\n",
    "    ax = fig1.add_subplot(gs11[j])\n",
    "    ax.plot(samples[..., j], 'k', alpha=0.3)\n",
    "    ax.set_xlim(0, len(samples))\n",
    "    ax.set_ylabel(labels[j])\n",
    "    ax.yaxis.set_label_coords(-0.1, 0.5)\n",
    "    #axes[-1].set_xlabel(\"step number\");\n",
    "'''\n",
    "# corner plots\n",
    "flat_samples = sampler.get_chain(discard=nburns, flat=True)\n",
    "corner.corner(flat_samples, labels=['omega_M','log_f'], color='b',fig=fig2)\n",
    "\n",
    "# save best fit values(mean) and uncertainities(std) of parameters in a dictionary\n",
    "omega_M_correlation_best_fit = {\n",
    "        'omega_M' : np.mean(flat_samples[:,0]), \n",
    "        'omega_M_err' : np.std(flat_samples[:,0]),\n",
    "        'sigma_int' : np.mean(flat_samples[:, 1]),\n",
    "        'sigma_int_err' : np.std(flat_samples[:, 1])\n",
    "    }\n",
    "\n",
    "#fig2.axes[0].annotate(sample_type, xy=(0.95*2.5, 0.95-k*0.2), xycoords='axes fraction',color=color)\n",
    "\n",
    "fig2.suptitle('omega_M')\n",
    "\n",
    "#fig1.savefig('time_series_of_params.png')\n",
    "fig2.savefig(os.path.join(out_dir,'18_omega_M_corner_plot.png'))\n",
    "#fig1.show()\n",
    "fig2.show()"
   ]
  },
  {
   "cell_type": "code",
   "execution_count": 50,
   "metadata": {
    "id": "3x7Hekw047Ha"
   },
   "outputs": [
    {
     "name": "stdout",
     "output_type": "stream",
     "text": [
      "omega_M = 0.39895701738765715\n",
      "omega_M_err = 0.6820023533923348\n",
      "omega_L = 0.6010429826123429\n",
      "omega_L_err = 0.6820023533923348\n"
     ]
    }
   ],
   "source": [
    "print('omega_M = {}'.format(omega_M_correlation_best_fit['omega_M']))\n",
    "print('omega_M_err = {}'.format(omega_M_correlation_best_fit['omega_M_err']))\n",
    "\n",
    "print('omega_L = {}'.format(1 - omega_M_correlation_best_fit['omega_M']))\n",
    "print('omega_L_err = {}'.format(omega_M_correlation_best_fit['omega_M_err']))"
   ]
  },
  {
   "cell_type": "code",
   "execution_count": null,
   "metadata": {},
   "outputs": [],
   "source": []
  }
 ],
 "metadata": {
  "accelerator": "GPU",
  "colab": {
   "collapsed_sections": [],
   "name": "01-.ipynb",
   "provenance": []
  },
  "kernelspec": {
   "display_name": "Python 3 (ipykernel)",
   "language": "python",
   "name": "python3"
  },
  "language_info": {
   "codemirror_mode": {
    "name": "ipython",
    "version": 3
   },
   "file_extension": ".py",
   "mimetype": "text/x-python",
   "name": "python",
   "nbconvert_exporter": "python",
   "pygments_lexer": "ipython3",
   "version": "3.8.10"
  }
 },
 "nbformat": 4,
 "nbformat_minor": 1
}
