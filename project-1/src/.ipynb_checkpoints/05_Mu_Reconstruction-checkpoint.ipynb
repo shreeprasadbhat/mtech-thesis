{
 "cells": [
  {
   "cell_type": "code",
   "execution_count": 1,
   "metadata": {},
   "outputs": [],
   "source": [
    "%%capture\n",
    "%run 00_Dataset.ipynb"
   ]
  },
  {
   "cell_type": "code",
   "execution_count": 2,
   "metadata": {},
   "outputs": [],
   "source": [
    "import os\n",
    "import pandas as pd\n",
    "import numpy as np"
   ]
  },
  {
   "cell_type": "code",
   "execution_count": 3,
   "metadata": {},
   "outputs": [],
   "source": [
    "GRB = pd.read_csv(os.path.join('../data/','GRB','GRB_data_Wang_et_al_2011.csv'))\n",
    "GRB = GRB.sort_values('z', ascending=False)\n",
    "zGRB = GRB['z'].to_numpy()\n"
   ]
  },
  {
   "cell_type": "code",
   "execution_count": 4,
   "metadata": {
    "id": "juGDb4igqrO8"
   },
   "outputs": [],
   "source": [
    "if modelname == 'gaussianprocess':\n",
    "    \n",
    "    %run 02_Model_GuassianProcess.ipynb\n",
    "    \n",
    "    mu, mu_err = gpr.predict(zGRB.reshape(-1,1), return_std=True)"
   ]
  },
  {
   "cell_type": "code",
   "execution_count": 5,
   "metadata": {
    "scrolled": true
   },
   "outputs": [
    {
     "name": "stderr",
     "output_type": "stream",
     "text": [
      "2022-05-23 11:19:55.102628: E tensorflow/stream_executor/cuda/cuda_driver.cc:271] failed call to cuInit: CUDA_ERROR_COMPAT_NOT_SUPPORTED_ON_DEVICE: forward compatibility was attempted on non supported HW\n",
      "2022-05-23 11:19:55.102664: I tensorflow/stream_executor/cuda/cuda_diagnostics.cc:169] retrieving CUDA diagnostic information for host: spk\n",
      "2022-05-23 11:19:55.102669: I tensorflow/stream_executor/cuda/cuda_diagnostics.cc:176] hostname: spk\n",
      "2022-05-23 11:19:55.102765: I tensorflow/stream_executor/cuda/cuda_diagnostics.cc:200] libcuda reported version is: 470.129.6\n",
      "2022-05-23 11:19:55.102782: I tensorflow/stream_executor/cuda/cuda_diagnostics.cc:204] kernel reported version is: 470.103.1\n",
      "2022-05-23 11:19:55.102786: E tensorflow/stream_executor/cuda/cuda_diagnostics.cc:313] kernel version 470.103.1 does not match DSO version 470.129.6 -- cannot find working devices in this configuration\n",
      "2022-05-23 11:19:55.102998: I tensorflow/core/platform/cpu_feature_guard.cc:151] This TensorFlow binary is optimized with oneAPI Deep Neural Network Library (oneDNN) to use the following CPU instructions in performance-critical operations:  AVX2 FMA\n",
      "To enable them in other operations, rebuild TensorFlow with the appropriate compiler flags.\n"
     ]
    },
    {
     "name": "stdout",
     "output_type": "stream",
     "text": [
      "Model: \"model\"\n",
      "_________________________________________________________________\n",
      " Layer (type)                Output Shape              Param #   \n",
      "=================================================================\n",
      " input_1 (InputLayer)        [(None, 4, 1)]            0         \n",
      "                                                                 \n",
      " lstm (LSTM)                 (None, 4, 100)            40800     \n",
      "                                                                 \n",
      " dropout (Dropout)           (None, 4, 100)            0         \n",
      "                                                                 \n",
      " lstm_1 (LSTM)               (None, 4, 100)            80400     \n",
      "                                                                 \n",
      " dropout_1 (Dropout)         (None, 4, 100)            0         \n",
      "                                                                 \n",
      " dense (Dense)               (None, 4, 1)              101       \n",
      "                                                                 \n",
      "=================================================================\n",
      "Total params: 121,301\n",
      "Trainable params: 121,301\n",
      "Non-trainable params: 0\n",
      "_________________________________________________________________\n",
      "Model: \"model_1\"\n",
      "_________________________________________________________________\n",
      " Layer (type)                Output Shape              Param #   \n",
      "=================================================================\n",
      " input_2 (InputLayer)        [(None, 4, 1)]            0         \n",
      "                                                                 \n",
      " lstm_2 (LSTM)               (None, 4, 100)            40800     \n",
      "                                                                 \n",
      " dropout_2 (Dropout)         (None, 4, 100)            0         \n",
      "                                                                 \n",
      " lstm_3 (LSTM)               (None, 4, 100)            80400     \n",
      "                                                                 \n",
      " dropout_3 (Dropout)         (None, 4, 100)            0         \n",
      "                                                                 \n",
      " dense_1 (Dense)             (None, 4, 1)              101       \n",
      "                                                                 \n",
      "=================================================================\n",
      "Total params: 121,301\n",
      "Trainable params: 121,301\n",
      "Non-trainable params: 0\n",
      "_________________________________________________________________\n"
     ]
    }
   ],
   "source": [
    "if modelname == 'lstm':\n",
    "    \n",
    "    %run 03_Model_RNN_BNN.ipynb\n",
    "    \n",
    "    model_u = model_uncertainity()\n",
    "    model_u.compile(\n",
    "        optimizer = tf.keras.optimizers.Adam(1e-3), \n",
    "        loss = tf.keras.losses.MeanSquaredError(), \n",
    "        metrics = tf.keras.metrics.RootMeanSquaredError()\n",
    "    )\n",
    "    model_u.load_weights(os.path.join(out_dir,'cp.ckpt'))\n",
    "    \n",
    "    zGRB_reconstruct = np.expand_dims(strided_app(zGRB, 4, 1), axis=-1)\n",
    "    zGRB_reconstruct = np.append(np.array([zGRB[0], zGRB[0], zGRB[0], zGRB[0]]).reshape(1,-1,1), zGRB_reconstruct, axis=0)\n",
    "    zGRB_reconstruct = np.append(np.array([zGRB[0], zGRB[0], zGRB[0], zGRB[1]]).reshape(1,-1,1), zGRB_reconstruct, axis=0)\n",
    "    zGRB_reconstruct = np.append(np.array([zGRB[0], zGRB[0], zGRB[1], zGRB[2]]).reshape(1,-1,1), zGRB_reconstruct, axis=0)\n",
    "\n",
    "    mu_reconstruct_uncertainity = []\n",
    "    n = 1000\n",
    "    for i in range(n):\n",
    "        y_pred = model_u.predict(zGRB_reconstruct, batch_size=500)[:,-1].flatten()\n",
    "        y_pred = mu_scaler.inverse_transform(y_pred.reshape(-1,1)).reshape(-1)\n",
    "        mu_reconstruct_uncertainity.append(y_pred)\n",
    "\n",
    "    mu_reconstruct_uncertainity = np.array(mu_reconstruct_uncertainity)\n",
    "\n",
    "    # save output in a file\n",
    "    mu = np.mean(mu_reconstruct_uncertainity, axis=0)\n",
    "    mu_err = np.std(mu_reconstruct_uncertainity, axis=0)"
   ]
  },
  {
   "cell_type": "code",
   "execution_count": 6,
   "metadata": {},
   "outputs": [],
   "source": [
    "np.savetxt(os.path.join(out_dir,\"reconstruction.csv\"), np.array([mu, mu_err]), delimiter=\",\")"
   ]
  }
 ],
 "metadata": {
  "accelerator": "GPU",
  "colab": {
   "collapsed_sections": [],
   "name": "01-.ipynb",
   "provenance": []
  },
  "kernelspec": {
   "display_name": "Python 3 (ipykernel)",
   "language": "python",
   "name": "python3"
  },
  "language_info": {
   "codemirror_mode": {
    "name": "ipython",
    "version": 3
   },
   "file_extension": ".py",
   "mimetype": "text/x-python",
   "name": "python",
   "nbconvert_exporter": "python",
   "pygments_lexer": "ipython3",
   "version": "3.8.10"
  }
 },
 "nbformat": 4,
 "nbformat_minor": 1
}
