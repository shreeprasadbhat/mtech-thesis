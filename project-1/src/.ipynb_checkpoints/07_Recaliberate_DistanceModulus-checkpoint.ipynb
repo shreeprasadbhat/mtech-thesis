{
 "cells": [
  {
   "cell_type": "code",
   "execution_count": 1,
   "metadata": {},
   "outputs": [],
   "source": [
    "%run 00_Dataset.ipynb"
   ]
  },
  {
   "cell_type": "code",
   "execution_count": 2,
   "metadata": {},
   "outputs": [],
   "source": [
    "import os\n",
    "import pickle\n",
    "import numpy as np\n",
    "import pandas as pd\n",
    "import matplotlib.pyplot as plt"
   ]
  },
  {
   "cell_type": "code",
   "execution_count": 3,
   "metadata": {},
   "outputs": [],
   "source": [
    "if dataset == 'Pantheon':\n",
    "    skip_header = 6\n",
    "else :\n",
    "    skip_header = 0\n",
    "    \n",
    "df_SNe = (np.genfromtxt(\n",
    "    in_filepath,\n",
    "    skip_header=skip_header, \n",
    "    names=True,\n",
    "    comments='#')\n",
    ")\n",
    "\n",
    "df_SNe = pd.DataFrame(df_SNe)"
   ]
  },
  {
   "cell_type": "code",
   "execution_count": 4,
   "metadata": {},
   "outputs": [],
   "source": [
    "GRB = pd.read_csv(os.path.join(out_dir,'GRB_'+dataset+'.csv'))"
   ]
  },
  {
   "cell_type": "code",
   "execution_count": 5,
   "metadata": {},
   "outputs": [],
   "source": [
    "with open(os.path.join(out_dir, 'BestFitParameters.pickle'), 'rb') as handle:\n",
    "    BestFitParameters = pickle.load(handle)"
   ]
  },
  {
   "cell_type": "code",
   "execution_count": 6,
   "metadata": {
    "id": "gBPxbyPg8JzE"
   },
   "outputs": [],
   "source": [
    "def calculate_E_gamma_from_correlation(log_E_peak_i, log_E_peak_i_err): \n",
    " \n",
    "    # get best fit parameters for correlation \n",
    "    a = 50.650#BestFitParameters['E_peak-E_gamma']['All-z']['a'] \n",
    "    a_err = 0.067#BestFitParameters['E_peak-E_gamma']['All-z']['a_err'] \n",
    "    b = 1.486#BestFitParameters['E_peak-E_gamma']['All-z']['b']\n",
    "    b_err = 0.157#BestFitParameters['E_peak-E_gamma']['All-z']['b_err']\n",
    "\n",
    "    # log transformed, normalized E_peak\n",
    "    log_E_gamma = a + b * log_E_peak_i\n",
    "    log_E_gamma_err = np.sqrt(a_err**2 + (abs(b * log_E_peak_i) * np.sqrt((b_err/b)**2 + (log_E_peak_i_err/log_E_peak_i)**2))**2)\n",
    "\n",
    "    E_gamma = 10 ** log_E_gamma\n",
    "\n",
    "    E_gamma_err = abs(E_gamma) * abs(np.log(10) * log_E_gamma_err)\n",
    "\n",
    "    return E_gamma, E_gamma_err\n",
    "\n",
    "def calculate_E_iso(E_gamma, E_gamma_err, F_beam, F_beam_err):\n",
    "\n",
    "    E_iso = E_gamma / F_beam\n",
    "    E_iso_err = abs(E_iso) * np.sqrt( (E_gamma_err/E_gamma)**2 + (F_beam_err/F_beam)**2 )\n",
    "\n",
    "    return E_iso, E_iso_err\n",
    "\n",
    "\n",
    "def calculate_d_L(E_iso, E_iso_err, S_bolo, S_bolo_err, z):\n",
    "\n",
    "    # calculate d_L\n",
    "    a = E_iso * (1. + z)\n",
    "    a_err = (1.+z) * E_iso_err\n",
    "\n",
    "    b = 4. * np.pi * S_bolo\n",
    "    b_err = 4. * np.pi * S_bolo_err\n",
    "\n",
    "    c = a/b\n",
    "    c_err = abs(c) * np.sqrt((a_err/a)**2 + (b_err/b)**2)\n",
    "\n",
    "    d_L = np.sqrt(c) \n",
    "    d_L_err = c_err / (2*np.sqrt(c))\n",
    "\n",
    "    return d_L, d_L_err\n",
    "\n",
    "    \n",
    "def caliberate_d_L(log_E_peak_i, log_E_peak_i_err, F_beam, F_beam_err, S_bolo, S_bolo_err, z):\n",
    "    \n",
    "    # calculate E_gamma from E_gamma-E_peak correlation\n",
    "    E_gamma, E_gamma_err = calculate_E_gamma_from_correlation(log_E_peak_i, log_E_peak_i_err)\n",
    "\n",
    "    # calculate E_iso\n",
    "    E_iso, E_iso_err = calculate_E_iso(E_gamma, E_gamma_err, F_beam, F_beam_err)\n",
    "\n",
    "    # calculate d_L\n",
    "    d_L, d_L_err = calculate_d_L(E_iso, E_iso_err, S_bolo, S_bolo_err, z)\n",
    "\n",
    "    return d_L, d_L_err\n",
    "\n",
    "def caliberate_mu(d_L, d_L_err):\n",
    "\n",
    "    # calculate mu\n",
    "    mu = 5. * np.log10(d_L / (10**6 * 2.998e+18)) + 25.\n",
    "    mu_err = abs(5. * d_L_err / (d_L * np.log(10))) \n",
    "\n",
    "    return mu, mu_err"
   ]
  },
  {
   "cell_type": "code",
   "execution_count": 7,
   "metadata": {},
   "outputs": [
    {
     "name": "stdout",
     "output_type": "stream",
     "text": [
      "Expected : 6.11649861769205e+49\n",
      "Outcome : (7.679388927312186e+50, 6.6511025091630296e+50)\n"
     ]
    }
   ],
   "source": [
    "def test_calculate_E_gamma_from_correlation(GRB) :\n",
    "    test = GRB.dropna(subset=['E_gamma'])\n",
    "    E_gamma = test['E_gamma'].iloc(0)[0]\n",
    "    log_E_peak_i = test['log_E_peak_i'].iloc(0)[0]\n",
    "    log_E_peak_i_err = test['log_E_peak_i_err'].iloc(0)[0]\n",
    "    \n",
    "    print(f'Expected : {E_gamma}')\n",
    "    print(f'Outcome : {calculate_E_gamma_from_correlation(log_E_peak_i, log_E_peak_i_err)}')\n",
    "\n",
    "test_calculate_E_gamma_from_correlation(GRB)"
   ]
  },
  {
   "cell_type": "code",
   "execution_count": 8,
   "metadata": {
    "id": "u2eZiBWLiJW_"
   },
   "outputs": [
    {
     "data": {
      "image/png": "[encoded data removed]",
      "text/plain": [
       "<Figure size 720x576 with 1 Axes>"
      ]
     },
     "metadata": {},
     "output_type": "display_data"
    }
   ],
   "source": [
    "# caliberate d_L from E_peak - E_gamma relation, hence only those GRBs with \n",
    "# sufficient data(E_peak, F_beam, S_bolo) can be caliberated using from this \n",
    "filtered_GRB = GRB[['E_gamma', 'E_gamma_err','log_E_peak_i', 'log_E_peak_i_err', 'F_beam', 'F_beam_err', 'S_bolo', 'S_bolo_err', 'z']].dropna()\n",
    "\n",
    "d_L, d_L_err = caliberate_d_L(\n",
    "    filtered_GRB['log_E_peak_i'].to_numpy(), \n",
    "    filtered_GRB['log_E_peak_i_err'].to_numpy(),\n",
    "    filtered_GRB['F_beam'].to_numpy(),\n",
    "    filtered_GRB['F_beam_err'].to_numpy(),\n",
    "    filtered_GRB['S_bolo'].to_numpy(),\n",
    "    filtered_GRB['S_bolo_err'].to_numpy(),\n",
    "    filtered_GRB['z'].to_numpy())\n",
    "\n",
    "mu_GRB, mu_err_GRB = caliberate_mu(d_L, d_L_err)\n",
    "\n",
    "fig, ax = plt.subplots(figsize=(10, 8))\n",
    "fig.patch.set_facecolor('white')\n",
    "\n",
    "ax.errorbar(filtered_GRB['z'].to_numpy(), mu_GRB, yerr=mu_err_GRB, fmt='.', color='b', capsize=2, label='GRB')\n",
    "ax.errorbar(df_SNe['zCMB'], df_SNe['MU'], yerr=df_SNe['MUERR'], fmt='.r', capsize=2, label=dataset+' sample')\n",
    "ax.legend()\n",
    "ax.set_xlabel('z')\n",
    "ax.set_ylabel('mu')\n",
    "plt.savefig(os.path.join(out_dir,'16_GRB_reconstruction.png'))\n",
    "plt.show()"
   ]
  }
 ],
 "metadata": {
  "accelerator": "GPU",
  "colab": {
   "collapsed_sections": [],
   "name": "01-.ipynb",
   "provenance": []
  },
  "kernelspec": {
   "display_name": "Python 3 (ipykernel)",
   "language": "python",
   "name": "python3"
  },
  "language_info": {
   "codemirror_mode": {
    "name": "ipython",
    "version": 3
   },
   "file_extension": ".py",
   "mimetype": "text/x-python",
   "name": "python",
   "nbconvert_exporter": "python",
   "pygments_lexer": "ipython3",
   "version": "3.8.10"
  }
 },
 "nbformat": 4,
 "nbformat_minor": 1
}
