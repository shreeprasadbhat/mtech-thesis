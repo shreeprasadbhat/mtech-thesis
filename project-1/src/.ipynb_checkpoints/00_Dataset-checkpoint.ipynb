{
 "cells": [
  {
   "cell_type": "code",
   "execution_count": 1,
   "id": "3e95b478",
   "metadata": {},
   "outputs": [],
   "source": [
    "dataset = 'Pantheon' # 'Union'\n",
    "in_filepath = '../data/Pantheon/data_fitres/Ancillary_C11.FITRES'\n",
    "out_dir = '../out/pantheon'"
   ]
  },
  {
   "cell_type": "code",
   "execution_count": 1,
   "id": "b7f67fbf",
   "metadata": {},
   "outputs": [],
   "source": [
    "'''\n",
    "dataset = 'Union'\n",
    "in_filepath = '../data/Union/union.txt'\n",
    "out_dir = '../out/union'\n",
    "'''"
   ]
  }
 ],
 "metadata": {
  "kernelspec": {
   "display_name": "Python 3 (ipykernel)",
   "language": "python",
   "name": "python3"
  },
  "language_info": {
   "codemirror_mode": {
    "name": "ipython",
    "version": 3
   },
   "file_extension": ".py",
   "mimetype": "text/x-python",
   "name": "python",
   "nbconvert_exporter": "python",
   "pygments_lexer": "ipython3",
   "version": "3.8.10"
  }
 },
 "nbformat": 4,
 "nbformat_minor": 5
}
