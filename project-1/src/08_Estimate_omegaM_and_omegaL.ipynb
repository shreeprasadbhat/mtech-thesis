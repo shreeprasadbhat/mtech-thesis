{
 "cells": [
  {
   "cell_type": "code",
   "execution_count": 1,
   "metadata": {},
   "outputs": [],
   "source": [
    "%%capture\n",
    "%run 07_Recaliberate_DistanceModulus.ipynb"
   ]
  },
  {
   "cell_type": "code",
   "execution_count": 2,
   "metadata": {},
   "outputs": [],
   "source": [
    "import emcee\n",
    "import corner"
   ]
  },
  {
   "cell_type": "code",
   "execution_count": 3,
   "metadata": {
    "id": "0rx4d95H2aLQ"
   },
   "outputs": [],
   "source": [
    "# estimate omega_M and omega_L\n",
    "\n",
    "# calculate H(z) for all z\n",
    "\n",
    "# speed of light\n",
    "c = 9.7 * 10e-15 # Mpc/sec\n",
    "z = filtered_GRB['z'].to_numpy()\n",
    "H_z = c * (1. + z)**2 * np.log(1.+z) / d_L\n",
    "H_z_err = abs(H_z) * d_L_err / d_L\n",
    "H_0 = 67.4 # km/sec/Mpc\n",
    "\n",
    "# "
   ]
  },
  {
   "cell_type": "code",
   "execution_count": 4,
   "metadata": {
    "id": "QkGaFbkIGtXk"
   },
   "outputs": [
    {
     "name": "stderr",
     "output_type": "stream",
     "text": [
      "/tmp/ipykernel_1217840/3495387708.py:74: UserWarning: Matplotlib is currently using module://matplotlib_inline.backend_inline, which is a non-GUI backend, so cannot show the figure.\n",
      "  fig2.show()\n"
     ]
    },
    {
     "data": {
      "image/png": "[encoded data removed]",
      "text/plain": [
       "<Figure size 360x360 with 4 Axes>"
      ]
     },
     "metadata": {},
     "output_type": "display_data"
    }
   ],
   "source": [
    "def log_likelihood(theta, x, y, xerr, yerr):\n",
    "    b, a, sigma_int = theta\n",
    "    model = b * x + a\n",
    "    sigma2 = sigma_int**2 + yerr**2 + b**2 * xerr**2\n",
    "    return -0.5 * np.sum((y - model) ** 2 / sigma2 + np.log(sigma2))\n",
    "\n",
    "def log_prior(theta):\n",
    "    b, a, sigma_int = theta\n",
    "    if sigma_int > 0:\n",
    "        return 0.0\n",
    "    return -np.inf\n",
    "\n",
    "def log_posterior(theta, x, y, xerr, yerr):\n",
    "    lp = log_prior(theta)\n",
    "    if not np.isfinite(lp):\n",
    "        return -np.inf\n",
    "    return lp + log_likelihood(theta, x, y, xerr, yerr)\n",
    "\n",
    "# MCMC parameters\n",
    "nwalkers, ndim = 64, 3\n",
    "nsteps, nburns = 10000, 5000\n",
    "\n",
    "\n",
    "# create empty figure object for corner plots (confidence contours and marginalized PDFs of parameters)\n",
    "fig2 = plt.figure(figsize=(5, 5))\n",
    "fig2.patch.set_facecolor('white')\n",
    "\n",
    "x = (1. + z)**3\n",
    "y = (1. + z)**2 #(H_z / H_0)**2\n",
    "\n",
    "xerr = 0\n",
    "yerr = 0 #abs(y * 2 * H_z_err / H_z)# should errors in H_0 be considered ?\n",
    "\n",
    "starting_guesses = np.random.rand(nwalkers, ndim)\n",
    "        \n",
    "sampler = emcee.EnsembleSampler(nwalkers, ndim, log_posterior, args=(x, y, xerr, yerr))\n",
    "sampler.run_mcmc(starting_guesses, nsteps)\n",
    "\n",
    "labels = ['omega_L', 'omega_M','sigma_int']\n",
    "'''\n",
    "# time series plot of parameters\n",
    "samples = sampler.get_chain()\n",
    "gs11 = gridspec.GridSpecFromSubplotSpec(nrows=3, ncols=1, subplot_spec=gs1[k])\n",
    "\n",
    "for j in range(ndim):\n",
    "    ax = fig1.add_subplot(gs11[j])\n",
    "    ax.plot(samples[..., j], 'k', alpha=0.3)\n",
    "    ax.set_xlim(0, len(samples))\n",
    "    ax.set_ylabel(labels[j])\n",
    "    ax.yaxis.set_label_coords(-0.1, 0.5)\n",
    "    #axes[-1].set_xlabel(\"step number\");\n",
    "'''\n",
    "# corner plots\n",
    "flat_samples = sampler.get_chain(discard=nburns, flat=True)\n",
    "corner.corner(flat_samples[:,:2], labels=labels[:2], color='b',fig=fig2)\n",
    "\n",
    "# save best fit values(mean) and uncertainities(std) of parameters in a dictionary\n",
    "omega_M_omega_L_correlation_best_fit = {\n",
    "        'omega_L' : np.mean(flat_samples[:, 1]), \n",
    "        'omega_L_err' : np.std(flat_samples[:, 1]),\n",
    "        'omega_M' : np.mean(flat_samples[:, 0]), \n",
    "        'omega_M_err' : np.std(flat_samples[:, 0]),\n",
    "        #'sigma_int' : np.mean(flat_samples[:, 2]),\n",
    "        #'sigma_int_err' : np.std(flat_samples[:, 2])\n",
    "    }\n",
    "\n",
    "#fig2.axes[0].annotate(sample_type, xy=(0.95*2.5, 0.95-k*0.2), xycoords='axes fraction',color=color)\n",
    "\n",
    "fig2.suptitle('omega_M- omega_L')\n",
    "\n",
    "#fig1.savefig('time_series_of_params.png')\n",
    "fig2.savefig(os.path.join(out_dir,'17_omega_M_omega_L_corner_plot.png'))\n",
    "#fig1.show()\n",
    "fig2.show()"
   ]
  },
  {
   "cell_type": "code",
   "execution_count": 5,
   "metadata": {
    "id": "YDwUsf2BXR07"
   },
   "outputs": [
    {
     "name": "stderr",
     "output_type": "stream",
     "text": [
      "/tmp/ipykernel_1217840/3604937824.py:71: UserWarning: Matplotlib is currently using module://matplotlib_inline.backend_inline, which is a non-GUI backend, so cannot show the figure.\n",
      "  fig2.show()\n"
     ]
    },
    {
     "data": {
      "image/png": "[encoded data removed]",
      "text/plain": [
       "<Figure size 360x360 with 1 Axes>"
      ]
     },
     "metadata": {},
     "output_type": "display_data"
    }
   ],
   "source": [
    "def log_likelihood(theta, x, y):\n",
    "    b = theta\n",
    "    model = b * x + 1\n",
    "    return -0.5 * np.sum((y - model) ** 2)\n",
    "\n",
    "def log_prior(theta):\n",
    "    b = theta\n",
    "    return 0.\n",
    "\n",
    "def log_posterior(theta, x, y):\n",
    "    lp = log_prior(theta)\n",
    "    if not np.isfinite(lp):\n",
    "        return -np.inf\n",
    "    return lp + log_likelihood(theta, x, y)\n",
    "\n",
    "# MCMC parameters\n",
    "nwalkers, ndim = 64, 1\n",
    "nsteps, nburns = 10000, 5000\n",
    "\n",
    "\n",
    "# create empty figure object for corner plots (confidence contours and marginalized PDFs of parameters)\n",
    "fig2 = plt.figure(figsize=(5, 5))\n",
    "fig2.patch.set_facecolor('white')\n",
    "\n",
    "x = (1. + z)**3 - 1.\n",
    "y = (1. + z)**2 #(H_z / H_0)**2\n",
    "\n",
    "xerr = 0\n",
    "yerr = 0 #abs(y * 2 * H_z_err / H_z)# should errors in H_0 be considered ?\n",
    "\n",
    "starting_guesses = np.random.rand(nwalkers, ndim)\n",
    "        \n",
    "sampler = emcee.EnsembleSampler(nwalkers, ndim, log_posterior, args=(x, y))\n",
    "sampler.run_mcmc(starting_guesses, nsteps)\n",
    "\n",
    "labels = ['omega_L', 'omega_M','sigma_int']\n",
    "'''\n",
    "# time series plot of parameters\n",
    "samples = sampler.get_chain()\n",
    "gs11 = gridspec.GridSpecFromSubplotSpec(nrows=3, ncols=1, subplot_spec=gs1[k])\n",
    "\n",
    "for j in range(ndim):\n",
    "    ax = fig1.add_subplot(gs11[j])\n",
    "    ax.plot(samples[..., j], 'k', alpha=0.3)\n",
    "    ax.set_xlim(0, len(samples))\n",
    "    ax.set_ylabel(labels[j])\n",
    "    ax.yaxis.set_label_coords(-0.1, 0.5)\n",
    "    #axes[-1].set_xlabel(\"step number\");\n",
    "'''\n",
    "# corner plots\n",
    "flat_samples = sampler.get_chain(discard=nburns, flat=True)\n",
    "corner.corner(flat_samples, labels='omega_M', color='b',fig=fig2)\n",
    "\n",
    "# save best fit values(mean) and uncertainities(std) of parameters in a dictionary\n",
    "omega_M_omega_L_correlation_best_fit = {\n",
    "        'omega_L' : np.mean(flat_samples), \n",
    "        'omega_L_err' : np.std(flat_samples),\n",
    "        'omega_M' : np.mean(flat_samples), \n",
    "        'omega_M_err' : np.std(flat_samples),\n",
    "        #'sigma_int' : np.mean(flat_samples[:, 2]),\n",
    "        #'sigma_int_err' : np.std(flat_samples[:, 2])\n",
    "    }\n",
    "\n",
    "#fig2.axes[0].annotate(sample_type, xy=(0.95*2.5, 0.95-k*0.2), xycoords='axes fraction',color=color)\n",
    "\n",
    "fig2.suptitle('omega_M')\n",
    "\n",
    "#fig1.savefig('time_series_of_params.png')\n",
    "fig2.savefig(os.path.join(out_dir,'18_omega_M_corner_plot.png'))\n",
    "#fig1.show()\n",
    "fig2.show()"
   ]
  },
  {
   "cell_type": "code",
   "execution_count": 6,
   "metadata": {
    "id": "3x7Hekw047Ha"
   },
   "outputs": [
    {
     "name": "stdout",
     "output_type": "stream",
     "text": [
      "omega_M = 0.23351937904735015\n",
      "omega_M_err = 0.005420689904051142\n"
     ]
    }
   ],
   "source": [
    "print('omega_M = {}'.format(omega_M_omega_L_correlation_best_fit['omega_M']))\n",
    "print('omega_M_err = {}'.format(omega_M_omega_L_correlation_best_fit['omega_M_err']))\n",
    "\n",
    "#print('omega_L = {}'.format(omega_M_omega_L_correlation_best_fit['omega_L']))\n",
    "#print('omega_L_err = {}'.format(omega_M_omega_L_correlation_best_fit['omega_L_err']))"
   ]
  }
 ],
 "metadata": {
  "accelerator": "GPU",
  "colab": {
   "collapsed_sections": [],
   "name": "01-.ipynb",
   "provenance": []
  },
  "kernelspec": {
   "display_name": "Python 3 (ipykernel)",
   "language": "python",
   "name": "python3"
  },
  "language_info": {
   "codemirror_mode": {
    "name": "ipython",
    "version": 3
   },
   "file_extension": ".py",
   "mimetype": "text/x-python",
   "name": "python",
   "nbconvert_exporter": "python",
   "pygments_lexer": "ipython3",
   "version": "3.8.10"
  }
 },
 "nbformat": 4,
 "nbformat_minor": 1
}
