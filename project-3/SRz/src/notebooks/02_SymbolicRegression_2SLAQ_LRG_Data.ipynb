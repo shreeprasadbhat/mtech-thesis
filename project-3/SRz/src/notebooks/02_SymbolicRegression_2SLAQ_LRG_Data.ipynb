{
 "cells": [
  {
   "cell_type": "code",
   "execution_count": 1,
   "id": "69bf4979",
   "metadata": {},
   "outputs": [],
   "source": [
    "import numpy as np\n",
    "import pandas as pd\n",
    "import matplotlib.pyplot as plt\n",
    "from mpl_toolkits import mplot3d\n",
    "from matplotlib import cm\n",
    "from pysr import PySRRegressor\n",
    "from sympy import lambdify\n",
    "from sympy import symbols"
   ]
  },
  {
   "cell_type": "code",
   "execution_count": 2,
   "id": "ae533110",
   "metadata": {},
   "outputs": [],
   "source": [
    "train_filepath = '../../../data/train'\n",
    "val_filepath = '../../../data/valid'\n",
    "test_filepath = '../../data/test'"
   ]
  },
  {
   "cell_type": "code",
   "execution_count": 3,
   "id": "46455a33",
   "metadata": {},
   "outputs": [],
   "source": [
    "# Load 2SLAQ LRG Data\n",
    "df_train = pd.read_csv(train_filepath, header=None, sep=' ')\n",
    "df_val = pd.read_csv(val_filepath, header=None, sep=' ')\n",
    "df_train = pd.concat([df_train, df_val])\n",
    "df_test = pd.read_csv(test_filepath, header=None, sep=' ')"
   ]
  },
  {
   "cell_type": "code",
   "execution_count": 5,
   "id": "cab1b904",
   "metadata": {},
   "outputs": [
    {
     "data": {
      "text/html": [
       "<div>\n",
       "<style scoped>\n",
       "    .dataframe tbody tr th:only-of-type {\n",
       "        vertical-align: middle;\n",
       "    }\n",
       "\n",
       "    .dataframe tbody tr th {\n",
       "        vertical-align: top;\n",
       "    }\n",
       "\n",
       "    .dataframe thead th {\n",
       "        text-align: right;\n",
       "    }\n",
       "</style>\n",
       "<table border=\"1\" class=\"dataframe\">\n",
       "  <thead>\n",
       "    <tr style=\"text-align: right;\">\n",
       "      <th></th>\n",
       "      <th>0</th>\n",
       "      <th>1</th>\n",
       "      <th>2</th>\n",
       "      <th>3</th>\n",
       "      <th>4</th>\n",
       "      <th>5</th>\n",
       "      <th>6</th>\n",
       "      <th>7</th>\n",
       "      <th>8</th>\n",
       "      <th>9</th>\n",
       "      <th>10</th>\n",
       "    </tr>\n",
       "  </thead>\n",
       "  <tbody>\n",
       "    <tr>\n",
       "      <th>0</th>\n",
       "      <td>22.701</td>\n",
       "      <td>21.460</td>\n",
       "      <td>20.019</td>\n",
       "      <td>19.095</td>\n",
       "      <td>18.726</td>\n",
       "      <td>2.157</td>\n",
       "      <td>0.225</td>\n",
       "      <td>0.090</td>\n",
       "      <td>0.060</td>\n",
       "      <td>0.190</td>\n",
       "      <td>0.5556</td>\n",
       "    </tr>\n",
       "    <tr>\n",
       "      <th>1</th>\n",
       "      <td>26.848</td>\n",
       "      <td>22.075</td>\n",
       "      <td>20.559</td>\n",
       "      <td>19.639</td>\n",
       "      <td>19.156</td>\n",
       "      <td>0.358</td>\n",
       "      <td>0.157</td>\n",
       "      <td>0.057</td>\n",
       "      <td>0.038</td>\n",
       "      <td>0.084</td>\n",
       "      <td>0.5302</td>\n",
       "    </tr>\n",
       "    <tr>\n",
       "      <th>2</th>\n",
       "      <td>21.427</td>\n",
       "      <td>21.527</td>\n",
       "      <td>19.890</td>\n",
       "      <td>19.058</td>\n",
       "      <td>18.688</td>\n",
       "      <td>0.431</td>\n",
       "      <td>0.145</td>\n",
       "      <td>0.050</td>\n",
       "      <td>0.035</td>\n",
       "      <td>0.097</td>\n",
       "      <td>0.5660</td>\n",
       "    </tr>\n",
       "    <tr>\n",
       "      <th>3</th>\n",
       "      <td>25.333</td>\n",
       "      <td>22.171</td>\n",
       "      <td>20.524</td>\n",
       "      <td>19.717</td>\n",
       "      <td>19.307</td>\n",
       "      <td>0.863</td>\n",
       "      <td>0.139</td>\n",
       "      <td>0.048</td>\n",
       "      <td>0.037</td>\n",
       "      <td>0.099</td>\n",
       "      <td>0.4989</td>\n",
       "    </tr>\n",
       "    <tr>\n",
       "      <th>4</th>\n",
       "      <td>24.651</td>\n",
       "      <td>21.751</td>\n",
       "      <td>19.811</td>\n",
       "      <td>18.812</td>\n",
       "      <td>18.361</td>\n",
       "      <td>2.846</td>\n",
       "      <td>0.218</td>\n",
       "      <td>0.049</td>\n",
       "      <td>0.033</td>\n",
       "      <td>0.076</td>\n",
       "      <td>0.5633</td>\n",
       "    </tr>\n",
       "  </tbody>\n",
       "</table>\n",
       "</div>"
      ],
      "text/plain": [
       "       0       1       2       3       4      5      6      7      8      9   \\\n",
       "0  22.701  21.460  20.019  19.095  18.726  2.157  0.225  0.090  0.060  0.190   \n",
       "1  26.848  22.075  20.559  19.639  19.156  0.358  0.157  0.057  0.038  0.084   \n",
       "2  21.427  21.527  19.890  19.058  18.688  0.431  0.145  0.050  0.035  0.097   \n",
       "3  25.333  22.171  20.524  19.717  19.307  0.863  0.139  0.048  0.037  0.099   \n",
       "4  24.651  21.751  19.811  18.812  18.361  2.846  0.218  0.049  0.033  0.076   \n",
       "\n",
       "       10  \n",
       "0  0.5556  \n",
       "1  0.5302  \n",
       "2  0.5660  \n",
       "3  0.4989  \n",
       "4  0.5633  "
      ]
     },
     "execution_count": 5,
     "metadata": {},
     "output_type": "execute_result"
    }
   ],
   "source": [
    "# Training data\n",
    "df_train.head()"
   ]
  },
  {
   "cell_type": "code",
   "execution_count": 5,
   "id": "705cf9cb",
   "metadata": {},
   "outputs": [],
   "source": [
    "X_train = df_train.iloc[:,:5].to_numpy()\n",
    "y_train = df_train.iloc[:,-1].to_numpy()\n",
    "X_test = df_test.iloc[:,:5].to_numpy()\n",
    "y_test = df_test.iloc[:,-1].to_numpy()"
   ]
  },
  {
   "cell_type": "code",
   "execution_count": 6,
   "id": "5ed8f7f7",
   "metadata": {},
   "outputs": [
    {
     "name": "stderr",
     "output_type": "stream",
     "text": [
      "/home/shreeprasad/.local/lib/python3.8/site-packages/pysr/sr.py:581: UserWarning: Note: it looks like you are running in Jupyter. The progress bar will be turned off.\n",
      "  warnings.warn(\n"
     ]
    }
   ],
   "source": [
    "model = PySRRegressor(\n",
    "    niterations=5,\n",
    "    binary_operators=['plus', 'sub', 'mult', 'div'],\n",
    "    unary_operators=[],\n",
    "    variable_names = ['u','g','r','i','z'],\n",
    "    model_selection='best',\n",
    "    loss='L2DistLoss()',\n",
    "    equation_file='del.csv',\n",
    "    progress=True\n",
    ")"
   ]
  },
  {
   "cell_type": "code",
   "execution_count": null,
   "id": "bbe476ac",
   "metadata": {
    "scrolled": true
   },
   "outputs": [
    {
     "name": "stderr",
     "output_type": "stream",
     "text": [
      "/home/shreeprasad/.local/lib/python3.8/site-packages/pysr/sr.py:332: UserWarning: \n",
      "Your Python version is statically linked to libpython. For example, this could be the python included with conda, or maybe your system's built-in python.\n",
      "This will still work, but the precompilation cache for Julia will be turned off, which may result in slower startup times on the initial pysr() call.\n",
      "\n",
      "To install a Python version that is dynamically linked to libpython, pyenv is recommended (https://github.com/pyenv/pyenv). With pyenv, you can run: `PYTHON_CONFIGURE_OPTS=\"--enable-shared\" pyenv install 3.9.10` to install Python 3.9.10 with dynamic linking.\n",
      "\n",
      "To silence this warning, you can run pysr.silence_julia_warning() after importing pysr.\n",
      "  warnings.warn(\n",
      "  Activating project at `~/.julia/environments/pysr-0.7.11`\n",
      "    Updating registry at `~/.julia/registries/General.toml`\n",
      "   Resolving package versions...\n",
      "  No Changes to `~/.julia/environments/pysr-0.7.11/Project.toml`\n",
      "  No Changes to `~/.julia/environments/pysr-0.7.11/Manifest.toml`\n",
      "  No Changes to `~/.julia/environments/pysr-0.7.11/Project.toml`\n",
      "  No Changes to `~/.julia/environments/pysr-0.7.11/Manifest.toml`\n"
     ]
    }
   ],
   "source": [
    "model.fit(X_train, y_train)"
   ]
  },
  {
   "cell_type": "code",
   "execution_count": null,
   "id": "b2ea828a",
   "metadata": {
    "scrolled": true
   },
   "outputs": [],
   "source": [
    "print(model)"
   ]
  },
  {
   "cell_type": "markdown",
   "id": "89d7466d",
   "metadata": {},
   "source": [
    "### Plotting an expression\n",
    "\n",
    "Here, let's use the same equations, but get a format we can actually use and test. We can add this option after a search via the set_params function:"
   ]
  },
  {
   "cell_type": "code",
   "execution_count": null,
   "id": "0a9d9b7c",
   "metadata": {},
   "outputs": [],
   "source": [
    "model.set_params(extra_sympy_mappings={\"inv\": lambda x: 1/x})\n",
    "model.sympy()"
   ]
  },
  {
   "cell_type": "markdown",
   "id": "9fd07be2",
   "metadata": {},
   "source": [
    "If you look at the lists of expressions before and after, you will see that the sympy format now has replaced inv with 1/. We can again look at the equation chosen:"
   ]
  },
  {
   "cell_type": "code",
   "execution_count": null,
   "id": "ec2a721a",
   "metadata": {},
   "outputs": [],
   "source": [
    "model.latex()"
   ]
  },
  {
   "cell_type": "code",
   "execution_count": null,
   "id": "3f2161a3",
   "metadata": {},
   "outputs": [],
   "source": [
    "model.equations"
   ]
  },
  {
   "cell_type": "code",
   "execution_count": null,
   "id": "457f5ab7",
   "metadata": {
    "scrolled": true
   },
   "outputs": [],
   "source": [
    "__author__ = 'Robert Hogan'\n",
    "'''\n",
    "Script to plot predictions of model vs. true value for test set\n",
    "'''\n",
    "\n",
    "\n",
    "import numpy as np\n",
    "import matplotlib.pyplot as plt\n",
    "#data=np.loadtxt('prediction_out')\n",
    "y=y_test#data[:,0]\n",
    "y_predict=model.equations.lambda_format[3](X_test)\n",
    "fig=plt.figure()\n",
    "ax=fig.add_subplot(111)\n",
    "H,xedges,yedges=np.histogram2d(y,y_predict, bins=50)\n",
    "level=np.linspace(0,np.round(2*np.max(np.log(np.transpose(H+1))))/2.0,20)\n",
    "ax.set_facecolor('black')\n",
    "xe=np.zeros(len(xedges)-1)\n",
    "ye=np.zeros(len(yedges)-1)\n",
    "for i in range(len(xedges)-1):\n",
    "    xe[i]=0.5*(xedges[i+1]+xedges[i])\n",
    "    ye[i]=0.5*(yedges[i+1]+yedges[i])\n",
    "\n",
    "plt.contourf(xe,ye,np.log(np.transpose(H+1)),levels=level,cmap='hot')\n",
    "plt.plot([min(y),max(y)],[min(y),max(y)],'-',color='grey',alpha=0.9, linewidth=1.5)\n",
    "plt.ylim((min(y),max(y)))\n",
    "\n",
    "cbar=plt.colorbar()\n",
    "\n",
    "plt.xlabel(r'$z_{spec}$',fontsize=30)\n",
    "plt.tick_params(axis='both', which='major', labelsize=20)\n",
    "plt.ylabel(r'$z_{phot}$',fontsize=30)\n",
    "plt.ylim((min(y),max(y)))\n",
    "plt.xlim((min(y),max(y)))\n",
    "cbar.set_label('$log(density)$',fontsize=20)\n",
    "cbar.ax.tick_params(labelsize=20)\n",
    "cbar.solids.set_edgecolor(\"face\")\n",
    "\n",
    "\n",
    "print('Metric a')\n",
    "outliers=y_predict[abs(y-y_predict)>0.1]\n",
    "print('Catastrophic Outliers: ',outliers.shape[0]*100.0/y.shape[0],'%')\n",
    "print('Total rms: ', np.sqrt(np.mean((y-y_predict)**2)))\n",
    "print('rms w/o outliers', np.sqrt(np.mean(((y-y_predict)[abs(y-y_predict)<0.1])**2)))\n",
    "print('Bias:', np.mean(y-y_predict))\n",
    "plt.savefig('density_plot.png')\n",
    "plt.show()"
   ]
  },
  {
   "cell_type": "code",
   "execution_count": null,
   "id": "9d344575",
   "metadata": {},
   "outputs": [],
   "source": []
  }
 ],
 "metadata": {
  "kernelspec": {
   "display_name": "Python 3 (ipykernel)",
   "language": "python",
   "name": "python3"
  },
  "language_info": {
   "codemirror_mode": {
    "name": "ipython",
    "version": 3
   },
   "file_extension": ".py",
   "mimetype": "text/x-python",
   "name": "python",
   "nbconvert_exporter": "python",
   "pygments_lexer": "ipython3",
   "version": "3.8.10"
  }
 },
 "nbformat": 4,
 "nbformat_minor": 5
}
