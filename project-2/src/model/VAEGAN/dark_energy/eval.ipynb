{
 "cells": [
  {
   "cell_type": "code",
   "execution_count": 1,
   "id": "b89e9724",
   "metadata": {
    "scrolled": true
   },
   "outputs": [
    {
     "name": "stderr",
     "output_type": "stream",
     "text": [
      "2022-06-12 05:28:03.653783: E tensorflow/stream_executor/cuda/cuda_driver.cc:271] failed call to cuInit: CUDA_ERROR_COMPAT_NOT_SUPPORTED_ON_DEVICE: forward compatibility was attempted on non supported HW\n",
      "2022-06-12 05:28:03.653843: I tensorflow/stream_executor/cuda/cuda_diagnostics.cc:169] retrieving CUDA diagnostic information for host: spk\n",
      "2022-06-12 05:28:03.653854: I tensorflow/stream_executor/cuda/cuda_diagnostics.cc:176] hostname: spk\n",
      "2022-06-12 05:28:03.654005: I tensorflow/stream_executor/cuda/cuda_diagnostics.cc:200] libcuda reported version is: 470.129.6\n",
      "2022-06-12 05:28:03.654037: I tensorflow/stream_executor/cuda/cuda_diagnostics.cc:204] kernel reported version is: 470.103.1\n",
      "2022-06-12 05:28:03.654047: E tensorflow/stream_executor/cuda/cuda_diagnostics.cc:313] kernel version 470.103.1 does not match DSO version 470.129.6 -- cannot find working devices in this configuration\n",
      "2022-06-12 05:28:03.654367: I tensorflow/core/platform/cpu_feature_guard.cc:151] This TensorFlow binary is optimized with oneAPI Deep Neural Network Library (oneDNN) to use the following CPU instructions in performance-critical operations:  AVX2 FMA\n",
      "To enable them in other operations, rebuild TensorFlow with the appropriate compiler flags.\n"
     ]
    },
    {
     "data": {
      "text/plain": [
       "<tensorflow.python.training.tracking.util.CheckpointLoadStatus at 0x7f97efde32e0>"
      ]
     },
     "execution_count": 1,
     "metadata": {},
     "output_type": "execute_result"
    }
   ],
   "source": [
    "import os\n",
    "import sys\n",
    "from shutil import copyfile\n",
    "import json\n",
    "import numpy as np\n",
    "from sklearn.model_selection import train_test_split \n",
    "from sklearn.preprocessing import StandardScaler\n",
    "import tensorflow as tf\n",
    "import matplotlib.pyplot as plt\n",
    "\n",
    "from tensorflow.keras.callbacks import ModelCheckpoint, CSVLogger, EarlyStopping\n",
    "\n",
    "# add parent directory of project to system path, to access all the packages in project, sys.path.append appends are not permanent\n",
    "sys.path.append(os.path.dirname(os.path.dirname(os.path.dirname(os.path.dirname(os.path.dirname(os.path.abspath('train.py')))))))\n",
    "\n",
    "from src.model.VAEGAN.Encoder import Encoder \n",
    "from src.model.VAEGAN.Generator import Generator\n",
    "from src.model.VAEGAN.Discriminator import Discriminator\n",
    "from src.model.VAEGAN.UnsupervisedDiscriminator import UnsupervisedDiscriminator\n",
    "from src.model.VAEGAN.SupervisedDiscriminator import SupervisedDiscriminator\n",
    "from src.model.VAEGAN.VAEGAN import VAEGAN\n",
    "from src.model.VAEGAN.dark_energy.GANMonitor import GANMonitor\n",
    "\n",
    "readlines = \"\"\n",
    "with open('Params.json') as file:\n",
    "    readlines = file.read() \n",
    "\n",
    "Params = json.loads(readlines) \n",
    "latent_dim = Params['latent_dim'] \n",
    "epochs = Params['epochs']\n",
    "patience = Params['patience']\n",
    "lr_gen = Params['lr_gen']\n",
    "beta_1_gen = Params['beta_1_gen']\n",
    "lr_disc = Params['lr_disc']\n",
    "beta_1_disc= Params['beta_1_disc']\n",
    "batch_size = Params['batch_size']\n",
    "input_dim = Params['input_dim']\n",
    "output_dim = Params['output_dim']\n",
    "n_classes = Params['n_classes']\n",
    "train_size = Params['train_size']\n",
    "buffer_size = train_size \n",
    "outdir = Params['outdir'] \n",
    "\n",
    "if not os.path.isdir(outdir):\n",
    "    os.makedirs(outdir)\n",
    "if not os.path.isdir(os.path.join(outdir, 'fig')):\n",
    "    os.mkdir(os.path.join(outdir, 'fig')) \n",
    "if not os.path.isdir(os.path.join(outdir, 'ckpt')):\n",
    "    os.mkdir(os.path.join(outdir, 'ckpt'))\n",
    "if not os.path.isdir(os.path.join(outdir, 'log')):\n",
    "    os.mkdir(os.path.join(outdir, 'log'))\n",
    "\n",
    "copyfile('Params.json',os.path.join(outdir, 'Params.json'))\n",
    "\n",
    "z = np.genfromtxt('../../../data/dark_energy_models/z.csv', dtype=np.float32)\n",
    "x_real_580 = np.genfromtxt('../../../data/dark_energy_models/x_real_580_with_err.csv')\n",
    "\n",
    "x_real = np.genfromtxt('../../../data/dark_energy_models/x_real.csv', dtype=np.float32)\n",
    "y_real = np.genfromtxt('../../../data/dark_energy_models/y_real.csv', dtype=np.float32)\n",
    "\n",
    "# normalize the y data, very important for GAN training\n",
    "scaler_580 = StandardScaler()\n",
    "scaler_580.fit(x_real_580[0].reshape(1,-1))\n",
    "x_real_580 = scaler_580.transform(x_real_580)\n",
    "\n",
    "scaler = StandardScaler()\n",
    "scaler.fit(x_real[0].reshape(1,-1))\n",
    "x_real = scaler.transform(x_real)\n",
    "\n",
    "# split into test, validation, and training sets\n",
    "x_train_580, x_test_580, x_train, x_test, y_train, y_test = train_test_split(x_real_580, x_real, y_real, test_size=0.2)\n",
    "x_train_580, x_val_580, x_train, x_val, y_train, y_val = train_test_split(x_train_580, x_train, y_train, test_size=0.2)\n",
    "\n",
    "encoder = Encoder(input_dim, latent_dim)\n",
    "generator = Generator(latent_dim)\n",
    "discriminator = Discriminator(output_dim, n_classes)\n",
    "sup_discriminator = SupervisedDiscriminator(discriminator)\n",
    "unsup_discriminator = UnsupervisedDiscriminator(discriminator)\n",
    "\n",
    "vaegan = VAEGAN(latent_dim, encoder, generator, discriminator, sup_discriminator, unsup_discriminator, z, scaler)\n",
    "vaegan.compile(\n",
    "    tf.keras.optimizers.Adam(learning_rate=lr_gen, beta_1=beta_1_gen),\n",
    "    tf.keras.optimizers.Adam(learning_rate=lr_disc, beta_1=beta_1_disc), \n",
    "    tf.keras.optimizers.Adam(learning_rate=lr_disc, beta_1=beta_1_disc),\n",
    "    tf.keras.optimizers.Adam(learning_rate=lr_gen, beta_1=beta_1_gen),\n",
    "    tf.keras.losses.BinaryCrossentropy(from_logits=False),\n",
    "    tf.keras.losses.SparseCategoricalCrossentropy(from_logits=False)\n",
    ")\n",
    "\n",
    "vaegan_checkpoint_path = os.path.join(outdir,\"ckpt/vaegan.ckpt\")\n",
    "#g_checkpoint_path = os.path.join(outdir,\"ckpt/generator.ckpt\")\n",
    "#d_checkpoint_path = os.path.join(outdir,\"ckpt/discriminator.ckpt\")\n",
    "\n",
    "csvlogger_path = os.path.join(outdir,\"log/log.txt\")\n",
    "\n",
    "callbacks = [\n",
    "    #ModelCheckpoint(checkpoint_path, monitor='val_s_loss', save_best_only=True, save_weights_only=True, verbose=1),\n",
    "    #EarlyStopping(monitor='val_s_loss', patience=patience, verbose=1),\n",
    "    CSVLogger(csvlogger_path, separator=',', append=True),\n",
    "    GANMonitor()\n",
    "]\n",
    "\n",
    "# load the best model\n",
    "vaegan.load_weights(vaegan_checkpoint_path)"
   ]
  },
  {
   "cell_type": "code",
   "execution_count": 3,
   "id": "fb886139",
   "metadata": {},
   "outputs": [],
   "source": [
    "union = np.genfromtxt('../../../../data/Union/union.txt', delimiter=' ', usecols=(1,2,3), names=True)\n",
    "union.sort(order='zCMB')\n",
    "z_obs = union['zCMB'].astype('float32')\n",
    "mu = union['MU'].astype('float32')"
   ]
  },
  {
   "cell_type": "code",
   "execution_count": 8,
   "id": "5e23f17d",
   "metadata": {},
   "outputs": [
    {
     "data": {
      "image/png": "[encoded data removed]",
      "text/plain": [
       "<Figure size 432x288 with 1 Axes>"
      ]
     },
     "metadata": {
      "needs_background": "light"
     },
     "output_type": "display_data"
    },
    {
     "name": "stdout",
     "output_type": "stream",
     "text": [
      "tf.Tensor([[0.45755097 0.2615198  0.2809292 ]], shape=(1, 3), dtype=float32)\n",
      "Class :  tf.Tensor([0], shape=(1,), dtype=int64)\n"
     ]
    }
   ],
   "source": [
    "z_mean, z_logvar = encoder(scaler_580.transform(mu.reshape(-1,580))) \n",
    "z = vaegan.sampling((z_mean, z_logvar)) # re-parameterize\n",
    "x_interpolate = generator(z)\n",
    "\n",
    "plt.scatter(z_obs, mu, s=4, label='Union2.1 sample')\n",
    "plt.scatter(vaegan.z, scaler.inverse_transform(x_interpolate.numpy()), s=4, label='reconstructed')\n",
    "plt.xlim(0,1.5)\n",
    "plt.ylim(33,47)\n",
    "plt.xlabel(r'redshift $z$')\n",
    "plt.ylabel(r'distance modulus $\\mu$')\n",
    "plt.legend()\n",
    "plt.show()\n",
    "\n",
    "pred = vaegan.s_discriminator(x_interpolate)\n",
    "print(pred)\n",
    "print('Class : ',tf.argmax(pred, axis=-1))"
   ]
  }
 ],
 "metadata": {
  "kernelspec": {
   "display_name": "Python 3 (ipykernel)",
   "language": "python",
   "name": "python3"
  },
  "language_info": {
   "codemirror_mode": {
    "name": "ipython",
    "version": 3
   },
   "file_extension": ".py",
   "mimetype": "text/x-python",
   "name": "python",
   "nbconvert_exporter": "python",
   "pygments_lexer": "ipython3",
   "version": "3.8.10"
  }
 },
 "nbformat": 4,
 "nbformat_minor": 5
}
