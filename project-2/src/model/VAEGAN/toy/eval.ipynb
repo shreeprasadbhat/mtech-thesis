{
 "cells": [
  {
   "cell_type": "code",
   "execution_count": 1,
   "id": "b89e9724",
   "metadata": {},
   "outputs": [
    {
     "name": "stderr",
     "output_type": "stream",
     "text": [
      "2022-06-01 11:53:26.781417: E tensorflow/stream_executor/cuda/cuda_driver.cc:271] failed call to cuInit: CUDA_ERROR_COMPAT_NOT_SUPPORTED_ON_DEVICE: forward compatibility was attempted on non supported HW\n",
      "2022-06-01 11:53:26.781463: I tensorflow/stream_executor/cuda/cuda_diagnostics.cc:169] retrieving CUDA diagnostic information for host: spk\n",
      "2022-06-01 11:53:26.781471: I tensorflow/stream_executor/cuda/cuda_diagnostics.cc:176] hostname: spk\n",
      "2022-06-01 11:53:26.781600: I tensorflow/stream_executor/cuda/cuda_diagnostics.cc:200] libcuda reported version is: 470.129.6\n",
      "2022-06-01 11:53:26.781626: I tensorflow/stream_executor/cuda/cuda_diagnostics.cc:204] kernel reported version is: 470.103.1\n",
      "2022-06-01 11:53:26.781633: E tensorflow/stream_executor/cuda/cuda_diagnostics.cc:313] kernel version 470.103.1 does not match DSO version 470.129.6 -- cannot find working devices in this configuration\n",
      "2022-06-01 11:53:26.781901: I tensorflow/core/platform/cpu_feature_guard.cc:151] This TensorFlow binary is optimized with oneAPI Deep Neural Network Library (oneDNN) to use the following CPU instructions in performance-critical operations:  AVX2 FMA\n",
      "To enable them in other operations, rebuild TensorFlow with the appropriate compiler flags.\n"
     ]
    },
    {
     "data": {
      "image/png": "[encoded data removed]",
      "text/plain": [
       "<Figure size 432x288 with 1 Axes>"
      ]
     },
     "metadata": {
      "needs_background": "light"
     },
     "output_type": "display_data"
    },
    {
     "name": "stdout",
     "output_type": "stream",
     "text": [
      "tf.Tensor([[2.5554432e-04 9.9974447e-01]], shape=(1, 2), dtype=float32)\n",
      "Class :  tf.Tensor([1], shape=(1,), dtype=int64)\n",
      "Press enter to continue...q\n"
     ]
    },
    {
     "data": {
      "text/plain": [
       "'q'"
      ]
     },
     "execution_count": 1,
     "metadata": {},
     "output_type": "execute_result"
    }
   ],
   "source": [
    "import os\n",
    "import sys\n",
    "from shutil import copyfile\n",
    "import json\n",
    "import numpy as np\n",
    "from sklearn.model_selection import train_test_split \n",
    "import tensorflow as tf\n",
    "import matplotlib.pyplot as plt\n",
    "\n",
    "from tensorflow.keras.callbacks import ModelCheckpoint, CSVLogger, EarlyStopping\n",
    "\n",
    "# add parent directory of project to system path, to access all the packages in project, sys.path.append appends are not permanent\n",
    "sys.path.append(os.path.dirname(os.path.dirname(os.path.dirname(os.path.dirname(os.path.dirname(os.path.abspath('train.py')))))))\n",
    "\n",
    "from src.data.toy_models.ParabolicModel import ParabolicModel\n",
    "from src.data.toy_models.SineModel import SineModel\n",
    "from src.data.toy_models.TrueModel import TrueModel\n",
    "\n",
    "from src.model.VAEGAN.Encoder import Encoder \n",
    "from src.model.VAEGAN.Generator import Generator\n",
    "from src.model.VAEGAN.Discriminator import Discriminator\n",
    "from src.model.VAEGAN.UnsupervisedDiscriminator import UnsupervisedDiscriminator\n",
    "from src.model.VAEGAN.SupervisedDiscriminator import SupervisedDiscriminator\n",
    "from src.model.VAEGAN.VAEGAN import VAEGAN\n",
    "from src.model.VAEGAN.toy.GANMonitor import GANMonitor\n",
    "\n",
    "readlines = \"\"\n",
    "with open('Params.json') as file:\n",
    "    readlines = file.read() \n",
    "\n",
    "Params = json.loads(readlines) \n",
    "latent_dim = Params['latent_dim'] \n",
    "epochs = Params['epochs']\n",
    "patience = Params['patience']\n",
    "lr_gen = Params['lr_gen']\n",
    "beta_1_gen = Params['beta_1_gen']\n",
    "lr_disc = Params['lr_disc']\n",
    "beta_1_disc= Params['beta_1_disc']\n",
    "batch_size = Params['batch_size']\n",
    "input_dim = Params['input_dim']\n",
    "output_dim = Params['output_dim']\n",
    "n_classes = Params['n_classes']\n",
    "train_size = Params['train_size']\n",
    "buffer_size = train_size \n",
    "outdir = Params['outdir'] \n",
    "\n",
    "#def generate_real_samples(train_size, z, input_dim):\n",
    "#    half_train_size = int(train_size/2) \n",
    "#    parabolicModelObj = ParabolicModel()\n",
    "#    x1 = np.zeros([half_train_size, input_dim], dtype='float32')\n",
    "#    for i in range(half_train_size):\n",
    "#        x1[i] = parabolicModelObj.sample(z)\n",
    "#    y1 = np.zeros(half_train_size)\n",
    "#    sineModelObj = SineModel()\n",
    "#    x2 = np.zeros([half_train_size, input_dim], dtype='float32')\n",
    "#    for i in range(half_train_size):\n",
    "#        x2[i] = sineModelObj.sample(z)\n",
    "#    y2 = np.ones(half_train_size)\n",
    "#    x_real = np.concatenate([x1, x2])\n",
    "#    y_real = np.concatenate([y1, y2])\n",
    "#    return x_real, y_real\n",
    "#\n",
    "\n",
    "z = np.genfromtxt('../../../data/toy_models/z.csv')\n",
    "z_obs = np.genfromtxt('../../../data/toy_models/z_obs.csv')\n",
    "\n",
    "trueModelObj = TrueModel()\n",
    "x_obs = trueModelObj.sample(z_obs)\n",
    "\n",
    "#x_real, y_real = generate_real_samples(train_size, z, output_dim) \n",
    "#prng = np.random.RandomState(123)\n",
    "#idx = prng.randint(0, output_dim, input_dim)\n",
    "#x_real_580 = x_real[:,idx]\n",
    "#y_real = y_real[:, np.newaxis]\n",
    "#\n",
    "## split into test, validation, and training sets\n",
    "#x_train_580, x_test_580, x_train, x_test, y_train, y_test = train_test_split(x_real_580, x_real, y_real, test_size=0.2)\n",
    "#x_train_580, x_val_580, x_train, x_val, y_train, y_val = train_test_split(x_train_580, x_train, y_train, test_size=0.2)\n",
    "#\n",
    "#train_dataset = ( \n",
    "#    tf.data.Dataset\n",
    "#        .from_tensor_slices((x_train_580, x_train, y_train))\n",
    "#        .shuffle(buffer_size, reshuffle_each_iteration=True)\n",
    "#        .batch(batch_size)\n",
    "#        .prefetch(tf.data.AUTOTUNE)\n",
    "#)\n",
    "#\n",
    "#val_dataset = (\n",
    "#    tf.data.Dataset\n",
    "#        .from_tensor_slices((x_val_580, x_val, y_val))\n",
    "#        .shuffle(buffer_size)\n",
    "#        .batch(batch_size)\n",
    "#)\n",
    "#\n",
    "#test_dataset = (\n",
    "#    tf.data.Dataset\n",
    "#        .from_tensor_slices((x_test_580, x_test, y_test))\n",
    "#        .shuffle(buffer_size)\n",
    "#        .batch(batch_size)\n",
    "#)\n",
    "\n",
    "encoder = Encoder(input_dim, latent_dim)\n",
    "generator = Generator(latent_dim)\n",
    "discriminator = Discriminator(output_dim, n_classes)\n",
    "sup_discriminator = SupervisedDiscriminator(discriminator)\n",
    "unsup_discriminator = UnsupervisedDiscriminator(discriminator)\n",
    "\n",
    "vaegan = VAEGAN(latent_dim, encoder, generator, discriminator, sup_discriminator, unsup_discriminator, z)\n",
    "vaegan.compile(\n",
    "    tf.keras.optimizers.Adam(learning_rate=lr_gen, beta_1=beta_1_gen),\n",
    "    tf.keras.optimizers.Adam(learning_rate=lr_disc, beta_1=beta_1_disc), \n",
    "    tf.keras.optimizers.Adam(learning_rate=lr_disc, beta_1=beta_1_disc),\n",
    "    tf.keras.optimizers.Adam(learning_rate=lr_gen, beta_1=beta_1_gen),\n",
    "    tf.keras.losses.BinaryCrossentropy(from_logits=False),\n",
    "    tf.keras.losses.SparseCategoricalCrossentropy(from_logits=False)\n",
    ")\n",
    "\n",
    "vaegan_checkpoint_path = os.path.join(outdir,\"ckpt/vaegan.ckpt\")\n",
    "\n",
    "# load the best model\n",
    "vaegan.load_weights(vaegan_checkpoint_path)\n",
    "\n",
    "x = vaegan.out_with_enc(x_obs.reshape(-1,580))\n",
    "\n",
    "input('Press enter to continue...')\n"
   ]
  },
  {
   "cell_type": "code",
   "execution_count": null,
   "id": "de70bfde",
   "metadata": {},
   "outputs": [],
   "source": []
  }
 ],
 "metadata": {
  "kernelspec": {
   "display_name": "Python 3 (ipykernel)",
   "language": "python",
   "name": "python3"
  },
  "language_info": {
   "codemirror_mode": {
    "name": "ipython",
    "version": 3
   },
   "file_extension": ".py",
   "mimetype": "text/x-python",
   "name": "python",
   "nbconvert_exporter": "python",
   "pygments_lexer": "ipython3",
   "version": "3.8.10"
  }
 },
 "nbformat": 4,
 "nbformat_minor": 5
}
