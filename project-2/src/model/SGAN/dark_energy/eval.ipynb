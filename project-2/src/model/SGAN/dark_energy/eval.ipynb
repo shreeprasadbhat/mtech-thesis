{
 "cells": [
  {
   "cell_type": "code",
   "execution_count": 2,
   "id": "b89e9724",
   "metadata": {},
   "outputs": [
    {
     "name": "stderr",
     "output_type": "stream",
     "text": [
      "2022-05-30 04:39:40.721673: E tensorflow/stream_executor/cuda/cuda_driver.cc:271] failed call to cuInit: CUDA_ERROR_COMPAT_NOT_SUPPORTED_ON_DEVICE: forward compatibility was attempted on non supported HW\n",
      "2022-05-30 04:39:40.721727: I tensorflow/stream_executor/cuda/cuda_diagnostics.cc:169] retrieving CUDA diagnostic information for host: spk\n",
      "2022-05-30 04:39:40.721737: I tensorflow/stream_executor/cuda/cuda_diagnostics.cc:176] hostname: spk\n",
      "2022-05-30 04:39:40.721884: I tensorflow/stream_executor/cuda/cuda_diagnostics.cc:200] libcuda reported version is: 470.129.6\n",
      "2022-05-30 04:39:40.721917: I tensorflow/stream_executor/cuda/cuda_diagnostics.cc:204] kernel reported version is: 470.103.1\n",
      "2022-05-30 04:39:40.721926: E tensorflow/stream_executor/cuda/cuda_diagnostics.cc:313] kernel version 470.103.1 does not match DSO version 470.129.6 -- cannot find working devices in this configuration\n",
      "2022-05-30 04:39:40.722224: I tensorflow/core/platform/cpu_feature_guard.cc:151] This TensorFlow binary is optimized with oneAPI Deep Neural Network Library (oneDNN) to use the following CPU instructions in performance-critical operations:  AVX2 FMA\n",
      "To enable them in other operations, rebuild TensorFlow with the appropriate compiler flags.\n"
     ]
    },
    {
     "data": {
      "image/png": "[encoded data removed]",
      "text/plain": [
       "<Figure size 432x288 with 1 Axes>"
      ]
     },
     "metadata": {
      "needs_background": "light"
     },
     "output_type": "display_data"
    },
    {
     "name": "stdout",
     "output_type": "stream",
     "text": [
      "tf.Tensor([[-936.4295   748.5984   456.03687]], shape=(1, 3), dtype=float32)\n",
      "Class : tf.Tensor([1], shape=(1,), dtype=int64)\n",
      "Press enter to continue...\n"
     ]
    },
    {
     "data": {
      "text/plain": [
       "''"
      ]
     },
     "execution_count": 2,
     "metadata": {},
     "output_type": "execute_result"
    }
   ],
   "source": [
    "import os\n",
    "import sys\n",
    "from shutil import copyfile\n",
    "import json\n",
    "import numpy as np\n",
    "from sklearn.model_selection import train_test_split \n",
    "from sklearn.preprocessing import StandardScaler\n",
    "import tensorflow as tf\n",
    "import matplotlib.pyplot as plt\n",
    "\n",
    "from tensorflow.keras.callbacks import ModelCheckpoint, CSVLogger, EarlyStopping\n",
    "\n",
    "# add parent directory of project to system path, to access all the packages in project, sys.path.append appends are not permanent\n",
    "sys.path.append(os.path.dirname(os.path.dirname(os.path.dirname(os.path.dirname(os.path.dirname(os.path.abspath('train.py')))))))\n",
    "\n",
    "from src.model.SGAN.Generator import Generator\n",
    "from src.model.SGAN.Discriminator import Discriminator\n",
    "from src.model.SGAN.UnsupervisedDiscriminator import UnsupervisedDiscriminator\n",
    "from src.model.SGAN.SupervisedDiscriminator import SupervisedDiscriminator\n",
    "from src.model.SGAN.SGAN import SGAN\n",
    "from src.model.SGAN.dark_energy.GANMonitor import GANMonitor\n",
    "\n",
    "readlines = \"\"\n",
    "with open('Params.json') as file:\n",
    "    readlines = file.read() \n",
    "\n",
    "Params = json.loads(readlines) \n",
    "latent_dim = Params['latent_dim'] \n",
    "epochs = Params['epochs']\n",
    "patience = Params['patience']\n",
    "lr_gen = Params['lr_gen']\n",
    "beta_1_gen = Params['beta_1_gen']\n",
    "lr_disc = Params['lr_disc']\n",
    "beta_1_disc= Params['beta_1_disc']\n",
    "batch_size = Params['batch_size']\n",
    "input_dim = Params['input_dim']\n",
    "output_dim = Params['output_dim']\n",
    "n_classes = Params['n_classes']\n",
    "train_size = Params['train_size']\n",
    "buffer_size = train_size \n",
    "outdir = Params['outdir'] \n",
    "\n",
    "if not os.path.isdir(outdir):\n",
    "    os.makedirs(outdir)\n",
    "if not os.path.isdir(os.path.join(outdir, 'fig')):\n",
    "    os.mkdir(os.path.join(outdir, 'fig')) \n",
    "if not os.path.isdir(os.path.join(outdir, 'ckpt')):\n",
    "    os.mkdir(os.path.join(outdir, 'ckpt'))\n",
    "if not os.path.isdir(os.path.join(outdir, 'log')):\n",
    "    os.mkdir(os.path.join(outdir, 'log'))\n",
    "\n",
    "copyfile('Params.json',os.path.join(outdir, 'Params.json'))\n",
    "\n",
    "z = np.genfromtxt('../../../data/dark_energy_models/z.csv', dtype=np.float32)\n",
    "x_real = np.genfromtxt('../../../data/dark_energy_models/x_real.csv', dtype=np.float32)\n",
    "\n",
    "# normalize the y data, very important for GAN training\n",
    "scaler = StandardScaler()\n",
    "scaler.fit(x_real[0].reshape(1,-1))\n",
    "x_real = scaler.transform(x_real)\n",
    "\n",
    "generator = Generator(latent_dim)\n",
    "discriminator = Discriminator(output_dim)\n",
    "sup_discriminator = SupervisedDiscriminator(n_classes, discriminator)\n",
    "unsup_discriminator = UnsupervisedDiscriminator(discriminator)\n",
    "\n",
    "sgan = SGAN(latent_dim, generator, sup_discriminator, unsup_discriminator, z, scaler)\n",
    "sgan.compile(\n",
    "    tf.keras.optimizers.Adam(learning_rate=lr_gen, beta_1=beta_1_gen),\n",
    "    tf.keras.optimizers.Adam(learning_rate=lr_disc, beta_1=beta_1_disc), \n",
    "    tf.keras.optimizers.Adam(learning_rate=lr_disc, beta_1=beta_1_disc),\n",
    "    tf.keras.losses.BinaryCrossentropy(from_logits=True),\n",
    "    tf.keras.losses.SparseCategoricalCrossentropy(from_logits=True)\n",
    ")\n",
    "\n",
    "sgan_checkpoint_path = os.path.join(outdir,\"ckpt/sgan.ckpt\")\n",
    "g_checkpoint_path = os.path.join(outdir,\"ckpt/generator.ckpt\")\n",
    "d_checkpoint_path = os.path.join(outdir,\"ckpt/discriminator.ckpt\")\n",
    "\n",
    "# load the best model\n",
    "sgan.load_weights(sgan_checkpoint_path)\n",
    "\n",
    "x = sgan.generator(tf.random.normal((1,latent_dim)))\n",
    "x = scaler.inverse_transform(x)\n",
    "\n",
    "plt.figure()\n",
    "plt.scatter(z, np.reshape(x, (output_dim) ), s=2)\n",
    "plt.title('Generated output')\n",
    "plt.xlabel('z')\n",
    "plt.ylabel('x')\n",
    "plt.xlim(0,1)\n",
    "plt.ylim(33,48.)\n",
    "plt.savefig(os.path.join(outdir, 'fig/sample_out.png'))\n",
    "plt.draw()\n",
    "plt.pause(0.001)\n",
    "plt.show()\n",
    "\n",
    "# get the class label assigned\n",
    "print(sgan.s_discriminator(x))\n",
    "print('Class :', tf.argmax(sgan.s_discriminator(x), axis=-1))\n",
    "\n",
    "input('Press enter to continue...')"
   ]
  }
 ],
 "metadata": {
  "kernelspec": {
   "display_name": "Python 3 (ipykernel)",
   "language": "python",
   "name": "python3"
  },
  "language_info": {
   "codemirror_mode": {
    "name": "ipython",
    "version": 3
   },
   "file_extension": ".py",
   "mimetype": "text/x-python",
   "name": "python",
   "nbconvert_exporter": "python",
   "pygments_lexer": "ipython3",
   "version": "3.8.10"
  }
 },
 "nbformat": 4,
 "nbformat_minor": 5
}
