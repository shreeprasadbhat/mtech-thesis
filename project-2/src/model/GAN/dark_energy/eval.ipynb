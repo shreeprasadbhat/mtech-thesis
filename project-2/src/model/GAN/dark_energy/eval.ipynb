{
 "cells": [
  {
   "cell_type": "code",
   "execution_count": 1,
   "id": "5b89540a",
   "metadata": {},
   "outputs": [
    {
     "name": "stderr",
     "output_type": "stream",
     "text": [
      "2022-05-30 01:58:56.109723: E tensorflow/stream_executor/cuda/cuda_driver.cc:271] failed call to cuInit: CUDA_ERROR_COMPAT_NOT_SUPPORTED_ON_DEVICE: forward compatibility was attempted on non supported HW\n",
      "2022-05-30 01:58:56.109779: I tensorflow/stream_executor/cuda/cuda_diagnostics.cc:169] retrieving CUDA diagnostic information for host: spk\n",
      "2022-05-30 01:58:56.109791: I tensorflow/stream_executor/cuda/cuda_diagnostics.cc:176] hostname: spk\n",
      "2022-05-30 01:58:56.109943: I tensorflow/stream_executor/cuda/cuda_diagnostics.cc:200] libcuda reported version is: 470.129.6\n",
      "2022-05-30 01:58:56.109976: I tensorflow/stream_executor/cuda/cuda_diagnostics.cc:204] kernel reported version is: 470.103.1\n",
      "2022-05-30 01:58:56.109985: E tensorflow/stream_executor/cuda/cuda_diagnostics.cc:313] kernel version 470.103.1 does not match DSO version 470.129.6 -- cannot find working devices in this configuration\n",
      "2022-05-30 01:58:56.110317: I tensorflow/core/platform/cpu_feature_guard.cc:151] This TensorFlow binary is optimized with oneAPI Deep Neural Network Library (oneDNN) to use the following CPU instructions in performance-critical operations:  AVX2 FMA\n",
      "To enable them in other operations, rebuild TensorFlow with the appropriate compiler flags.\n"
     ]
    },
    {
     "data": {
      "image/png": "[encoded data removed]",
      "text/plain": [
       "<Figure size 432x288 with 1 Axes>"
      ]
     },
     "metadata": {
      "needs_background": "light"
     },
     "output_type": "display_data"
    },
    {
     "name": "stdout",
     "output_type": "stream",
     "text": [
      "Press enter to continue...\n"
     ]
    },
    {
     "data": {
      "text/plain": [
       "''"
      ]
     },
     "execution_count": 1,
     "metadata": {},
     "output_type": "execute_result"
    }
   ],
   "source": [
    "import os\n",
    "import sys\n",
    "from shutil import copyfile\n",
    "import json\n",
    "import numpy as np\n",
    "from sklearn.model_selection import train_test_split \n",
    "from sklearn.preprocessing import StandardScaler\n",
    "import tensorflow as tf\n",
    "import matplotlib.pyplot as plt\n",
    "\n",
    "from tensorflow.keras.callbacks import ModelCheckpoint, CSVLogger, EarlyStopping\n",
    "\n",
    "# add parent directory of project to system path, to access all the packages in project, sys.path.append appends are not permanent\n",
    "sys.path.append(os.path.dirname(os.path.dirname(os.path.dirname(os.path.dirname(os.path.dirname(os.path.abspath('eval.py')))))))\n",
    "\n",
    "from src.model.GAN.Generator import Generator\n",
    "from src.model.GAN.Discriminator import Discriminator\n",
    "from src.model.GAN.GAN import GAN\n",
    "from src.model.GAN.dark_energy.GANMonitor import GANMonitor\n",
    "\n",
    "readlines = \"\"\n",
    "with open('Params.json') as file:\n",
    "    readlines = file.read() \n",
    "\n",
    "Params = json.loads(readlines) \n",
    "latent_dim = Params['latent_dim'] \n",
    "epochs = Params['epochs']\n",
    "patience = Params['patience']\n",
    "lr_gen = Params['lr_gen']\n",
    "beta_1_gen = Params['beta_1_gen']\n",
    "lr_disc = Params['lr_disc']\n",
    "beta_1_disc= Params['beta_1_disc']\n",
    "batch_size = Params['batch_size']\n",
    "input_dim = Params['input_dim']\n",
    "output_dim = Params['output_dim']\n",
    "n_classes = Params['n_classes']\n",
    "train_size = Params['train_size']\n",
    "buffer_size = train_size \n",
    "outdir = Params['outdir'] \n",
    "\n",
    "if not os.path.isdir(outdir):\n",
    "    os.makedirs(outdir)\n",
    "if not os.path.isdir(os.path.join(outdir, 'fig')):\n",
    "    os.mkdir(os.path.join(outdir, 'fig')) \n",
    "if not os.path.isdir(os.path.join(outdir, 'ckpt')):\n",
    "    os.mkdir(os.path.join(outdir, 'ckpt'))\n",
    "if not os.path.isdir(os.path.join(outdir, 'log')):\n",
    "    os.mkdir(os.path.join(outdir, 'log'))\n",
    "\n",
    "copyfile('Params.json',os.path.join(outdir, 'Params.json'))\n",
    "\n",
    "z = np.genfromtxt('../../../data/dark_energy_models/z.csv', dtype=np.float32)\n",
    "x_real = np.genfromtxt('../../../data/dark_energy_models/x_real.csv', dtype=np.float32)\n",
    "\n",
    "# normalize the y data, very important for GAN training\n",
    "scaler = StandardScaler()\n",
    "scaler.fit(x_real[0].reshape(1,-1))\n",
    "x_real = scaler.transform(x_real)\n",
    "\n",
    "generator = Generator(latent_dim)\n",
    "discriminator = Discriminator(output_dim)\n",
    "\n",
    "gan = GAN(latent_dim, generator, discriminator, z, scaler)\n",
    "gan.compile(\n",
    "    tf.keras.optimizers.Adam(learning_rate=lr_gen, beta_1=beta_1_gen),\n",
    "    tf.keras.optimizers.Adam(learning_rate=lr_disc, beta_1=beta_1_disc), \n",
    "    tf.keras.losses.BinaryCrossentropy(from_logits=True),\n",
    ")\n",
    "\n",
    "gan_checkpoint_path = os.path.join(outdir,\"ckpt/gan.ckpt\")\n",
    "g_checkpoint_path = os.path.join(outdir,\"ckpt/generator.ckpt\")\n",
    "d_checkpoint_path = os.path.join(outdir,\"ckpt/discriminator.ckpt\")\n",
    "\n",
    "# load the best model\n",
    "gan.load_weights(gan_checkpoint_path)\n",
    "\n",
    "x = gan.generator(tf.random.normal((1,latent_dim)))\n",
    "x = scaler.inverse_transform(x)\n",
    "plt.figure()\n",
    "plt.scatter(z, np.reshape(x, (output_dim) ), s=2)\n",
    "plt.title('Generated output')\n",
    "plt.xlabel('z')\n",
    "plt.ylabel('x')\n",
    "plt.xlim(0,1)\n",
    "plt.ylim(33,48.)\n",
    "plt.savefig(os.path.join(outdir, 'fig/sample_out.png'))\n",
    "plt.draw()\n",
    "plt.pause(0.001)\n",
    "#plt.show()\n",
    "\n",
    "input('Press enter to continue...')\n"
   ]
  },
  {
   "cell_type": "code",
   "execution_count": null,
   "id": "e839f2ad",
   "metadata": {},
   "outputs": [],
   "source": []
  }
 ],
 "metadata": {
  "kernelspec": {
   "display_name": "Python 3 (ipykernel)",
   "language": "python",
   "name": "python3"
  },
  "language_info": {
   "codemirror_mode": {
    "name": "ipython",
    "version": 3
   },
   "file_extension": ".py",
   "mimetype": "text/x-python",
   "name": "python",
   "nbconvert_exporter": "python",
   "pygments_lexer": "ipython3",
   "version": "3.8.10"
  }
 },
 "nbformat": 4,
 "nbformat_minor": 5
}
